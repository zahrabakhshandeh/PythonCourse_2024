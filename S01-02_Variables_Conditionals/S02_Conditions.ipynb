{
 "cells": [
  {
   "cell_type": "markdown",
   "metadata": {},
   "source": [
    "### Session2 (Condition)"
   ]
  },
  {
   "cell_type": "code",
   "execution_count": 3,
   "metadata": {},
   "outputs": [
    {
     "name": "stdout",
     "output_type": "stream",
     "text": [
      "12 10\n"
     ]
    }
   ],
   "source": [
    "x = 10\n",
    "y = 12\n",
    "temp = x\n",
    "x = y\n",
    "y = temp\n",
    "print(x, y)"
   ]
  },
  {
   "cell_type": "code",
   "execution_count": 4,
   "metadata": {},
   "outputs": [
    {
     "name": "stdout",
     "output_type": "stream",
     "text": [
      "12 10\n"
     ]
    }
   ],
   "source": [
    "x = 10\n",
    "y = 12\n",
    "x, y = y, x\n",
    "print(x, y)"
   ]
  },
  {
   "cell_type": "code",
   "execution_count": 6,
   "metadata": {},
   "outputs": [
    {
     "name": "stdout",
     "output_type": "stream",
     "text": [
      "10 20\n",
      "40 40\n"
     ]
    }
   ],
   "source": [
    "x, y = 10, 20\n",
    "print(x, y)\n",
    "x = y = 40\n",
    "print(x, y)"
   ]
  },
  {
   "cell_type": "code",
   "execution_count": 14,
   "metadata": {},
   "outputs": [
    {
     "name": "stdout",
     "output_type": "stream",
     "text": [
      "<class 'float'>\n",
      "17.0\n"
     ]
    }
   ],
   "source": [
    "age = float(input(\"Enter your age: \"))\n",
    "print(type(age))\n",
    "print(age + 2)"
   ]
  },
  {
   "cell_type": "markdown",
   "metadata": {},
   "source": [
    "### Condition"
   ]
  },
  {
   "cell_type": "code",
   "execution_count": 15,
   "metadata": {},
   "outputs": [
    {
     "name": "stdout",
     "output_type": "stream",
     "text": [
      "18.5\n"
     ]
    }
   ],
   "source": [
    "num1 = float(input(\"number1: \")) ## num1 = 20\n",
    "num2 = float(input(\"number2: \")) ## num2 = 16\n",
    "if num1 > num2: ## 20 > 16 ===> True\n",
    "    print(num1) ## 20\n",
    "if num2 > num1: ## 16 > 20 ====> False\n",
    "    print(num2)"
   ]
  },
  {
   "cell_type": "code",
   "execution_count": 17,
   "metadata": {},
   "outputs": [
    {
     "name": "stdout",
     "output_type": "stream",
     "text": [
      "-\n"
     ]
    }
   ],
   "source": [
    "number = float(input(\"number: \")) ## number = 45\n",
    "if number > 0: ## 45 > 0 ====> True\n",
    "    print(\"+\") ## done  \n",
    "if number < 0: ## 45 < 0 ====> False\n",
    "    print(\"-\")"
   ]
  },
  {
   "cell_type": "code",
   "execution_count": null,
   "metadata": {},
   "outputs": [],
   "source": [
    "number = float(input(\"number: \")) ## number = 45\n",
    "if number > 0: ## 45 > 0 ====> True\n",
    "    print(\"+\") ## done  \n",
    "else: \n",
    "    print(\"-\")"
   ]
  },
  {
   "cell_type": "code",
   "execution_count": null,
   "metadata": {},
   "outputs": [],
   "source": [
    "## if book == \"python\":\n",
    "##      ............. \n",
    "## else if book == \"java\":\n",
    "##      ..............\n",
    "## else if book == \"c++\":\n",
    "##      ..............\n",
    "## else if book == \"js\":\n",
    "##      ..............\n",
    "## else:\n",
    "##      .............."
   ]
  },
  {
   "cell_type": "code",
   "execution_count": 18,
   "metadata": {},
   "outputs": [
    {
     "name": "stdout",
     "output_type": "stream",
     "text": [
      "30\n"
     ]
    }
   ],
   "source": [
    "num1 = 20  # 1\n",
    "num2 = 30  # 2\n",
    "if num1 > num2: # 20 > 30 ===> False  3\n",
    "    print(num1)\n",
    "elif num2 > num1: # 30 > 20 ===> True  4\n",
    "    print(num2)   # 5\n",
    "else:\n",
    "    print(\"Equal!\")"
   ]
  },
  {
   "cell_type": "code",
   "execution_count": null,
   "metadata": {},
   "outputs": [],
   "source": []
  }
 ],
 "metadata": {
  "kernelspec": {
   "display_name": "base",
   "language": "python",
   "name": "python3"
  },
  "language_info": {
   "codemirror_mode": {
    "name": "ipython",
    "version": 3
   },
   "file_extension": ".py",
   "mimetype": "text/x-python",
   "name": "python",
   "nbconvert_exporter": "python",
   "pygments_lexer": "ipython3",
   "version": "3.9.13"
  }
 },
 "nbformat": 4,
 "nbformat_minor": 2
}
