{
 "cells": [
  {
   "cell_type": "markdown",
   "metadata": {},
   "source": [
    "### Session2 (Condition)"
   ]
  },
  {
   "cell_type": "code",
   "execution_count": 3,
   "metadata": {},
   "outputs": [
    {
     "name": "stdout",
     "output_type": "stream",
     "text": [
      "12 10\n"
     ]
    }
   ],
   "source": [
    "x = 10\n",
    "y = 12\n",
    "temp = x\n",
    "x = y\n",
    "y = temp\n",
    "print(x, y)"
   ]
  },
  {
   "cell_type": "code",
   "execution_count": 4,
   "metadata": {},
   "outputs": [
    {
     "name": "stdout",
     "output_type": "stream",
     "text": [
      "12 10\n"
     ]
    }
   ],
   "source": [
    "x = 10\n",
    "y = 12\n",
    "x, y = y, x\n",
    "print(x, y)"
   ]
  },
  {
   "cell_type": "code",
   "execution_count": 6,
   "metadata": {},
   "outputs": [
    {
     "name": "stdout",
     "output_type": "stream",
     "text": [
      "10 20\n",
      "40 40\n"
     ]
    }
   ],
   "source": [
    "x, y = 10, 20\n",
    "print(x, y)\n",
    "x = y = 40\n",
    "print(x, y)"
   ]
  },
  {
   "cell_type": "code",
   "execution_count": 14,
   "metadata": {},
   "outputs": [
    {
     "name": "stdout",
     "output_type": "stream",
     "text": [
      "<class 'float'>\n",
      "17.0\n"
     ]
    }
   ],
   "source": [
    "age = float(input(\"Enter your age: \"))\n",
    "print(type(age))\n",
    "print(age + 2)"
   ]
  },
  {
   "cell_type": "markdown",
   "metadata": {},
   "source": [
    "### Condition"
   ]
  },
  {
   "cell_type": "code",
   "execution_count": 15,
   "metadata": {},
   "outputs": [
    {
     "name": "stdout",
     "output_type": "stream",
     "text": [
      "18.5\n"
     ]
    }
   ],
   "source": [
    "num1 = float(input(\"number1: \")) ## num1 = 20\n",
    "num2 = float(input(\"number2: \")) ## num2 = 16\n",
    "if num1 > num2: ## 20 > 16 ===> True\n",
    "    print(num1) ## 20\n",
    "if num2 > num1: ## 16 > 20 ====> False\n",
    "    print(num2)"
   ]
  },
  {
   "cell_type": "code",
   "execution_count": 17,
   "metadata": {},
   "outputs": [
    {
     "name": "stdout",
     "output_type": "stream",
     "text": [
      "-\n"
     ]
    }
   ],
   "source": [
    "number = float(input(\"number: \")) ## number = 45\n",
    "if number > 0: ## 45 > 0 ====> True\n",
    "    print(\"+\") ## done  \n",
    "if number < 0: ## 45 < 0 ====> False\n",
    "    print(\"-\")"
   ]
  },
  {
   "cell_type": "code",
   "execution_count": null,
   "metadata": {},
   "outputs": [],
   "source": [
    "number = float(input(\"number: \")) ## number = 45\n",
    "if number > 0: ## 45 > 0 ====> True\n",
    "    print(\"+\") ## done  \n",
    "else: \n",
    "    print(\"-\")"
   ]
  },
  {
   "cell_type": "code",
   "execution_count": null,
   "metadata": {},
   "outputs": [],
   "source": [
    "## if book == \"python\":\n",
    "##      ............. \n",
    "## else if book == \"java\":\n",
    "##      ..............\n",
    "## else if book == \"c++\":\n",
    "##      ..............\n",
    "## else if book == \"js\":\n",
    "##      ..............\n",
    "## else:\n",
    "##      .............."
   ]
  },
  {
   "cell_type": "code",
   "execution_count": 18,
   "metadata": {},
   "outputs": [
    {
     "name": "stdout",
     "output_type": "stream",
     "text": [
      "30\n"
     ]
    }
   ],
   "source": [
    "num1 = 20  # 1\n",
    "num2 = 30  # 2\n",
    "if num1 > num2: # 20 > 30 ===> False  3\n",
    "    print(num1)\n",
    "elif num2 > num1: # 30 > 20 ===> True  4\n",
    "    print(num2)   # 5\n",
    "else:\n",
    "    print(\"Equal!\")"
   ]
  },
  {
   "cell_type": "code",
   "execution_count": null,
   "metadata": {},
   "outputs": [],
   "source": [
    "user_name = \"user1\"\n",
    "password = \"123\"\n",
    "new_use_name = input(\"user name: \")\n",
    "new_password = input(\"password: \")\n",
    "if user_name == new_use_name and password == new_password:\n",
    "    print(\"Login!\")\n",
    "elif user_name != new_use_name and password != new_password:\n",
    "    print(\"Error! password, user name\")\n",
    "elif user_name != new_use_name and password == new_password: # is not correct\n",
    "    print(\"Error! use name\")\n",
    "else:\n",
    "    print(\"Error! Password\")\n"
   ]
  },
  {
   "cell_type": "code",
   "execution_count": 19,
   "metadata": {},
   "outputs": [
    {
     "name": "stdout",
     "output_type": "stream",
     "text": [
      "Login!\n"
     ]
    }
   ],
   "source": [
    "user_name = \"user1\"\n",
    "password = \"123\"\n",
    "new_use_name = input(\"user name: \")\n",
    "new_password = input(\"password: \")\n",
    "if user_name == new_use_name and password == new_password:\n",
    "    print(\"Login!\")\n",
    "elif user_name != new_use_name and password != new_password:\n",
    "    print(\"Error! password, user name\")\n",
    "elif user_name != new_use_name:\n",
    "    print(\"Error! use name\")\n",
    "else:\n",
    "    print(\"Error! Password\")\n"
   ]
  },
  {
   "cell_type": "code",
   "execution_count": null,
   "metadata": {},
   "outputs": [],
   "source": [
    "## limit: scoore >= 0 and score <= 20 \n",
    "## score <= 20 and score >= 17 ===> A++\n",
    "## score < 17 and score >= 15 ===> A+\n",
    "## score < 15 and score >= 10 ===> A\n",
    "## score < 10 and score >= 0 ===> B"
   ]
  },
  {
   "cell_type": "code",
   "execution_count": null,
   "metadata": {},
   "outputs": [],
   "source": [
    "score = 18 # 1\n",
    "if score > 20 or score < 0: # False  2\n",
    "    print(\"out of range!\")\n",
    "elif score >= 17: # True  3\n",
    "    print(\"A++\")  # A++ 4\n",
    "elif score >= 15:\n",
    "    print(\"A+\")\n",
    "elif score >= 10:\n",
    "    print(\"A\")\n",
    "else:\n",
    "    print(\"B\")"
   ]
  },
  {
   "cell_type": "code",
   "execution_count": null,
   "metadata": {},
   "outputs": [],
   "source": [
    "## this method is not correct\n",
    "num1 = 23\n",
    "num2 = 34\n",
    "num3 = 71\n",
    "if num1 > num2 and num1 > num3:\n",
    "    print(num1)\n",
    "elif num2 > num1 and num2 > num3:\n",
    "    print(num2)\n",
    "else:\n",
    "    print(num3)"
   ]
  },
  {
   "cell_type": "code",
   "execution_count": 21,
   "metadata": {},
   "outputs": [
    {
     "name": "stdout",
     "output_type": "stream",
     "text": [
      "34\n"
     ]
    }
   ],
   "source": [
    "## this method is not correct\n",
    "num1 = 23\n",
    "num2 = 34\n",
    "num3 = 71\n",
    "\n",
    "max_num = num1 # max_num = 23\n",
    "if num2 > max_num: # 34 > 23 ???? True \n",
    "    max_num = num2  # max_num = 34\n",
    "elif num3 > max_num:\n",
    "    max_num = num3\n",
    "print(max_num)"
   ]
  },
  {
   "cell_type": "code",
   "execution_count": 22,
   "metadata": {},
   "outputs": [
    {
     "name": "stdout",
     "output_type": "stream",
     "text": [
      "71\n"
     ]
    }
   ],
   "source": [
    "## this method is not correct\n",
    "num1 = 23\n",
    "num2 = 34\n",
    "num3 = 71\n",
    "\n",
    "max_num = num1 # max_num = 23\n",
    "if num2 > max_num: # 34 > 23 ???? True \n",
    "    max_num = num2  # max_num = 34\n",
    "if num3 > max_num: # 71 > 34 ====> True\n",
    "    max_num = num3 # max_num = 71\n",
    "print(max_num)"
   ]
  },
  {
   "cell_type": "code",
   "execution_count": null,
   "metadata": {},
   "outputs": [],
   "source": [
    "# FizzBazz\n",
    "# number % 2 == 0 ====> F\n",
    "# number % 3 == 0 ====> B\n",
    "# number % 2 == 0 and number % 3 == 0 ====> FB\n",
    "# else ======> number"
   ]
  },
  {
   "cell_type": "code",
   "execution_count": 26,
   "metadata": {},
   "outputs": [
    {
     "name": "stdout",
     "output_type": "stream",
     "text": [
      "F\n"
     ]
    }
   ],
   "source": [
    "## is not correct\n",
    "number = 6\n",
    "if number % 2 == 0: # 6 % 2 == 0    True\n",
    "    print(\"F\")\n",
    "elif number % 3 == 0:\n",
    "    print(\"B\")\n",
    "elif number % 2 == 0 and number % 3 == 0:\n",
    "    print(\"FB\")\n",
    "else:\n",
    "    print(number)"
   ]
  },
  {
   "cell_type": "code",
   "execution_count": 27,
   "metadata": {},
   "outputs": [
    {
     "name": "stdout",
     "output_type": "stream",
     "text": [
      "FB\n"
     ]
    }
   ],
   "source": [
    "number = 6\n",
    "if number % 2 == 0 and number % 3 == 0:\n",
    "    print(\"FB\")\n",
    "elif number % 2 == 0: \n",
    "    print(\"F\")\n",
    "elif number % 3 == 0:\n",
    "    print(\"B\")\n",
    "else:\n",
    "    print(number)"
   ]
  }
 ],
 "metadata": {
  "kernelspec": {
   "display_name": "base",
   "language": "python",
   "name": "python3"
  },
  "language_info": {
   "codemirror_mode": {
    "name": "ipython",
    "version": 3
   },
   "file_extension": ".py",
   "mimetype": "text/x-python",
   "name": "python",
   "nbconvert_exporter": "python",
   "pygments_lexer": "ipython3",
   "version": "3.9.13"
  }
 },
 "nbformat": 4,
 "nbformat_minor": 2
}
