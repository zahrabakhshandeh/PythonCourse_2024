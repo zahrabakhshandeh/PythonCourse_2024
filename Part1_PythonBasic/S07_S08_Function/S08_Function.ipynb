{
 "cells": [
  {
   "cell_type": "markdown",
   "metadata": {},
   "source": [
    "### Session08 (Function)"
   ]
  },
  {
   "cell_type": "markdown",
   "metadata": {},
   "source": [
    "#### default variables"
   ]
  },
  {
   "cell_type": "code",
   "execution_count": 11,
   "metadata": {},
   "outputs": [],
   "source": [
    "def sum_scores(c, math=0, python=0, java=0):\n",
    "    sum_ = math + python + java\n",
    "    print(f\"MATH: {math}, Python: {python}, Java:{java}\")\n",
    "    return sum_"
   ]
  },
  {
   "cell_type": "code",
   "execution_count": 12,
   "metadata": {},
   "outputs": [
    {
     "name": "stdout",
     "output_type": "stream",
     "text": [
      "MATH: 10, Python: 0, Java:20\n",
      "30\n"
     ]
    }
   ],
   "source": [
    "result = sum_scores(10, math=10, java=20)\n",
    "print(result)"
   ]
  },
  {
   "cell_type": "code",
   "execution_count": 15,
   "metadata": {},
   "outputs": [],
   "source": [
    "def calculate_total_price(cart, discount=0, is_tax=True, tax_rate=0.07):\n",
    "    total_price = sum(cart)\n",
    "    if discount:\n",
    "        total_price -= total_price * discount \n",
    "    if is_tax:\n",
    "        total_price += total_price * tax_rate \n",
    "    return round(total_price, 3)"
   ]
  },
  {
   "cell_type": "code",
   "execution_count": 18,
   "metadata": {},
   "outputs": [
    {
     "name": "stdout",
     "output_type": "stream",
     "text": [
      "Total price (discount 0.05):  761.358\n",
      "Total price (with tax) 801.43\n",
      "Total price (with tax 0.05) 786.45\n"
     ]
    }
   ],
   "source": [
    "cart = [120, 200, 129, 300]\n",
    "print(\"Total price (discount 0.05): \", calculate_total_price(cart, discount=0.05))\n",
    "print(\"Total price (with tax)\", calculate_total_price(cart))\n",
    "print(\"Total price (with tax 0.05)\", calculate_total_price(cart, tax_rate=0.05))"
   ]
  },
  {
   "cell_type": "markdown",
   "metadata": {},
   "source": [
    "### lambda"
   ]
  },
  {
   "cell_type": "code",
   "execution_count": 21,
   "metadata": {},
   "outputs": [],
   "source": [
    "def f1(x):\n",
    "    return x + 4"
   ]
  },
  {
   "cell_type": "code",
   "execution_count": 22,
   "metadata": {},
   "outputs": [
    {
     "name": "stdout",
     "output_type": "stream",
     "text": [
      "7\n"
     ]
    }
   ],
   "source": [
    "res = f1(3)\n",
    "print(res)"
   ]
  },
  {
   "cell_type": "code",
   "execution_count": 23,
   "metadata": {},
   "outputs": [
    {
     "name": "stdout",
     "output_type": "stream",
     "text": [
      "11\n"
     ]
    }
   ],
   "source": [
    "## lambda  arguments: body \n",
    "f2 = lambda x: x + 4 \n",
    "res = f2(7)\n",
    "print(res)"
   ]
  },
  {
   "cell_type": "code",
   "execution_count": 24,
   "metadata": {},
   "outputs": [
    {
     "name": "stdout",
     "output_type": "stream",
     "text": [
      "13\n"
     ]
    }
   ],
   "source": [
    "## lambda  arguments: body \n",
    "f2 = lambda x, y: x + y\n",
    "res = f2(7, 6)\n",
    "print(res)"
   ]
  },
  {
   "cell_type": "markdown",
   "metadata": {},
   "source": [
    "#### map"
   ]
  },
  {
   "cell_type": "code",
   "execution_count": 25,
   "metadata": {},
   "outputs": [
    {
     "name": "stdout",
     "output_type": "stream",
     "text": [
      "[12, 34, 78]\n"
     ]
    }
   ],
   "source": [
    "list1 = [\"12\", \"34\", \"78\"]\n",
    "list2 = []\n",
    "for i in list1:\n",
    "    list2.append(int(i))\n",
    "print(list2)"
   ]
  },
  {
   "cell_type": "code",
   "execution_count": 27,
   "metadata": {},
   "outputs": [
    {
     "name": "stdout",
     "output_type": "stream",
     "text": [
      "[12, 34, 78]\n"
     ]
    }
   ],
   "source": [
    "list1 = [\"12\", \"34\", \"78\"]\n",
    "list2 = list(map(int, list1))\n",
    "print(list2)\n",
    "#int(list1)"
   ]
  },
  {
   "cell_type": "code",
   "execution_count": 28,
   "metadata": {},
   "outputs": [],
   "source": [
    "def sum_numbers(num1, num2, num3):\n",
    "    return num1 + num2 + num3"
   ]
  },
  {
   "cell_type": "code",
   "execution_count": 32,
   "metadata": {},
   "outputs": [
    {
     "name": "stdout",
     "output_type": "stream",
     "text": [
      "[36, 39, 45, 30]\n"
     ]
    }
   ],
   "source": [
    "list1 = [12, 13, 15, 10, 40]\n",
    "list2 = [12, 13, 15, 10]\n",
    "list3 = [12, 13, 15, 10]\n",
    "# (12, 12, 12)=36, (13, 13, 13)=39, (15, 15, 15)=45, (10, 10, 10)=30\n",
    "# (40)\n",
    "sum_numbers = lambda x, y, z: x + y + z\n",
    "list4 = list(map(sum_numbers, list1, list2, list3))\n",
    "print(list4)"
   ]
  },
  {
   "cell_type": "code",
   "execution_count": 54,
   "metadata": {},
   "outputs": [
    {
     "ename": "IndexError",
     "evalue": "list index out of range",
     "output_type": "error",
     "traceback": [
      "\u001b[0;31m---------------------------------------------------------------------------\u001b[0m",
      "\u001b[0;31mIndexError\u001b[0m                                Traceback (most recent call last)",
      "\u001b[0;32m/tmp/ipykernel_13478/2120603878.py\u001b[0m in \u001b[0;36m<module>\u001b[0;34m\u001b[0m\n\u001b[1;32m      4\u001b[0m \u001b[0mlist4\u001b[0m \u001b[0;34m=\u001b[0m \u001b[0;34m[\u001b[0m\u001b[0;34m]\u001b[0m\u001b[0;34m\u001b[0m\u001b[0;34m\u001b[0m\u001b[0m\n\u001b[1;32m      5\u001b[0m \u001b[0;32mfor\u001b[0m \u001b[0mi\u001b[0m \u001b[0;32min\u001b[0m \u001b[0mrange\u001b[0m\u001b[0;34m(\u001b[0m\u001b[0mlen\u001b[0m\u001b[0;34m(\u001b[0m\u001b[0mlist1\u001b[0m\u001b[0;34m)\u001b[0m\u001b[0;34m)\u001b[0m\u001b[0;34m:\u001b[0m\u001b[0;34m\u001b[0m\u001b[0;34m\u001b[0m\u001b[0m\n\u001b[0;32m----> 6\u001b[0;31m     \u001b[0mlist4\u001b[0m\u001b[0;34m.\u001b[0m\u001b[0mappend\u001b[0m\u001b[0;34m(\u001b[0m\u001b[0mlist1\u001b[0m\u001b[0;34m[\u001b[0m\u001b[0mi\u001b[0m\u001b[0;34m]\u001b[0m\u001b[0;34m+\u001b[0m\u001b[0mlist2\u001b[0m\u001b[0;34m[\u001b[0m\u001b[0mi\u001b[0m\u001b[0;34m]\u001b[0m\u001b[0;34m+\u001b[0m\u001b[0mlist3\u001b[0m\u001b[0;34m[\u001b[0m\u001b[0mi\u001b[0m\u001b[0;34m]\u001b[0m\u001b[0;34m)\u001b[0m\u001b[0;34m\u001b[0m\u001b[0;34m\u001b[0m\u001b[0m\n\u001b[0m\u001b[1;32m      7\u001b[0m \u001b[0mprint\u001b[0m\u001b[0;34m(\u001b[0m\u001b[0mlist4\u001b[0m\u001b[0;34m)\u001b[0m\u001b[0;34m\u001b[0m\u001b[0;34m\u001b[0m\u001b[0m\n",
      "\u001b[0;31mIndexError\u001b[0m: list index out of range"
     ]
    }
   ],
   "source": [
    "list1 = [12, 13, 15, 10, 50]\n",
    "list2 = [12, 13, 15, 10]\n",
    "list3 = [12, 13, 15, 10]\n",
    "list4 = []\n",
    "for i in range(len(list1)):\n",
    "    list4.append(list1[i]+list2[i]+list3[i])\n",
    "print(list4)"
   ]
  },
  {
   "cell_type": "code",
   "execution_count": null,
   "metadata": {},
   "outputs": [],
   "source": [
    "list1 = [12, 13, 15, 10, 40]\n",
    "list2 = [12, 13, 15, 10]\n",
    "list3 = [12, 13, 15, 10]\n",
    "# (12, 12, 12)=36, (13, 13, 13)=39, (15, 15, 15)=45, (10, 10, 10)=30\n",
    "# (40)\n",
    "list4 = list(map(lambda x, y, z: x + y + z, list1, list2, list3))\n",
    "print(list4)"
   ]
  },
  {
   "cell_type": "code",
   "execution_count": 33,
   "metadata": {},
   "outputs": [
    {
     "name": "stdout",
     "output_type": "stream",
     "text": [
      "[17, 18, 20, 15, 45]\n"
     ]
    }
   ],
   "source": [
    "list1 = [12, 13, 15, 10, 40]\n",
    "list2 = list(map(lambda x: x+5, list1))\n",
    "print(list2)"
   ]
  },
  {
   "cell_type": "markdown",
   "metadata": {},
   "source": [
    "#### any"
   ]
  },
  {
   "cell_type": "code",
   "execution_count": 36,
   "metadata": {},
   "outputs": [
    {
     "name": "stdout",
     "output_type": "stream",
     "text": [
      "True\n"
     ]
    }
   ],
   "source": [
    "list2 = [False, False, True, False]\n",
    "result = any(list2)\n",
    "print(result)"
   ]
  },
  {
   "cell_type": "code",
   "execution_count": 38,
   "metadata": {},
   "outputs": [
    {
     "name": "stdout",
     "output_type": "stream",
     "text": [
      "True\n"
     ]
    }
   ],
   "source": [
    "list2 = [\"\", 1, [], None]\n",
    "result = any(list2)\n",
    "print(result)"
   ]
  },
  {
   "cell_type": "code",
   "execution_count": 40,
   "metadata": {},
   "outputs": [
    {
     "name": "stdout",
     "output_type": "stream",
     "text": [
      "[True, False, False, False, True]\n",
      "True\n"
     ]
    }
   ],
   "source": [
    "numbers = [12, 13, 17, 19, 10]\n",
    "result = list(map(lambda x: x %2 == 0, numbers))\n",
    "print(result)\n",
    "result = any(result)\n",
    "print(result)"
   ]
  },
  {
   "cell_type": "code",
   "execution_count": 42,
   "metadata": {},
   "outputs": [
    {
     "name": "stdout",
     "output_type": "stream",
     "text": [
      "False\n"
     ]
    }
   ],
   "source": [
    "numbers = [11, 13, 17, 19, 19]\n",
    "result = any(map(lambda x: x %2 == 0, numbers))\n",
    "print(result)"
   ]
  },
  {
   "cell_type": "code",
   "execution_count": 46,
   "metadata": {},
   "outputs": [
    {
     "name": "stdout",
     "output_type": "stream",
     "text": [
      "[14, 15, 16, 20]\n"
     ]
    }
   ],
   "source": [
    "list2 = [12, 13, 14, 18]\n",
    "list3 = []\n",
    "for n in list2:\n",
    "    list3.append(n+2)\n",
    "print(list3)"
   ]
  },
  {
   "cell_type": "code",
   "execution_count": 48,
   "metadata": {},
   "outputs": [
    {
     "name": "stdout",
     "output_type": "stream",
     "text": [
      "[14, 15, 16, 20]\n"
     ]
    }
   ],
   "source": [
    "list2 = [12, 13, 14, 18]\n",
    "sum_num = lambda x: x + 2\n",
    "list3 = list(map(sum_num, list2))\n",
    "print(list3)"
   ]
  },
  {
   "cell_type": "markdown",
   "metadata": {},
   "source": [
    "### filter"
   ]
  },
  {
   "cell_type": "code",
   "execution_count": 56,
   "metadata": {},
   "outputs": [
    {
     "name": "stdout",
     "output_type": "stream",
     "text": [
      "[12, 20, 18]\n"
     ]
    }
   ],
   "source": [
    "def is_even(number):\n",
    "    return number % 2 == 0 \n",
    "\n",
    "numbers = [12, 17, 19, 20, 18]\n",
    "result = list(filter(is_even, numbers))\n",
    "print(result)"
   ]
  },
  {
   "cell_type": "code",
   "execution_count": 57,
   "metadata": {},
   "outputs": [
    {
     "name": "stdout",
     "output_type": "stream",
     "text": [
      "[12, 20, 18]\n"
     ]
    }
   ],
   "source": [
    "numbers = [12, 17, 19, 20, 18]\n",
    "result = list(filter(lambda x: x%2==0, numbers))\n",
    "print(result)"
   ]
  },
  {
   "cell_type": "code",
   "execution_count": 58,
   "metadata": {},
   "outputs": [
    {
     "name": "stdout",
     "output_type": "stream",
     "text": [
      "['python', 'java']\n"
     ]
    }
   ],
   "source": [
    "list4 = [\"python\", \"java\", \"c++\", \"js\"]\n",
    "result = list(filter(lambda x: len(x)>3, list4))\n",
    "print(result)"
   ]
  },
  {
   "cell_type": "code",
   "execution_count": 59,
   "metadata": {},
   "outputs": [
    {
     "name": "stdout",
     "output_type": "stream",
     "text": [
      "[12, 13, 20]\n"
     ]
    }
   ],
   "source": [
    "list2 = [12, 13, 20, 4, 2, 10]\n",
    "list3 = []\n",
    "for n in list2:\n",
    "    if n > 10:\n",
    "        list3.append(n)\n",
    "print(list3)"
   ]
  },
  {
   "cell_type": "code",
   "execution_count": 68,
   "metadata": {},
   "outputs": [],
   "source": [
    "def f2(x):\n",
    "    if x > 10:\n",
    "        return x\n",
    "    return \"\""
   ]
  },
  {
   "cell_type": "code",
   "execution_count": 69,
   "metadata": {},
   "outputs": [
    {
     "name": "stdout",
     "output_type": "stream",
     "text": [
      "[12, 13, 20, '', '', '']\n"
     ]
    }
   ],
   "source": [
    "result = list(map(f2, list2))\n",
    "print(result)"
   ]
  },
  {
   "cell_type": "code",
   "execution_count": 63,
   "metadata": {},
   "outputs": [
    {
     "name": "stdout",
     "output_type": "stream",
     "text": [
      "20\n"
     ]
    }
   ],
   "source": [
    "f2 = lambda x: x if x > 10 else 0\n",
    "res = f2(20)\n",
    "print(res)"
   ]
  }
 ],
 "metadata": {
  "kernelspec": {
   "display_name": "base",
   "language": "python",
   "name": "python3"
  },
  "language_info": {
   "codemirror_mode": {
    "name": "ipython",
    "version": 3
   },
   "file_extension": ".py",
   "mimetype": "text/x-python",
   "name": "python",
   "nbconvert_exporter": "python",
   "pygments_lexer": "ipython3",
   "version": "3.9.13"
  }
 },
 "nbformat": 4,
 "nbformat_minor": 2
}
