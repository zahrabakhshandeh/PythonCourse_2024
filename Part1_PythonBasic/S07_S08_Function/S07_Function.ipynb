{
 "cells": [
  {
   "cell_type": "markdown",
   "metadata": {},
   "source": [
    "### Session07 (Functions)"
   ]
  },
  {
   "cell_type": "code",
   "execution_count": 1,
   "metadata": {},
   "outputs": [
    {
     "name": "stdout",
     "output_type": "stream",
     "text": [
      "452.16\n"
     ]
    }
   ],
   "source": [
    "r = int(input(\"radius: \"))\n",
    "pi = 3.14 \n",
    "if r >= 0:\n",
    "    area = pi * r ** 2\n",
    "    print(area)\n",
    "else:\n",
    "    print(-1)"
   ]
  },
  {
   "cell_type": "code",
   "execution_count": 2,
   "metadata": {},
   "outputs": [
    {
     "name": "stdout",
     "output_type": "stream",
     "text": [
      "28.26\n"
     ]
    }
   ],
   "source": [
    "r = int(input(\"radius: \"))\n",
    "pi = 3.14 \n",
    "if r >= 0:\n",
    "    area = pi * r ** 2\n",
    "    print(area)\n",
    "else:\n",
    "    print(-1)"
   ]
  },
  {
   "cell_type": "code",
   "execution_count": 3,
   "metadata": {},
   "outputs": [],
   "source": [
    "def calculate_area():\n",
    "    r = int(input(\"radius: \"))\n",
    "    pi = 3.14 \n",
    "    if r >= 0:\n",
    "        area = pi * r ** 2\n",
    "        print(area)\n",
    "    else:\n",
    "        print(-1)"
   ]
  },
  {
   "cell_type": "code",
   "execution_count": 4,
   "metadata": {},
   "outputs": [
    {
     "name": "stdout",
     "output_type": "stream",
     "text": [
      "12.56\n"
     ]
    }
   ],
   "source": [
    "calculate_area()"
   ]
  },
  {
   "cell_type": "code",
   "execution_count": 5,
   "metadata": {},
   "outputs": [
    {
     "name": "stdout",
     "output_type": "stream",
     "text": [
      "28.26\n"
     ]
    }
   ],
   "source": [
    "calculate_area()"
   ]
  },
  {
   "cell_type": "code",
   "execution_count": 6,
   "metadata": {},
   "outputs": [
    {
     "name": "stdout",
     "output_type": "stream",
     "text": [
      "452.16\n",
      "1661.0600000000002\n",
      "314.0\n"
     ]
    }
   ],
   "source": [
    "for i in range(3):\n",
    "    calculate_area()"
   ]
  },
  {
   "cell_type": "markdown",
   "metadata": {},
   "source": [
    "## input in function"
   ]
  },
  {
   "cell_type": "code",
   "execution_count": 12,
   "metadata": {},
   "outputs": [],
   "source": [
    "def calculate_area1(r, pi): # r = 4 \n",
    "    if r >= 0:\n",
    "        area = pi * r ** 2\n",
    "        print(area)\n",
    "    else:\n",
    "        print(-1)"
   ]
  },
  {
   "cell_type": "code",
   "execution_count": 13,
   "metadata": {},
   "outputs": [
    {
     "name": "stdout",
     "output_type": "stream",
     "text": [
      "78.5\n"
     ]
    }
   ],
   "source": [
    "x = int(input(\"your number: \"))\n",
    "calculate_area1(x, 3.14)"
   ]
  },
  {
   "cell_type": "markdown",
   "metadata": {},
   "source": [
    "## output in function"
   ]
  },
  {
   "cell_type": "code",
   "execution_count": 15,
   "metadata": {},
   "outputs": [
    {
     "name": "stdout",
     "output_type": "stream",
     "text": [
      "[23, 18]\n",
      "None\n"
     ]
    }
   ],
   "source": [
    "list1 = [12, 23, 18]\n",
    "result = list1.remove(12)\n",
    "print(list1)\n",
    "print(result)"
   ]
  },
  {
   "cell_type": "code",
   "execution_count": 16,
   "metadata": {},
   "outputs": [
    {
     "name": "stdout",
     "output_type": "stream",
     "text": [
      "[23, 18]\n",
      "12\n"
     ]
    }
   ],
   "source": [
    "list1 = [12, 23, 18]\n",
    "result = list1.pop(0)\n",
    "print(list1)\n",
    "print(result)"
   ]
  },
  {
   "cell_type": "code",
   "execution_count": 18,
   "metadata": {},
   "outputs": [
    {
     "name": "stdout",
     "output_type": "stream",
     "text": [
      "12.56\n",
      "None\n"
     ]
    }
   ],
   "source": [
    "x = calculate_area1(2, 3.14)\n",
    "print(x)"
   ]
  },
  {
   "cell_type": "code",
   "execution_count": 51,
   "metadata": {},
   "outputs": [],
   "source": [
    "def calculate_area2(r, pi): # r = 4 \n",
    "    if r >= 0:\n",
    "        area = pi * r ** 2\n",
    "        #print(f\"Area: {area}\")\n",
    "        return area\n",
    "        #print(\"new line\")\n",
    "    else:\n",
    "        return -1"
   ]
  },
  {
   "cell_type": "code",
   "execution_count": 31,
   "metadata": {},
   "outputs": [
    {
     "name": "stdout",
     "output_type": "stream",
     "text": [
      "Area: 12.56\n",
      "end\n"
     ]
    }
   ],
   "source": [
    "calculate_area2(2, 3.14)\n",
    "print(\"end\")"
   ]
  },
  {
   "cell_type": "code",
   "execution_count": 40,
   "metadata": {},
   "outputs": [],
   "source": [
    "def calculate_area3(r, pi): # r = 4 \n",
    "    if r >= 0:\n",
    "        area = pi * r ** 2\n",
    "        circumfrenence = pi * r * 2\n",
    "        return area, circumfrenence\n",
    "    return -1, -1"
   ]
  },
  {
   "cell_type": "code",
   "execution_count": 45,
   "metadata": {},
   "outputs": [
    {
     "name": "stdout",
     "output_type": "stream",
     "text": [
      "12.56 12.56\n"
     ]
    }
   ],
   "source": [
    "x, y = calculate_area3(2, 3.14)\n",
    "print(x, y)"
   ]
  },
  {
   "cell_type": "code",
   "execution_count": 48,
   "metadata": {},
   "outputs": [],
   "source": [
    "def sum_numbers(num1, num2):\n",
    "    sum_ = num1 + num2 \n",
    "    return sum_"
   ]
  },
  {
   "cell_type": "code",
   "execution_count": 49,
   "metadata": {},
   "outputs": [],
   "source": [
    "def minus_numbers(num1, num2):\n",
    "    minus = num1 - num2 \n",
    "    return minus"
   ]
  },
  {
   "cell_type": "code",
   "execution_count": 50,
   "metadata": {},
   "outputs": [],
   "source": [
    "def calculate_result1(area1, area2):\n",
    "    if area1 != -1 and area2 != -1:\n",
    "        result = sum_numbers(area1, area2)\n",
    "        return result\n",
    "    return -1"
   ]
  },
  {
   "cell_type": "code",
   "execution_count": 55,
   "metadata": {},
   "outputs": [],
   "source": [
    "def calculate_result2(area1, area2):\n",
    "    if area1 != -1 and area2 != -1:\n",
    "        result = minus_numbers(area1, area2)\n",
    "        return result\n",
    "    return -1"
   ]
  },
  {
   "cell_type": "code",
   "execution_count": 57,
   "metadata": {},
   "outputs": [
    {
     "name": "stdout",
     "output_type": "stream",
     "text": [
      "-65.94\n"
     ]
    }
   ],
   "source": [
    "area1 = calculate_area2(2, 3.14)\n",
    "area2 = calculate_area2(5, 3.14)\n",
    "sum_ = calculate_result1(area1, area2)\n",
    "minus = calculate_result2(area1, area2)\n",
    "print(minus)"
   ]
  },
  {
   "cell_type": "code",
   "execution_count": 59,
   "metadata": {},
   "outputs": [],
   "source": [
    "def calculate_result3(area1, area2, function1):\n",
    "    if area1 != -1 and area2 != -1:\n",
    "        result = function1(area1, area2)\n",
    "        return result\n",
    "    return -1"
   ]
  },
  {
   "cell_type": "code",
   "execution_count": 60,
   "metadata": {},
   "outputs": [
    {
     "name": "stdout",
     "output_type": "stream",
     "text": [
      "-65.94\n"
     ]
    }
   ],
   "source": [
    "area1 = calculate_area2(2, 3.14)\n",
    "area2 = calculate_area2(5, 3.14)\n",
    "sum_ = calculate_result3(area1, area2, sum_numbers)\n",
    "minus = calculate_result3(area1, area2, minus_numbers)\n",
    "print(minus)"
   ]
  }
 ],
 "metadata": {
  "kernelspec": {
   "display_name": "base",
   "language": "python",
   "name": "python3"
  },
  "language_info": {
   "codemirror_mode": {
    "name": "ipython",
    "version": 3
   },
   "file_extension": ".py",
   "mimetype": "text/x-python",
   "name": "python",
   "nbconvert_exporter": "python",
   "pygments_lexer": "ipython3",
   "version": "3.9.13"
  }
 },
 "nbformat": 4,
 "nbformat_minor": 2
}
