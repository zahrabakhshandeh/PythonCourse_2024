{
 "cells": [
  {
   "cell_type": "markdown",
   "metadata": {},
   "source": [
    "### dictionay"
   ]
  },
  {
   "cell_type": "code",
   "execution_count": 4,
   "metadata": {},
   "outputs": [
    {
     "name": "stdout",
     "output_type": "stream",
     "text": [
      "{'name': 'book1', 'price': 2000, 'page': 1990, 'year': 2010}\n",
      "book1\n",
      "<class 'dict'>\n"
     ]
    }
   ],
   "source": [
    "book_details = [\"book1\", 2000, 1990, 2010]\n",
    "book_details1 = {\n",
    "    \"name\":\"book1\",\n",
    "    \"price\": 2000,\n",
    "    \"page\": 1990,\n",
    "    \"year\":2010\n",
    "    }\n",
    "print(book_details1)\n",
    "print(book_details1[\"name\"])\n",
    "print(type(book_details1))"
   ]
  },
  {
   "cell_type": "code",
   "execution_count": 7,
   "metadata": {},
   "outputs": [
    {
     "name": "stdout",
     "output_type": "stream",
     "text": [
      "<class 'dict'> <class 'dict'>\n",
      "0\n"
     ]
    }
   ],
   "source": [
    "dict1 = {}\n",
    "dict2 = dict()\n",
    "print(type(dict1), type(dict2))\n",
    "len_dict1 = len(dict1)\n",
    "print(len_dict1)"
   ]
  },
  {
   "cell_type": "markdown",
   "metadata": {},
   "source": [
    "### read"
   ]
  },
  {
   "cell_type": "code",
   "execution_count": 10,
   "metadata": {},
   "outputs": [
    {
     "ename": "KeyError",
     "evalue": "'shop_name'",
     "output_type": "error",
     "traceback": [
      "\u001b[0;31m---------------------------------------------------------------------------\u001b[0m",
      "\u001b[0;31mKeyError\u001b[0m                                  Traceback (most recent call last)",
      "\u001b[0;32m/tmp/ipykernel_51089/2277875882.py\u001b[0m in \u001b[0;36m<module>\u001b[0;34m\u001b[0m\n\u001b[1;32m      5\u001b[0m     \u001b[0;34m\"year\"\u001b[0m\u001b[0;34m:\u001b[0m\u001b[0;36m2010\u001b[0m\u001b[0;34m\u001b[0m\u001b[0;34m\u001b[0m\u001b[0m\n\u001b[1;32m      6\u001b[0m     }\n\u001b[0;32m----> 7\u001b[0;31m \u001b[0mprint\u001b[0m\u001b[0;34m(\u001b[0m\u001b[0mbook\u001b[0m\u001b[0;34m[\u001b[0m\u001b[0;34m\"shop_name\"\u001b[0m\u001b[0;34m]\u001b[0m\u001b[0;34m)\u001b[0m\u001b[0;34m\u001b[0m\u001b[0;34m\u001b[0m\u001b[0m\n\u001b[0m",
      "\u001b[0;31mKeyError\u001b[0m: 'shop_name'"
     ]
    }
   ],
   "source": [
    "book= {\n",
    "    \"name\":\"book1\",\n",
    "    \"price\": 2000,\n",
    "    \"page\": 1990,\n",
    "    \"year\":2010\n",
    "    }\n",
    "print(book[\"shop_name\"]) # KeyError"
   ]
  },
  {
   "cell_type": "code",
   "execution_count": 13,
   "metadata": {},
   "outputs": [
    {
     "name": "stdout",
     "output_type": "stream",
     "text": [
      "None\n",
      "Not Found\n"
     ]
    }
   ],
   "source": [
    "book= {\n",
    "    \"name\":\"book1\",\n",
    "    \"price\": 2000,\n",
    "    \"page\": 1990,\n",
    "    \"year\":2010\n",
    "    }\n",
    "result = book.get(\"shop_name\")\n",
    "print(result)\n",
    "\n",
    "result = book.get(\"shop_name\", \"Not Found\")\n",
    "print(result)"
   ]
  },
  {
   "cell_type": "markdown",
   "metadata": {},
   "source": [
    "### Add"
   ]
  },
  {
   "cell_type": "code",
   "execution_count": 14,
   "metadata": {},
   "outputs": [
    {
     "name": "stdout",
     "output_type": "stream",
     "text": [
      "{'name': 'book1', 'price': 2000, 'page': 1990, 'year': 2010, 'shop_name': 'shop1'}\n"
     ]
    }
   ],
   "source": [
    "book= {\n",
    "    \"name\":\"book1\",\n",
    "    \"price\": 2000,\n",
    "    \"page\": 1990,\n",
    "    \"year\":2010\n",
    "    }\n",
    "book[\"shop_name\"] = \"shop1\"\n",
    "book[\"lang\"] = \"English\"\n",
    "print(book)"
   ]
  },
  {
   "cell_type": "code",
   "execution_count": 16,
   "metadata": {},
   "outputs": [
    {
     "name": "stdout",
     "output_type": "stream",
     "text": [
      "{'name': 'book1', 'price': 2000, 'page': 1990, 'year': 2010, 'book_shop': 'shop1', 'lang': 'English'}\n"
     ]
    }
   ],
   "source": [
    "book= {\n",
    "    \"name\":\"book1\",\n",
    "    \"price\": 2000,\n",
    "    \"page\": 1990,\n",
    "    \"year\":2010\n",
    "    }\n",
    "book.update({\"book_shop\": \"shop1\", \"lang\": \"English\"})\n",
    "print(book)"
   ]
  },
  {
   "cell_type": "code",
   "execution_count": 17,
   "metadata": {},
   "outputs": [
    {
     "name": "stdout",
     "output_type": "stream",
     "text": [
      "{'name': 'book1', 'price': 2000, 'page': 1990, 'year': 2010, 'lang': 'English'}\n"
     ]
    }
   ],
   "source": [
    "book= {\n",
    "    \"name\":\"book1\",\n",
    "    \"price\": 2000,\n",
    "    }\n",
    "details = {\n",
    "    \"page\": 1990,\n",
    "    \"year\":2010,\n",
    "    \"lang\": \"English\"\n",
    "}\n",
    "book.update(details)\n",
    "print(book)"
   ]
  },
  {
   "cell_type": "markdown",
   "metadata": {},
   "source": [
    "### Edit"
   ]
  },
  {
   "cell_type": "code",
   "execution_count": 19,
   "metadata": {},
   "outputs": [
    {
     "name": "stdout",
     "output_type": "stream",
     "text": [
      "{'name': 'book1', 'price': 2000, 'shop_name': 's1'}\n",
      "{'name': 'new name', 'price': 2000, 'shop_name': 's1'}\n"
     ]
    }
   ],
   "source": [
    "book= {\n",
    "    \"name\":\"book1\",\n",
    "    \"price\": 2000,\n",
    "    }\n",
    "book[\"shop_name\"] = \"s1\"\n",
    "print(book)\n",
    "book[\"name\"] = \"new name\"\n",
    "print(book)"
   ]
  },
  {
   "cell_type": "code",
   "execution_count": 23,
   "metadata": {},
   "outputs": [
    {
     "name": "stdout",
     "output_type": "stream",
     "text": [
      "{'name': 'book1', 'price': 2000, 'page': 2000, 'year': 2012, 'lang': 'English'}\n",
      "{'page': 2000, 'year': 2012, 'lang': 'English', 'name': 'book5'}\n"
     ]
    }
   ],
   "source": [
    "book= {\n",
    "    \"name\":\"book1\",\n",
    "    \"price\": 2000,\n",
    "    \"page\": 1990,\n",
    "    \"year\":2010\n",
    "    }\n",
    "details = {\n",
    "    \"page\": 2000,\n",
    "    \"year\":2012,\n",
    "    \"lang\": \"English\"\n",
    "}\n",
    "book.update(details)\n",
    "print(book)\n",
    "details[\"name\"] = \"book5\"\n",
    "print(details)"
   ]
  },
  {
   "cell_type": "markdown",
   "metadata": {},
   "source": [
    "### Remove"
   ]
  },
  {
   "cell_type": "code",
   "execution_count": 29,
   "metadata": {},
   "outputs": [
    {
     "name": "stdout",
     "output_type": "stream",
     "text": [
      "{'price': 2000, 'page': 1990, 'year': 2010} book1\n",
      "{'price': 2000, 'page': 1990, 'year': 2010} shop_name not found\n"
     ]
    }
   ],
   "source": [
    "book= {\n",
    "    \"name\":\"book1\",\n",
    "    \"price\": 2000,\n",
    "    \"page\": 1990,\n",
    "    \"year\":2010\n",
    "}\n",
    "result = book.pop(\"name\")\n",
    "print(book, result)\n",
    "\n",
    "result = book.pop(\"shop_name\", \"shop_name not found\")\n",
    "print(book, result)"
   ]
  },
  {
   "cell_type": "code",
   "execution_count": 31,
   "metadata": {},
   "outputs": [
    {
     "name": "stdout",
     "output_type": "stream",
     "text": [
      "{'name': 'book1', 'price': 2000, 'page': 1990} ('year', 2010)\n"
     ]
    }
   ],
   "source": [
    "book= {\n",
    "    \"name\":\"book1\",\n",
    "    \"price\": 2000,\n",
    "    \"page\": 1990,\n",
    "    \"year\":2010\n",
    "}\n",
    "result = book.popitem()\n",
    "print(book, result)"
   ]
  },
  {
   "cell_type": "code",
   "execution_count": 32,
   "metadata": {},
   "outputs": [
    {
     "name": "stdout",
     "output_type": "stream",
     "text": [
      "{'price': 2000, 'page': 1990, 'year': 2010}\n"
     ]
    }
   ],
   "source": [
    "book= {\n",
    "    \"name\":\"book1\",\n",
    "    \"price\": 2000,\n",
    "    \"page\": 1990,\n",
    "    \"year\":2010\n",
    "}\n",
    "del book[\"name\"]\n",
    "print(book)"
   ]
  },
  {
   "cell_type": "code",
   "execution_count": 34,
   "metadata": {},
   "outputs": [
    {
     "name": "stdout",
     "output_type": "stream",
     "text": [
      "{}\n"
     ]
    }
   ],
   "source": [
    "book= {\n",
    "    \"name\":\"book1\",\n",
    "    \"price\": 2000,\n",
    "    \"page\": 1990,\n",
    "    \"year\":2010\n",
    "}\n",
    "book.clear()\n",
    "print(book)"
   ]
  },
  {
   "cell_type": "code",
   "execution_count": 33,
   "metadata": {},
   "outputs": [
    {
     "ename": "NameError",
     "evalue": "name 'book' is not defined",
     "output_type": "error",
     "traceback": [
      "\u001b[0;31m---------------------------------------------------------------------------\u001b[0m",
      "\u001b[0;31mNameError\u001b[0m                                 Traceback (most recent call last)",
      "\u001b[0;32m/tmp/ipykernel_51089/4006711924.py\u001b[0m in \u001b[0;36m<module>\u001b[0;34m\u001b[0m\n\u001b[1;32m      6\u001b[0m }\n\u001b[1;32m      7\u001b[0m \u001b[0;32mdel\u001b[0m \u001b[0mbook\u001b[0m\u001b[0;34m\u001b[0m\u001b[0;34m\u001b[0m\u001b[0m\n\u001b[0;32m----> 8\u001b[0;31m \u001b[0mprint\u001b[0m\u001b[0;34m(\u001b[0m\u001b[0mbook\u001b[0m\u001b[0;34m)\u001b[0m\u001b[0;34m\u001b[0m\u001b[0;34m\u001b[0m\u001b[0m\n\u001b[0m",
      "\u001b[0;31mNameError\u001b[0m: name 'book' is not defined"
     ]
    }
   ],
   "source": [
    "book= {\n",
    "    \"name\":\"book1\",\n",
    "    \"price\": 2000,\n",
    "    \"page\": 1990,\n",
    "    \"year\":2010\n",
    "}\n",
    "del book \n",
    "print(book)"
   ]
  },
  {
   "cell_type": "markdown",
   "metadata": {},
   "source": [
    "### Search"
   ]
  },
  {
   "cell_type": "code",
   "execution_count": 45,
   "metadata": {},
   "outputs": [
    {
     "name": "stdout",
     "output_type": "stream",
     "text": [
      "['name', 'price', 'page', 'year']\n",
      "dict_values(['book1', 2000, 1990, 2010])\n",
      "('page', 1990)\n"
     ]
    }
   ],
   "source": [
    "book= {\n",
    "    \"name\":\"book1\",\n",
    "    \"price\": 2000,\n",
    "    \"page\": 1990,\n",
    "    \"year\":2010\n",
    "}\n",
    "\n",
    "book_keys = list(book.keys())\n",
    "print(book_keys)\n",
    "book_values = book.values()\n",
    "print(book_values)\n",
    "book_items = list(book.items())\n",
    "print(book_items[2])"
   ]
  },
  {
   "cell_type": "code",
   "execution_count": 42,
   "metadata": {},
   "outputs": [
    {
     "name": "stdout",
     "output_type": "stream",
     "text": [
      "yes\n",
      "yes\n",
      "no\n"
     ]
    }
   ],
   "source": [
    "if \"year\" in book.keys():\n",
    "    print(\"yes\")\n",
    "\n",
    "if 2000 in book.values():\n",
    "    print(\"yes\")\n",
    "\n",
    "if (\"price\", 2010) in book.items():\n",
    "    print(\"yes\")\n",
    "else:\n",
    "    print(\"no\")"
   ]
  },
  {
   "cell_type": "code",
   "execution_count": 46,
   "metadata": {},
   "outputs": [
    {
     "name": "stdout",
     "output_type": "stream",
     "text": [
      "yes\n"
     ]
    }
   ],
   "source": [
    "book= {\n",
    "    \"name\":\"book1\",\n",
    "    \"price\": 2000,\n",
    "    \"page\": 1990,\n",
    "    \"year\":2010\n",
    "}\n",
    "\n",
    "if \"year\" in book:\n",
    "    print(\"yes\")"
   ]
  },
  {
   "cell_type": "markdown",
   "metadata": {},
   "source": [
    "### loop"
   ]
  },
  {
   "cell_type": "code",
   "execution_count": 47,
   "metadata": {},
   "outputs": [
    {
     "name": "stdout",
     "output_type": "stream",
     "text": [
      "name price page year "
     ]
    }
   ],
   "source": [
    "book= {\n",
    "    \"name\":\"book1\",\n",
    "    \"price\": 2000,\n",
    "    \"page\": 1990,\n",
    "    \"year\":2010\n",
    "}\n",
    "for k in book:\n",
    "    print(k, end=\" \")"
   ]
  },
  {
   "cell_type": "code",
   "execution_count": 52,
   "metadata": {},
   "outputs": [
    {
     "name": "stdout",
     "output_type": "stream",
     "text": [
      "name book1\n",
      "price 2000\n",
      "page 1990\n",
      "year 2010\n"
     ]
    }
   ],
   "source": [
    "for k, v in book.items():\n",
    "    print(k, v)"
   ]
  },
  {
   "cell_type": "code",
   "execution_count": 50,
   "metadata": {},
   "outputs": [
    {
     "name": "stdout",
     "output_type": "stream",
     "text": [
      "2010 2010 2010 2010 "
     ]
    }
   ],
   "source": [
    "for v in book.values():\n",
    "    print(k, end=\" \")"
   ]
  },
  {
   "cell_type": "markdown",
   "metadata": {},
   "source": [
    "### points"
   ]
  },
  {
   "cell_type": "code",
   "execution_count": 54,
   "metadata": {},
   "outputs": [
    {
     "name": "stdout",
     "output_type": "stream",
     "text": [
      "[18, 18.3, 16, 20]\n",
      "18.3\n"
     ]
    }
   ],
   "source": [
    "student = {\n",
    "    \"name\": \"n1\",\n",
    "    \"class\": \"c1\",\n",
    "    \"scores\": [18, 18.3, 16, 20]\n",
    "}\n",
    "print(student[\"scores\"])\n",
    "print(student[\"scores\"][1])"
   ]
  },
  {
   "cell_type": "code",
   "execution_count": 56,
   "metadata": {},
   "outputs": [
    {
     "name": "stdout",
     "output_type": "stream",
     "text": [
      "{'math': 18, 'python': 19}\n",
      "18\n"
     ]
    }
   ],
   "source": [
    "student = {\n",
    "    \"name\": \"n1\",\n",
    "    \"class\": \"c1\",\n",
    "    \"scores\": {\"math\": 18, \"python\":19}\n",
    "}\n",
    "print(student[\"scores\"])\n",
    "print(student[\"scores\"][\"math\"])"
   ]
  },
  {
   "cell_type": "code",
   "execution_count": 60,
   "metadata": {},
   "outputs": [
    {
     "name": "stdout",
     "output_type": "stream",
     "text": [
      "[{'name': 'n1', 'class': 'c1', 'scores': {'math': 18, 'python': 19}}, {'name': 'n2', 'class': 'c1', 'scores': {'math': 14, 'python': 8}}]\n",
      "{'name': 'n1', 'class': 'c1', 'scores': {'math': 18, 'python': 19}}\n",
      "18\n"
     ]
    }
   ],
   "source": [
    "s1 = {\n",
    "    \"name\": \"n1\",\n",
    "    \"class\": \"c1\",\n",
    "    \"scores\": {\"math\": 18, \"python\":19}\n",
    "}\n",
    "\n",
    "s2 = {\n",
    "    \"name\": \"n2\",\n",
    "    \"class\": \"c1\",\n",
    "    \"scores\": {\"math\": 14, \"python\":8}\n",
    "}\n",
    "students = [s1, s2]\n",
    "print(students)\n",
    "print(students[0])\n",
    "print(students[0][\"scores\"][\"math\"])"
   ]
  },
  {
   "cell_type": "code",
   "execution_count": 65,
   "metadata": {},
   "outputs": [
    {
     "name": "stdout",
     "output_type": "stream",
     "text": [
      "{'S1213': {'name': 'n1', 'class': 'c1', 'scores': {'math': 18, 'python': 19}}, 'S1567': {'name': 'n2', 'class': 'c1', 'scores': {'math': 14, 'python': 8}}}\n",
      "{'name': 'n1', 'class': 'c1', 'scores': {'math': 18, 'python': 19}}\n",
      "n1\n",
      "{'name': 'n3', 'class': 'c2', 'scores': {'math': 17, 'python': 8}}\n",
      "{'name': 'n3', 'class': 'c2', 'scores': {'math': 17, 'python': 8}}\n"
     ]
    }
   ],
   "source": [
    "s1 = {\n",
    "    \"name\": \"n1\",\n",
    "    \"class\": \"c1\",\n",
    "    \"scores\": {\"math\": 18, \"python\":19}\n",
    "}\n",
    "\n",
    "s2 = {\n",
    "    \"name\": \"n2\",\n",
    "    \"class\": \"c1\",\n",
    "    \"scores\": {\"math\": 14, \"python\":8}\n",
    "}\n",
    "\n",
    "s3 = {\n",
    "    \"name\": \"n3\",\n",
    "    \"class\": \"c2\",\n",
    "    \"scores\": {\"math\": 17, \"python\":8}\n",
    "}\n",
    "\n",
    "students = {\"S1213\":s1, \"S1567\": s2}\n",
    "print(students)\n",
    "print(students[\"S1213\"])\n",
    "print(students[\"S1213\"]['name']) # n1\n",
    "\n",
    "students[\"S2345\"] = s3  # 3\n",
    "print(students[\"S2345\"])\n",
    "\n",
    "students[\"S1213\"] = s3 # Edit name: n3\n",
    "print(students[\"S1213\"])"
   ]
  },
  {
   "cell_type": "code",
   "execution_count": 67,
   "metadata": {},
   "outputs": [
    {
     "name": "stdout",
     "output_type": "stream",
     "text": [
      "[{'name': 'p1', 'price': 200}, {'name': 'p2', 'price': 300}, {'name': 'p3', 'price': 400}]\n"
     ]
    }
   ],
   "source": [
    "products = []\n",
    "for i in range(3):\n",
    "    name = input(\"name: \")\n",
    "    price = int(input(\"price: \"))\n",
    "    product = {\n",
    "        \"name\" : name,\n",
    "        \"price\": price\n",
    "    }\n",
    "    products.append(product)\n",
    "print(products)"
   ]
  },
  {
   "cell_type": "code",
   "execution_count": 70,
   "metadata": {},
   "outputs": [
    {
     "name": "stdout",
     "output_type": "stream",
     "text": [
      "{'name': 'p1', 'price': 200}\n",
      "{'name': 'p2', 'price': 400}\n",
      "{'name': 'p3', 'price': 500}\n",
      "{'123': {'name': 'p2', 'price': 400}, '234': {'name': 'p3', 'price': 500}}\n",
      "2\n"
     ]
    }
   ],
   "source": [
    "products = {}\n",
    "for i in range(3):\n",
    "    name = input(\"name: \")\n",
    "    price = int(input(\"price: \"))\n",
    "    code = input(\"product code: \")\n",
    "    product = {\n",
    "        \"name\" : name,\n",
    "        \"price\": price\n",
    "    }\n",
    "    products[code] = product\n",
    "    print(product)\n",
    "print(products)\n",
    "print(len(products))"
   ]
  },
  {
   "cell_type": "code",
   "execution_count": null,
   "metadata": {},
   "outputs": [],
   "source": [
    "products = {}\n",
    "for i in range(3):\n",
    "    name = input(\"name: \")\n",
    "    price = int(input(\"price: \"))\n",
    "    code = input(\"product code: \")\n",
    "    product = {\n",
    "        \"name\" : name,\n",
    "        \"price\": price\n",
    "    }\n",
    "    if code not in products:\n",
    "        products[code] = product\n",
    "        print(product)\n",
    "print(products)\n",
    "print(len(products))"
   ]
  },
  {
   "cell_type": "code",
   "execution_count": 69,
   "metadata": {},
   "outputs": [
    {
     "name": "stdout",
     "output_type": "stream",
     "text": [
      "p2\n"
     ]
    }
   ],
   "source": [
    "print(products[1][\"name\"])"
   ]
  }
 ],
 "metadata": {
  "kernelspec": {
   "display_name": "base",
   "language": "python",
   "name": "python3"
  },
  "language_info": {
   "codemirror_mode": {
    "name": "ipython",
    "version": 3
   },
   "file_extension": ".py",
   "mimetype": "text/x-python",
   "name": "python",
   "nbconvert_exporter": "python",
   "pygments_lexer": "ipython3",
   "version": "3.9.13"
  }
 },
 "nbformat": 4,
 "nbformat_minor": 2
}
