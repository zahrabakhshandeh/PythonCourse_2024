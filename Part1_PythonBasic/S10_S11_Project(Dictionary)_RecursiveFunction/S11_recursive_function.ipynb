{
 "cells": [
  {
   "cell_type": "code",
   "execution_count": 8,
   "metadata": {},
   "outputs": [],
   "source": [
    "def factorial1(num):\n",
    "    result = 1\n",
    "    for i in range(1, num+1):\n",
    "        result *= i\n",
    "        print(i, result)"
   ]
  },
  {
   "cell_type": "code",
   "execution_count": 9,
   "metadata": {},
   "outputs": [
    {
     "name": "stdout",
     "output_type": "stream",
     "text": [
      "1 1\n",
      "2 2\n",
      "3 6\n",
      "4 24\n"
     ]
    }
   ],
   "source": [
    "factorial1(4)"
   ]
  },
  {
   "cell_type": "code",
   "execution_count": 10,
   "metadata": {},
   "outputs": [],
   "source": [
    "def factorial2(num):\n",
    "    if num == 1 or num == 0:\n",
    "        return 1 \n",
    "    else:\n",
    "        return num * factorial2(num-1)"
   ]
  },
  {
   "cell_type": "code",
   "execution_count": 11,
   "metadata": {},
   "outputs": [
    {
     "data": {
      "text/plain": [
       "24"
      ]
     },
     "execution_count": 11,
     "metadata": {},
     "output_type": "execute_result"
    }
   ],
   "source": [
    "factorial2(4)"
   ]
  },
  {
   "cell_type": "code",
   "execution_count": 13,
   "metadata": {},
   "outputs": [],
   "source": [
    "def binary_search1(list1, x):\n",
    "    low = 0\n",
    "    high = len(list1) - 1 \n",
    "    while (low <= high):\n",
    "        mid = (low + high) // 2\n",
    "        if list1[mid] == x:\n",
    "            return mid \n",
    "        elif list1[mid] < x:\n",
    "            low = mid + 1\n",
    "        else:\n",
    "            high = mid - 1 \n",
    "    return -1        "
   ]
  },
  {
   "cell_type": "code",
   "execution_count": 15,
   "metadata": {},
   "outputs": [
    {
     "data": {
      "text/plain": [
       "-1"
      ]
     },
     "execution_count": 15,
     "metadata": {},
     "output_type": "execute_result"
    }
   ],
   "source": [
    "list1 = [12, 23, 24, 29, 40, 47]\n",
    "binary_search1(list1, 80)"
   ]
  },
  {
   "cell_type": "code",
   "execution_count": 16,
   "metadata": {},
   "outputs": [],
   "source": [
    "def binary_search2(list1, x, low, high):\n",
    "    if high >= low:\n",
    "        mid = (low + high) // 2\n",
    "        if list1[mid] == x:\n",
    "            return mid \n",
    "        elif list1[mid] > x:\n",
    "            return binary_search2(list1, x, low, mid-1)\n",
    "        else:\n",
    "            return binary_search2(list1, x, mid+1, high)\n",
    "    else:\n",
    "        return -1"
   ]
  },
  {
   "cell_type": "code",
   "execution_count": 18,
   "metadata": {},
   "outputs": [
    {
     "data": {
      "text/plain": [
       "4"
      ]
     },
     "execution_count": 18,
     "metadata": {},
     "output_type": "execute_result"
    }
   ],
   "source": [
    "list1 = [12, 23, 24, 29, 40, 47]\n",
    "binary_search2(list1, 40, 0, len(list1)-1)"
   ]
  }
 ],
 "metadata": {
  "kernelspec": {
   "display_name": "base",
   "language": "python",
   "name": "python3"
  },
  "language_info": {
   "codemirror_mode": {
    "name": "ipython",
    "version": 3
   },
   "file_extension": ".py",
   "mimetype": "text/x-python",
   "name": "python",
   "nbconvert_exporter": "python",
   "pygments_lexer": "ipython3",
   "version": "3.9.13"
  }
 },
 "nbformat": 4,
 "nbformat_minor": 2
}
