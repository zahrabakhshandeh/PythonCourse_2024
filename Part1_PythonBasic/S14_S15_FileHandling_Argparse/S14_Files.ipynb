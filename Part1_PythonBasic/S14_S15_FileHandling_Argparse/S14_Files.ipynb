{
 "cells": [
  {
   "cell_type": "markdown",
   "metadata": {},
   "source": [
    "#### File Handling"
   ]
  },
  {
   "cell_type": "code",
   "execution_count": 1,
   "metadata": {},
   "outputs": [],
   "source": [
    "numbers = [12, 34, 56, 78, 10]\n",
    "numbers.append(34)"
   ]
  },
  {
   "cell_type": "code",
   "execution_count": 2,
   "metadata": {},
   "outputs": [],
   "source": [
    "# binary file\n",
    "# text"
   ]
  },
  {
   "cell_type": "code",
   "execution_count": 3,
   "metadata": {},
   "outputs": [],
   "source": [
    "# open   open\n",
    "# read   write\n",
    "# close  close"
   ]
  },
  {
   "cell_type": "code",
   "execution_count": 4,
   "metadata": {},
   "outputs": [],
   "source": [
    "# mode\n",
    "# r ====> read\n",
    "# w ====> write\n",
    "# a\n",
    "# x"
   ]
  },
  {
   "cell_type": "code",
   "execution_count": 5,
   "metadata": {},
   "outputs": [
    {
     "name": "stdout",
     "output_type": "stream",
     "text": [
      "False\n",
      "True\n",
      "python\n",
      "java\n",
      "c++\n",
      "<class 'str'>\n"
     ]
    }
   ],
   "source": [
    "file = open(\"f1.txt\", \"r\")\n",
    "data = file.read()\n",
    "print(file.closed)\n",
    "file.close()\n",
    "print(file.closed)\n",
    "print(data)\n",
    "print(type(data))"
   ]
  },
  {
   "cell_type": "code",
   "execution_count": 7,
   "metadata": {},
   "outputs": [
    {
     "name": "stdout",
     "output_type": "stream",
     "text": [
      "python\n",
      "\n",
      "java\n",
      "\n"
     ]
    }
   ],
   "source": [
    "file = open(\"f1.txt\", \"r\")\n",
    "line1 = file.readline()\n",
    "line2 = file.readline()\n",
    "file.close()\n",
    "print(line1)\n",
    "print(line2)"
   ]
  },
  {
   "cell_type": "code",
   "execution_count": 10,
   "metadata": {},
   "outputs": [
    {
     "name": "stdout",
     "output_type": "stream",
     "text": [
      "True\n",
      "False\n",
      "['python\\n', 'java\\n', 'c++']\n"
     ]
    }
   ],
   "source": [
    "file = open(\"f1.txt\", \"r\")\n",
    "result = file.readlines()\n",
    "print(file.readable())\n",
    "print(file.writable())\n",
    "file.close()\n",
    "print(result)"
   ]
  },
  {
   "cell_type": "code",
   "execution_count": 11,
   "metadata": {},
   "outputs": [
    {
     "ename": "FileNotFoundError",
     "evalue": "[Errno 2] No such file or directory: 'f3.txt'",
     "output_type": "error",
     "traceback": [
      "\u001b[0;31m---------------------------------------------------------------------------\u001b[0m",
      "\u001b[0;31mFileNotFoundError\u001b[0m                         Traceback (most recent call last)",
      "\u001b[0;32m/tmp/ipykernel_13705/736696150.py\u001b[0m in \u001b[0;36m<module>\u001b[0;34m\u001b[0m\n\u001b[1;32m      1\u001b[0m \u001b[0;31m# if file dosen't exit:\u001b[0m\u001b[0;34m\u001b[0m\u001b[0;34m\u001b[0m\u001b[0m\n\u001b[0;32m----> 2\u001b[0;31m \u001b[0mfile\u001b[0m \u001b[0;34m=\u001b[0m \u001b[0mopen\u001b[0m\u001b[0;34m(\u001b[0m\u001b[0;34m\"f3.txt\"\u001b[0m\u001b[0;34m,\u001b[0m \u001b[0;34m\"r\"\u001b[0m\u001b[0;34m)\u001b[0m\u001b[0;34m\u001b[0m\u001b[0;34m\u001b[0m\u001b[0m\n\u001b[0m\u001b[1;32m      3\u001b[0m \u001b[0mresult\u001b[0m \u001b[0;34m=\u001b[0m \u001b[0mfile\u001b[0m\u001b[0;34m.\u001b[0m\u001b[0mreadlines\u001b[0m\u001b[0;34m(\u001b[0m\u001b[0;34m)\u001b[0m\u001b[0;34m\u001b[0m\u001b[0;34m\u001b[0m\u001b[0m\n\u001b[1;32m      4\u001b[0m \u001b[0mfile\u001b[0m\u001b[0;34m.\u001b[0m\u001b[0mclose\u001b[0m\u001b[0;34m(\u001b[0m\u001b[0;34m)\u001b[0m\u001b[0;34m\u001b[0m\u001b[0;34m\u001b[0m\u001b[0m\n\u001b[1;32m      5\u001b[0m \u001b[0mprint\u001b[0m\u001b[0;34m(\u001b[0m\u001b[0mresult\u001b[0m\u001b[0;34m)\u001b[0m\u001b[0;34m\u001b[0m\u001b[0;34m\u001b[0m\u001b[0m\n",
      "\u001b[0;31mFileNotFoundError\u001b[0m: [Errno 2] No such file or directory: 'f3.txt'"
     ]
    }
   ],
   "source": [
    "# if file dosen't exit: FileNotFoundError\n",
    "file = open(\"f3.txt\", \"r\")\n",
    "result = file.readlines()\n",
    "file.close()\n",
    "print(result)"
   ]
  },
  {
   "cell_type": "markdown",
   "metadata": {},
   "source": [
    "### Write"
   ]
  },
  {
   "cell_type": "code",
   "execution_count": 13,
   "metadata": {},
   "outputs": [],
   "source": [
    "file = open(\"f3.txt\", \"w\")\n",
    "file.write(\"New Line1\\n\")\n",
    "file.write(\"New Line2\\n\")\n",
    "file.close()"
   ]
  },
  {
   "cell_type": "code",
   "execution_count": 14,
   "metadata": {},
   "outputs": [],
   "source": [
    "file = open(\"f1.txt\", \"w\")\n",
    "file.write(\"New Line1\\n\")\n",
    "file.write(\"New Line2\\n\")\n",
    "file.close()"
   ]
  },
  {
   "cell_type": "code",
   "execution_count": 15,
   "metadata": {},
   "outputs": [],
   "source": [
    "file = open(\"f1.txt\", \"a\")\n",
    "file.write(\"New Line3\\n\")\n",
    "file.write(\"New Line4\\n\")\n",
    "file.close()"
   ]
  },
  {
   "cell_type": "code",
   "execution_count": 17,
   "metadata": {},
   "outputs": [],
   "source": [
    "file = open(\"f4.txt\", \"x\")\n",
    "file.write(\"New Line3\\n\")\n",
    "file.write(\"New Line4\\n\")\n",
    "file.close()"
   ]
  },
  {
   "cell_type": "code",
   "execution_count": 20,
   "metadata": {},
   "outputs": [
    {
     "name": "stdout",
     "output_type": "stream",
     "text": [
      "New Line1\n",
      "New Line2\n",
      "New Line3\n",
      "New Line4\n",
      "\n"
     ]
    }
   ],
   "source": [
    "with open(\"f1.txt\", \"r\") as file:\n",
    "    result = file.read()\n",
    "print(result)"
   ]
  },
  {
   "cell_type": "code",
   "execution_count": 22,
   "metadata": {},
   "outputs": [
    {
     "name": "stdout",
     "output_type": "stream",
     "text": [
      "closed\n"
     ]
    }
   ],
   "source": [
    "with open(\"f1.txt\", \"w\") as file:\n",
    "    file.write(\"new line\")\n",
    "print(\"closed\")"
   ]
  },
  {
   "cell_type": "markdown",
   "metadata": {},
   "source": [
    "### Example"
   ]
  },
  {
   "cell_type": "code",
   "execution_count": 23,
   "metadata": {},
   "outputs": [],
   "source": [
    "# step1: path\n",
    "# step2: find all files \n",
    "# step3: find exts\n",
    "# step4: create dir based on exts\n",
    "# step5: cut files\n",
    "###       step1: read a file\n",
    "###       step2: write to the new path\n",
    "###       step3: remove file from old path"
   ]
  },
  {
   "cell_type": "code",
   "execution_count": 91,
   "metadata": {},
   "outputs": [],
   "source": [
    "import os"
   ]
  },
  {
   "cell_type": "code",
   "execution_count": 92,
   "metadata": {},
   "outputs": [],
   "source": [
    "def find_files(path):\n",
    "    files_name = []\n",
    "    for p, dirs, files in os.walk(path):\n",
    "        for f in files:\n",
    "            f_path = os.path.join(path, f)\n",
    "            files_name.append(f_path)\n",
    "    return files_name"
   ]
  },
  {
   "cell_type": "code",
   "execution_count": 93,
   "metadata": {},
   "outputs": [],
   "source": [
    "def find_file_exts(files_name):\n",
    "    exts = set()\n",
    "    for f in files_name:\n",
    "        ext = f.split(\".\")[-1]\n",
    "        exts.add(ext)\n",
    "    return exts"
   ]
  },
  {
   "cell_type": "code",
   "execution_count": 94,
   "metadata": {},
   "outputs": [],
   "source": [
    "def create_dirs(path, exts):\n",
    "    for x in exts:\n",
    "        name = f\"dir_{x}\"\n",
    "        new_path = os.path.join(path, name)\n",
    "        os.mkdir(new_path)"
   ]
  },
  {
   "cell_type": "code",
   "execution_count": 95,
   "metadata": {},
   "outputs": [],
   "source": [
    "def cut_files(path, files):\n",
    "    for f in files:\n",
    "        # read data\n",
    "        with open(f, \"rb\") as f_read:\n",
    "            data = f_read.read()\n",
    "        # write ====> data \n",
    "        ext = f.split(\".\")[-1] # txt\n",
    "        # /home/zahra/Desktop/data/PythonCourse_2024/Files/f4.txt\n",
    "        name = os.path.basename(f) # f4.txt\n",
    "        dir_name = f\"dir_{ext}\" # dir_txt\n",
    "        # /home/zahra/Desktop/data/PythonCourse_2024/Files\n",
    "        # dir_path = /home/zahra/Desktop/data/PythonCourse_2024/Files/dir_txt/f4.txt\n",
    "        dir_path =  os.path.join(path, dir_name, name)\n",
    "        with open(dir_path, \"wb\") as f_write:\n",
    "            f_write.write(data) \n",
    "        os.remove(f)"
   ]
  },
  {
   "cell_type": "code",
   "execution_count": 101,
   "metadata": {},
   "outputs": [],
   "source": [
    "import os\n",
    "\n",
    "def cut_files_new(path, files):\n",
    "    for f in files:\n",
    "        ext = f.split(\".\")[-1]  # txt\n",
    "        name = os.path.basename(f)  # f4.txt\n",
    "        dir_name = f\"dir_{ext}\"  # dir_txt\n",
    "        dir_path =  os.path.join(path, dir_name, name)\n",
    "        os.rename(f, dir_path)"
   ]
  },
  {
   "cell_type": "code",
   "execution_count": 96,
   "metadata": {},
   "outputs": [],
   "source": [
    "# step1 \n",
    "path = \"/home/zahra/Desktop/data/PythonCourse_2024/Files\""
   ]
  },
  {
   "cell_type": "code",
   "execution_count": 97,
   "metadata": {},
   "outputs": [
    {
     "name": "stdout",
     "output_type": "stream",
     "text": [
      "['/home/zahra/Desktop/data/PythonCourse_2024/Files/python_part.pdf', '/home/zahra/Desktop/data/PythonCourse_2024/Files/f4.txt', '/home/zahra/Desktop/data/PythonCourse_2024/Files/f3.txt', '/home/zahra/Desktop/data/PythonCourse_2024/Files/S06_miniProject.py']\n"
     ]
    }
   ],
   "source": [
    "# step2 \n",
    "files_name = find_files(path)\n",
    "print(files_name)"
   ]
  },
  {
   "cell_type": "code",
   "execution_count": 98,
   "metadata": {},
   "outputs": [
    {
     "name": "stdout",
     "output_type": "stream",
     "text": [
      "{'pdf', 'txt', 'py'}\n"
     ]
    }
   ],
   "source": [
    "# step3 \n",
    "exts = find_file_exts(files_name)\n",
    "print(exts)"
   ]
  },
  {
   "cell_type": "code",
   "execution_count": 99,
   "metadata": {},
   "outputs": [
    {
     "name": "stdout",
     "output_type": "stream",
     "text": [
      "[Errno 17] File exists: '/home/zahra/Desktop/data/PythonCourse_2024/Files/dir_pdf'\n"
     ]
    }
   ],
   "source": [
    "# step4 \n",
    "try:\n",
    "    create_dirs(path, exts)\n",
    "except Exception as e:\n",
    "    print(e)"
   ]
  },
  {
   "cell_type": "code",
   "execution_count": 100,
   "metadata": {},
   "outputs": [
    {
     "ename": "FileNotFoundError",
     "evalue": "[Errno 2] No such file or directory: '/home/zahra/Desktop/data/PythonCourse_2024/Files/f4.txt'",
     "output_type": "error",
     "traceback": [
      "\u001b[0;31m---------------------------------------------------------------------------\u001b[0m",
      "\u001b[0;31mFileNotFoundError\u001b[0m                         Traceback (most recent call last)",
      "\u001b[0;32m/tmp/ipykernel_13705/278745816.py\u001b[0m in \u001b[0;36m<module>\u001b[0;34m\u001b[0m\n\u001b[0;32m----> 1\u001b[0;31m \u001b[0mcut_files\u001b[0m\u001b[0;34m(\u001b[0m\u001b[0mpath\u001b[0m\u001b[0;34m,\u001b[0m \u001b[0mfiles_name\u001b[0m\u001b[0;34m)\u001b[0m\u001b[0;34m\u001b[0m\u001b[0;34m\u001b[0m\u001b[0m\n\u001b[0m",
      "\u001b[0;32m/tmp/ipykernel_13705/2532872581.py\u001b[0m in \u001b[0;36mcut_files\u001b[0;34m(path, files)\u001b[0m\n\u001b[1;32m      2\u001b[0m     \u001b[0;32mfor\u001b[0m \u001b[0mf\u001b[0m \u001b[0;32min\u001b[0m \u001b[0mfiles\u001b[0m\u001b[0;34m:\u001b[0m\u001b[0;34m\u001b[0m\u001b[0;34m\u001b[0m\u001b[0m\n\u001b[1;32m      3\u001b[0m         \u001b[0;31m# read data\u001b[0m\u001b[0;34m\u001b[0m\u001b[0;34m\u001b[0m\u001b[0m\n\u001b[0;32m----> 4\u001b[0;31m         \u001b[0;32mwith\u001b[0m \u001b[0mopen\u001b[0m\u001b[0;34m(\u001b[0m\u001b[0mf\u001b[0m\u001b[0;34m,\u001b[0m \u001b[0;34m\"rb\"\u001b[0m\u001b[0;34m)\u001b[0m \u001b[0;32mas\u001b[0m \u001b[0mf_read\u001b[0m\u001b[0;34m:\u001b[0m\u001b[0;34m\u001b[0m\u001b[0;34m\u001b[0m\u001b[0m\n\u001b[0m\u001b[1;32m      5\u001b[0m             \u001b[0mdata\u001b[0m \u001b[0;34m=\u001b[0m \u001b[0mf_read\u001b[0m\u001b[0;34m.\u001b[0m\u001b[0mread\u001b[0m\u001b[0;34m(\u001b[0m\u001b[0;34m)\u001b[0m\u001b[0;34m\u001b[0m\u001b[0;34m\u001b[0m\u001b[0m\n\u001b[1;32m      6\u001b[0m         \u001b[0;31m# write ====> data\u001b[0m\u001b[0;34m\u001b[0m\u001b[0;34m\u001b[0m\u001b[0m\n",
      "\u001b[0;31mFileNotFoundError\u001b[0m: [Errno 2] No such file or directory: '/home/zahra/Desktop/data/PythonCourse_2024/Files/f4.txt'"
     ]
    }
   ],
   "source": [
    "cut_files(path, files_name)"
   ]
  },
  {
   "cell_type": "code",
   "execution_count": null,
   "metadata": {},
   "outputs": [],
   "source": []
  }
 ],
 "metadata": {
  "kernelspec": {
   "display_name": "base",
   "language": "python",
   "name": "python3"
  },
  "language_info": {
   "codemirror_mode": {
    "name": "ipython",
    "version": 3
   },
   "file_extension": ".py",
   "mimetype": "text/x-python",
   "name": "python",
   "nbconvert_exporter": "python",
   "pygments_lexer": "ipython3",
   "version": "3.9.13"
  }
 },
 "nbformat": 4,
 "nbformat_minor": 2
}
