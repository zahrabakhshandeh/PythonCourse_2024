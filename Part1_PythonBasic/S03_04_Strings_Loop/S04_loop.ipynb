{
 "cells": [
  {
   "cell_type": "markdown",
   "metadata": {},
   "source": [
    "### Session04 (Loop)"
   ]
  },
  {
   "cell_type": "code",
   "execution_count": 1,
   "metadata": {},
   "outputs": [
    {
     "name": "stdout",
     "output_type": "stream",
     "text": [
      "python\n",
      "python\n",
      "python\n"
     ]
    }
   ],
   "source": [
    "print(\"python\")\n",
    "print(\"python\")\n",
    "print(\"python\")"
   ]
  },
  {
   "cell_type": "code",
   "execution_count": 3,
   "metadata": {},
   "outputs": [
    {
     "name": "stdout",
     "output_type": "stream",
     "text": [
      "python\n",
      "python\n",
      "python\n"
     ]
    }
   ],
   "source": [
    "for number in range(3):\n",
    "    print(\"python\")"
   ]
  },
  {
   "cell_type": "code",
   "execution_count": 4,
   "metadata": {},
   "outputs": [
    {
     "name": "stdout",
     "output_type": "stream",
     "text": [
      "0\n",
      "1\n",
      "2\n"
     ]
    }
   ],
   "source": [
    "for number in range(3):\n",
    "    print(number)"
   ]
  },
  {
   "cell_type": "code",
   "execution_count": 8,
   "metadata": {},
   "outputs": [
    {
     "name": "stdout",
     "output_type": "stream",
     "text": [
      "0\n",
      "5\n"
     ]
    }
   ],
   "source": [
    "for number in range(6): # 6\n",
    "    if number % 5 == 0:\n",
    "        print(number)"
   ]
  },
  {
   "cell_type": "code",
   "execution_count": 9,
   "metadata": {},
   "outputs": [
    {
     "name": "stdout",
     "output_type": "stream",
     "text": [
      "0\n",
      "5\n"
     ]
    }
   ],
   "source": [
    "for number in range(0, 6, 5): # 2\n",
    "    print(number)"
   ]
  },
  {
   "cell_type": "code",
   "execution_count": null,
   "metadata": {},
   "outputs": [],
   "source": [
    "# range(start, stop, step)\n",
    "# start ========> def 0\n",
    "# stop  ========>  xxxxxxxxxx\n",
    "# step =========> def 1"
   ]
  },
  {
   "cell_type": "code",
   "execution_count": 12,
   "metadata": {},
   "outputs": [
    {
     "name": "stdout",
     "output_type": "stream",
     "text": [
      "5\n",
      "6\n",
      "7\n",
      "8\n",
      "9\n"
     ]
    }
   ],
   "source": [
    "for number in range(5, 10):\n",
    "    print(number)"
   ]
  },
  {
   "cell_type": "code",
   "execution_count": 18,
   "metadata": {},
   "outputs": [
    {
     "name": "stdout",
     "output_type": "stream",
     "text": [
      "You passed!\n",
      "you din't pass!\n",
      "you din't pass!\n",
      "You passed!\n"
     ]
    }
   ],
   "source": [
    "number = int(input(\"number of students: \"))\n",
    "for i in range(number):\n",
    "    score = float(input(f\"score of student_{i+1}: \"))\n",
    "    if score >= 10:\n",
    "        print(\"You passed!\")\n",
    "    else:\n",
    "        print(\"you din't pass!\")"
   ]
  },
  {
   "cell_type": "code",
   "execution_count": 19,
   "metadata": {},
   "outputs": [
    {
     "name": "stdout",
     "output_type": "stream",
     "text": [
      "3\n",
      "4\n"
     ]
    }
   ],
   "source": [
    "for i in range(3, 5):\n",
    "    print(i)"
   ]
  },
  {
   "cell_type": "code",
   "execution_count": 21,
   "metadata": {},
   "outputs": [
    {
     "name": "stdout",
     "output_type": "stream",
     "text": [
      "p\n",
      "y\n",
      "t\n",
      "h\n",
      "o\n",
      "n\n"
     ]
    }
   ],
   "source": [
    "name = \"python\"\n",
    "#            c\n",
    "for i in name:\n",
    "    print(i)"
   ]
  },
  {
   "cell_type": "code",
   "execution_count": 31,
   "metadata": {},
   "outputs": [
    {
     "name": "stdout",
     "output_type": "stream",
     "text": [
      "2\n"
     ]
    }
   ],
   "source": [
    "word = \"asa\"\n",
    "count_a = 0\n",
    "for i in word: # i = a, i = s, i = a\n",
    "    if i == \"a\": # True, False, True\n",
    "        count_a += 1 # 1, 2\n",
    "        #count_a = count_a + 1\n",
    "print(count_a)"
   ]
  },
  {
   "cell_type": "code",
   "execution_count": 30,
   "metadata": {},
   "outputs": [
    {
     "name": "stdout",
     "output_type": "stream",
     "text": [
      "0\n",
      "1\n",
      "2\n",
      "3\n"
     ]
    }
   ],
   "source": [
    "for i in range(4):\n",
    "    print(i)"
   ]
  },
  {
   "cell_type": "markdown",
   "metadata": {},
   "source": [
    "### break, continue"
   ]
  },
  {
   "cell_type": "code",
   "execution_count": 34,
   "metadata": {},
   "outputs": [
    {
     "name": "stdout",
     "output_type": "stream",
     "text": [
      "12.0\n",
      "4.0\n"
     ]
    }
   ],
   "source": [
    "for i in range(6):\n",
    "    score = input(\"student score: \")\n",
    "    if score == \"exit\":\n",
    "        break\n",
    "    print(float(score))"
   ]
  },
  {
   "cell_type": "code",
   "execution_count": 40,
   "metadata": {},
   "outputs": [
    {
     "name": "stdout",
     "output_type": "stream",
     "text": [
      "7\n",
      "java\n",
      "8\n",
      "9\n",
      "java\n"
     ]
    }
   ],
   "source": [
    "for j in range(7, 10):# 7, 8, 9\n",
    "    print(j) # 7, 8, 9\n",
    "    if j == 8: # False, True, False\n",
    "        continue\n",
    "    print(\"java\") # java, java"
   ]
  },
  {
   "cell_type": "code",
   "execution_count": 42,
   "metadata": {},
   "outputs": [
    {
     "name": "stdout",
     "output_type": "stream",
     "text": [
      "67\n"
     ]
    }
   ],
   "source": [
    "max_num = 0\n",
    "for i in range(5):\n",
    "    num = int(input(f\"Number_{i+1}: \")) # 12, 23, 5, 18, 50\n",
    "    if num > max_num: # 12 > max_num, 23 > 12, 5 > 23, 18 > 23, 50 > 23\n",
    "        max_num = num # max_num = 12, 23, 50\n",
    "print(max_num)"
   ]
  },
  {
   "cell_type": "code",
   "execution_count": null,
   "metadata": {},
   "outputs": [],
   "source": [
    "num1 = 23\n",
    "num2 = 34\n",
    "num3 = 71\n",
    "num4 = 54\n",
    "\n",
    "max_num = num1 # max_num = 23\n",
    "if num2 > max_num: # 34 > 23 ???? True \n",
    "    max_num = num2  # max_num = 34\n",
    "if num3 > max_num: # 71 > 34 ====> True\n",
    "    max_num = num3 # max_num = 71\n",
    "if num4 > max_num: # 71 > 34 ====> True\n",
    "    max_num = num4 # max_num = 71\n",
    "print(max_num)"
   ]
  },
  {
   "cell_type": "code",
   "execution_count": 43,
   "metadata": {},
   "outputs": [
    {
     "name": "stdout",
     "output_type": "stream",
     "text": [
      "67\n"
     ]
    }
   ],
   "source": [
    "max_num = int(input(\"Number1: \"))\n",
    "for i in range(4):\n",
    "    num = int(input(f\"Number_{i+2}: \")) # 12, 23, 5, 18, 50\n",
    "    if num > max_num: # 12 > max_num, 23 > 12, 5 > 23, 18 > 23, 50 > 23\n",
    "        max_num = num # max_num = 12, 23, 50\n",
    "print(max_num)"
   ]
  }
 ],
 "metadata": {
  "kernelspec": {
   "display_name": "base",
   "language": "python",
   "name": "python3"
  },
  "language_info": {
   "codemirror_mode": {
    "name": "ipython",
    "version": 3
   },
   "file_extension": ".py",
   "mimetype": "text/x-python",
   "name": "python",
   "nbconvert_exporter": "python",
   "pygments_lexer": "ipython3",
   "version": "3.9.13"
  }
 },
 "nbformat": 4,
 "nbformat_minor": 2
}
