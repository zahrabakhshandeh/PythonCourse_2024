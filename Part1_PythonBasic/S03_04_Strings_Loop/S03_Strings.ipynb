{
 "cells": [
  {
   "cell_type": "markdown",
   "metadata": {},
   "source": [
    "## Session03 (String)"
   ]
  },
  {
   "cell_type": "code",
   "execution_count": 1,
   "metadata": {},
   "outputs": [
    {
     "name": "stdout",
     "output_type": "stream",
     "text": [
      "python\n"
     ]
    }
   ],
   "source": [
    "# string \"\", '' \n",
    "name = \"python\"\n",
    "print(name)"
   ]
  },
  {
   "cell_type": "code",
   "execution_count": 17,
   "metadata": {},
   "outputs": [
    {
     "name": "stdout",
     "output_type": "stream",
     "text": [
      "t\n",
      "o\n",
      "p n o\n",
      "p n\n"
     ]
    }
   ],
   "source": [
    "name = \"python\"\n",
    "#index  012345\n",
    "#          -2-1\n",
    "print(name[2])\n",
    "print(name[-2])\n",
    "print(name[0], name[-1], name[-2])\n",
    "# print(name[9]) ====> IndexError\n",
    "chr1 = name[0]\n",
    "chr_end = name[-1]\n",
    "print(chr1, chr_end)"
   ]
  },
  {
   "cell_type": "markdown",
   "metadata": {},
   "source": [
    "### Sclicing"
   ]
  },
  {
   "cell_type": "code",
   "execution_count": 16,
   "metadata": {},
   "outputs": [
    {
     "name": "stdout",
     "output_type": "stream",
     "text": [
      "Hi\n",
      "python\n",
      "H yhn\n"
     ]
    }
   ],
   "source": [
    "name = \"Hi python!\"\n",
    "#       0123456789\n",
    "print(name[0:2])\n",
    "print(name[3:9])\n",
    "print(name[::2]) # 3(p), 5(t), 7(o), 9"
   ]
  },
  {
   "cell_type": "code",
   "execution_count": null,
   "metadata": {},
   "outputs": [],
   "source": [
    "# Start ====> def 0\n",
    "# stop ====>  def  end of the string\n",
    "# step ====>  def  1"
   ]
  },
  {
   "cell_type": "code",
   "execution_count": 22,
   "metadata": {},
   "outputs": [
    {
     "name": "stdout",
     "output_type": "stream",
     "text": [
      "pyth\n",
      "pyth\n",
      "Hi pyth\n",
      "python!\n",
      "H yhn\n"
     ]
    }
   ],
   "source": [
    "name = \"Hi python!\"\n",
    "#       0123456789\n",
    "print(name[3:7])\n",
    "part_of_str = name[3:7]\n",
    "print(part_of_str)\n",
    "print(name[:7])\n",
    "print(name[3:])\n",
    "print(name[::2])"
   ]
  },
  {
   "cell_type": "code",
   "execution_count": 24,
   "metadata": {},
   "outputs": [
    {
     "name": "stdout",
     "output_type": "stream",
     "text": [
      "!no\n"
     ]
    }
   ],
   "source": [
    "name = \"Hi python!\"\n",
    "#       0123456789\n",
    "rev_str = name[::-1] # 9, 8, \n",
    "print(rev_str)"
   ]
  },
  {
   "cell_type": "markdown",
   "metadata": {},
   "source": [
    "### Methods"
   ]
  },
  {
   "cell_type": "code",
   "execution_count": 27,
   "metadata": {},
   "outputs": [
    {
     "name": "stdout",
     "output_type": "stream",
     "text": [
      "HI PYTHON!\n",
      "hi python!\n",
      "Hi Python!\n"
     ]
    }
   ],
   "source": [
    "str1 = \"Hi python!\"\n",
    "new_str = str1.upper()\n",
    "print(new_str)\n",
    "new_str = str1.lower()\n",
    "print(new_str)\n",
    "new_str = str1.title()\n",
    "print(new_str)"
   ]
  },
  {
   "cell_type": "code",
   "execution_count": 28,
   "metadata": {},
   "outputs": [
    {
     "name": "stdout",
     "output_type": "stream",
     "text": [
      "python java\n"
     ]
    }
   ],
   "source": [
    "name = \" python java \"\n",
    "new_str = name.strip()\n",
    "print(new_str)"
   ]
  },
  {
   "cell_type": "code",
   "execution_count": 31,
   "metadata": {},
   "outputs": [
    {
     "name": "stdout",
     "output_type": "stream",
     "text": [
      "14\n",
      "11\n"
     ]
    }
   ],
   "source": [
    "## len() ====> length\n",
    "name = \"  python java \"\n",
    "len_str = len(name)\n",
    "print(len_str)\n",
    "new_str = name.strip()\n",
    "len_str = len(new_str)\n",
    "print(len_str)"
   ]
  },
  {
   "cell_type": "code",
   "execution_count": 40,
   "metadata": {},
   "outputs": [
    {
     "name": "stdout",
     "output_type": "stream",
     "text": [
      "-1 -1\n",
      "end\n"
     ]
    }
   ],
   "source": [
    "str1 = \"I am learning python!\"\n",
    "#       0, 999===> end\n",
    "# find(), index()\n",
    "# find()  =====> -1: not found\n",
    "ind1 = str1.find(\"v\")\n",
    "ind2 = str1.rfind(\"v\")\n",
    "print(ind1, ind2)\n",
    "print(\"end\")"
   ]
  },
  {
   "cell_type": "code",
   "execution_count": 39,
   "metadata": {},
   "outputs": [
    {
     "ename": "ValueError",
     "evalue": "substring not found",
     "output_type": "error",
     "traceback": [
      "\u001b[0;31m---------------------------------------------------------------------------\u001b[0m",
      "\u001b[0;31mValueError\u001b[0m                                Traceback (most recent call last)",
      "\u001b[0;32m/tmp/ipykernel_20322/2475354394.py\u001b[0m in \u001b[0;36m<module>\u001b[0;34m\u001b[0m\n\u001b[1;32m      2\u001b[0m \u001b[0;31m#       0, 999===> end\u001b[0m\u001b[0;34m\u001b[0m\u001b[0;34m\u001b[0m\u001b[0m\n\u001b[1;32m      3\u001b[0m \u001b[0;31m# find(), index()\u001b[0m\u001b[0;34m\u001b[0m\u001b[0;34m\u001b[0m\u001b[0m\n\u001b[0;32m----> 4\u001b[0;31m \u001b[0mind1\u001b[0m \u001b[0;34m=\u001b[0m \u001b[0mstr1\u001b[0m\u001b[0;34m.\u001b[0m\u001b[0mindex\u001b[0m\u001b[0;34m(\u001b[0m\u001b[0;34m\"v\"\u001b[0m\u001b[0;34m)\u001b[0m\u001b[0;34m\u001b[0m\u001b[0;34m\u001b[0m\u001b[0m\n\u001b[0m\u001b[1;32m      5\u001b[0m \u001b[0mind2\u001b[0m \u001b[0;34m=\u001b[0m \u001b[0mstr1\u001b[0m\u001b[0;34m.\u001b[0m\u001b[0mrindex\u001b[0m\u001b[0;34m(\u001b[0m\u001b[0;34m\"v\"\u001b[0m\u001b[0;34m)\u001b[0m\u001b[0;34m\u001b[0m\u001b[0;34m\u001b[0m\u001b[0m\n\u001b[1;32m      6\u001b[0m \u001b[0mprint\u001b[0m\u001b[0;34m(\u001b[0m\u001b[0mind1\u001b[0m\u001b[0;34m,\u001b[0m \u001b[0mind2\u001b[0m\u001b[0;34m)\u001b[0m\u001b[0;34m\u001b[0m\u001b[0;34m\u001b[0m\u001b[0m\n",
      "\u001b[0;31mValueError\u001b[0m: substring not found"
     ]
    }
   ],
   "source": [
    "str1 = \"I am learning python!\"\n",
    "#       0, 999===> end\n",
    "# find(), index()\n",
    "ind1 = str1.index(\"v\") # ValueError\n",
    "ind2 = str1.rindex(\"v\") # ValueError\n",
    "print(ind1, ind2)\n",
    "print(\"end\")"
   ]
  },
  {
   "cell_type": "code",
   "execution_count": 44,
   "metadata": {},
   "outputs": [
    {
     "name": "stdout",
     "output_type": "stream",
     "text": [
      "-1 n\n"
     ]
    }
   ],
   "source": [
    "str1 = \"python\"\n",
    "ind1 = str1.find(\"v\") # -1 ====> ind1 = -1\n",
    "print(ind1, str1[ind1]) # -1, str1[-1]"
   ]
  },
  {
   "cell_type": "code",
   "execution_count": 49,
   "metadata": {},
   "outputs": [
    {
     "name": "stdout",
     "output_type": "stream",
     "text": [
      "22\n"
     ]
    }
   ],
   "source": [
    "str1 = \"python. I am learning python!\"\n",
    "name = \"python\"\n",
    "ind1 = str1.rfind(name)\n",
    "print(ind1)"
   ]
  },
  {
   "cell_type": "code",
   "execution_count": 56,
   "metadata": {},
   "outputs": [
    {
     "name": "stdout",
     "output_type": "stream",
     "text": [
      "5 10\n"
     ]
    }
   ],
   "source": [
    "str1 = \"java python. I am learning python!\"\n",
    "#       012345678910\n",
    "name = \"python\"\n",
    "ind1 = str1.find(name) # +, -1 =====> 0\n",
    "if ind1 != -1:\n",
    "    len_str = len(name) - 1  # 5\n",
    "    ind2 = ind1 + len_str # 0 + 5 ===> 5\n",
    "    print(ind1, ind2) # 0, 5\n",
    "else:\n",
    "    print(\"not found!\")"
   ]
  },
  {
   "cell_type": "code",
   "execution_count": 59,
   "metadata": {},
   "outputs": [
    {
     "name": "stdout",
     "output_type": "stream",
     "text": [
      "8\n"
     ]
    }
   ],
   "source": [
    "file_name = \"project1.pdfhgdaswerty\"\n",
    "result = file_name.rfind(\".pdf\")\n",
    "print(result)"
   ]
  },
  {
   "cell_type": "code",
   "execution_count": 63,
   "metadata": {},
   "outputs": [
    {
     "name": "stdout",
     "output_type": "stream",
     "text": [
      "True\n",
      "False\n"
     ]
    }
   ],
   "source": [
    "file_name = \"project1_python.pdf\"\n",
    "result = file_name.endswith(\".pdf\")\n",
    "print(result)\n",
    "result = file_name.startswith(\"python\")\n",
    "print(result)"
   ]
  },
  {
   "cell_type": "code",
   "execution_count": 72,
   "metadata": {},
   "outputs": [
    {
     "name": "stdout",
     "output_type": "stream",
     "text": [
      "2\n",
      "1\n"
     ]
    }
   ],
   "source": [
    "str1 = \"I love python3. I am learning pythonhjkll!\"\n",
    "c = str1.count(\"python\")\n",
    "print(c)\n",
    "str1_part1 = str1[:15]\n",
    "print(str1_part1.count(\"python\"))"
   ]
  },
  {
   "cell_type": "code",
   "execution_count": 67,
   "metadata": {},
   "outputs": [
    {
     "name": "stdout",
     "output_type": "stream",
     "text": [
      "True\n",
      "True\n"
     ]
    }
   ],
   "source": [
    "num = \"567\"\n",
    "str1 = \"python\"\n",
    "is_digit = num.isdigit()\n",
    "print(is_digit)\n",
    "is_alpha = str1.isalpha()\n",
    "print(is_alpha)"
   ]
  },
  {
   "cell_type": "code",
   "execution_count": 74,
   "metadata": {},
   "outputs": [
    {
     "name": "stdout",
     "output_type": "stream",
     "text": [
      "I love java. I am learning java!\n"
     ]
    }
   ],
   "source": [
    "str1 = \"I love python. I am learning python!\"\n",
    "str1 = str1.replace(\"python\", \"java\")\n",
    "print(str1)"
   ]
  },
  {
   "cell_type": "code",
   "execution_count": 75,
   "metadata": {},
   "outputs": [
    {
     "name": "stdout",
     "output_type": "stream",
     "text": [
      " love python.  am learning python!\n"
     ]
    }
   ],
   "source": [
    "str1 = \"I love python. I am learning python!\"\n",
    "str1 = str1.replace(\"I\", \"\")\n",
    "print(str1)"
   ]
  },
  {
   "cell_type": "code",
   "execution_count": 95,
   "metadata": {},
   "outputs": [
    {
     "name": "stdout",
     "output_type": "stream",
     "text": [
      "['I', 'love', 'python3', '.', 'I', 'am', 'learning', 'python', '!']\n"
     ]
    }
   ],
   "source": [
    "str1 = \"I love python3 . I am learning python !\"\n",
    "result = str1.split()\n",
    "print(result)"
   ]
  },
  {
   "cell_type": "code",
   "execution_count": 84,
   "metadata": {},
   "outputs": [
    {
     "name": "stdout",
     "output_type": "stream",
     "text": [
      "I love python. I am learning python!\n"
     ]
    }
   ],
   "source": [
    "words = ['', ' love python. ', ' am learning python!']\n",
    "new_str = \"I\".join(words)\n",
    "print(new_str)"
   ]
  },
  {
   "cell_type": "code",
   "execution_count": 90,
   "metadata": {},
   "outputs": [
    {
     "name": "stdout",
     "output_type": "stream",
     "text": [
      "python python python python \n",
      "python java\n"
     ]
    }
   ],
   "source": [
    "## +, *\n",
    "str1 = \"python \"\n",
    "num = 4\n",
    "new_str = num * str1\n",
    "print(new_str)\n",
    "str2 = \"java\"\n",
    "new_str = str1 + str2\n",
    "print(new_str)"
   ]
  },
  {
   "cell_type": "code",
   "execution_count": 91,
   "metadata": {},
   "outputs": [
    {
     "name": "stdout",
     "output_type": "stream",
     "text": [
      "python300\n"
     ]
    }
   ],
   "source": [
    "print(\"python\"+\"300\")"
   ]
  },
  {
   "cell_type": "code",
   "execution_count": 97,
   "metadata": {},
   "outputs": [
    {
     "name": "stdout",
     "output_type": "stream",
     "text": [
      "The price is $0.0 for 0 items.\n"
     ]
    }
   ],
   "source": [
    "import re\n",
    "text = \"The price is $100.00 for 100 items.\"\n",
    "replaced_text = re.sub(r'\\d+', '0', text)\n",
    "print(replaced_text)"
   ]
  },
  {
   "cell_type": "markdown",
   "metadata": {},
   "source": [
    "### Search"
   ]
  },
  {
   "cell_type": "code",
   "execution_count": 99,
   "metadata": {},
   "outputs": [
    {
     "name": "stdout",
     "output_type": "stream",
     "text": [
      "True\n",
      "False\n"
     ]
    }
   ],
   "source": [
    "str1 = \"I am learing python\"\n",
    "# in, not in\n",
    "print(\"python\" in str1)\n",
    "print(\"python\" not in str1)"
   ]
  },
  {
   "cell_type": "code",
   "execution_count": 104,
   "metadata": {},
   "outputs": [
    {
     "name": "stdout",
     "output_type": "stream",
     "text": [
      "reult: 12 + 45 = 57\n",
      "reult: 12 + 45 = 57\n",
      "reult: 12 + 45 = 57\n"
     ]
    }
   ],
   "source": [
    "num1 = 12\n",
    "num2 = 45\n",
    "result = num1 + num2\n",
    "# reult: 12 + 45 = 57\n",
    "print(\"reult:\", num1, \"+\", num2, \"=\",result)\n",
    "print(\"reult: {} + {} = {}\".format(num1, num2, result))\n",
    "print(f\"reult: {num1} + {num2} = {result}\")"
   ]
  },
  {
   "cell_type": "code",
   "execution_count": 110,
   "metadata": {},
   "outputs": [
    {
     "name": "stdout",
     "output_type": "stream",
     "text": [
      "43\n"
     ]
    }
   ],
   "source": [
    "chr1 = \"+\"\n",
    "c_chr1 = ord(chr1)\n",
    "print(c_chr1)"
   ]
  },
  {
   "cell_type": "code",
   "execution_count": 111,
   "metadata": {},
   "outputs": [
    {
     "name": "stdout",
     "output_type": "stream",
     "text": [
      "A\n"
     ]
    }
   ],
   "source": [
    "result = chr(65)\n",
    "print(result)"
   ]
  }
 ],
 "metadata": {
  "kernelspec": {
   "display_name": "base",
   "language": "python",
   "name": "python3"
  },
  "language_info": {
   "codemirror_mode": {
    "name": "ipython",
    "version": 3
   },
   "file_extension": ".py",
   "mimetype": "text/x-python",
   "name": "python",
   "nbconvert_exporter": "python",
   "pygments_lexer": "ipython3",
   "version": "3.9.13"
  }
 },
 "nbformat": 4,
 "nbformat_minor": 2
}
