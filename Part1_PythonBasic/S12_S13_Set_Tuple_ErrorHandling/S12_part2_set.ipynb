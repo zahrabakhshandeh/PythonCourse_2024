{
 "cells": [
  {
   "cell_type": "markdown",
   "metadata": {},
   "source": [
    "### Set"
   ]
  },
  {
   "cell_type": "code",
   "execution_count": null,
   "metadata": {},
   "outputs": [],
   "source": [
    "# [] ===> list ====> index-value\n",
    "# {} ===> dict ====> key:value \n",
    "# () ===> tuple ====> index-value\n",
    "# {} ====> set"
   ]
  },
  {
   "cell_type": "code",
   "execution_count": 3,
   "metadata": {},
   "outputs": [
    {
     "name": "stdout",
     "output_type": "stream",
     "text": [
      "{34, 4, 12}\n",
      "<class 'set'>\n",
      "3\n"
     ]
    }
   ],
   "source": [
    "set1 = {4, 12, 34}\n",
    "print(set1)\n",
    "print(type(set1))\n",
    "print(len(set1))"
   ]
  },
  {
   "cell_type": "code",
   "execution_count": 4,
   "metadata": {},
   "outputs": [
    {
     "name": "stdout",
     "output_type": "stream",
     "text": [
      "{34, 4, 12, 23}\n",
      "4\n"
     ]
    }
   ],
   "source": [
    "set1 = {4, 12, 34, 12, 23, 12}\n",
    "print(set1)\n",
    "print(len(set1))"
   ]
  },
  {
   "cell_type": "code",
   "execution_count": 8,
   "metadata": {},
   "outputs": [
    {
     "name": "stdout",
     "output_type": "stream",
     "text": [
      "5\n",
      "{False, 1.2, 2, True, 12}\n"
     ]
    }
   ],
   "source": [
    "set2 = {1.2, 2, 2, True, False, 0, 0.0, 12}\n",
    "print(len(set2))\n",
    "print(set2)"
   ]
  },
  {
   "cell_type": "markdown",
   "metadata": {},
   "source": [
    "#### Read"
   ]
  },
  {
   "cell_type": "code",
   "execution_count": 7,
   "metadata": {},
   "outputs": [
    {
     "name": "stdout",
     "output_type": "stream",
     "text": [
      "34\n",
      "4\n",
      "12\n"
     ]
    }
   ],
   "source": [
    "set1 = {4, 12, 34}\n",
    "for i in set1:\n",
    "    print(i)"
   ]
  },
  {
   "cell_type": "markdown",
   "metadata": {},
   "source": [
    "#### define"
   ]
  },
  {
   "cell_type": "code",
   "execution_count": 6,
   "metadata": {},
   "outputs": [
    {
     "name": "stdout",
     "output_type": "stream",
     "text": [
      "<class 'set'>\n"
     ]
    }
   ],
   "source": [
    "set1 = {4, 12, 34}\n",
    "set2 = set()\n",
    "print(type(set2))"
   ]
  },
  {
   "cell_type": "markdown",
   "metadata": {},
   "source": [
    "#### Add"
   ]
  },
  {
   "cell_type": "code",
   "execution_count": 11,
   "metadata": {},
   "outputs": [
    {
     "name": "stdout",
     "output_type": "stream",
     "text": [
      "{16, 34, 4, 12}\n",
      "{34, 4, 12, 45, 78, 16}\n"
     ]
    }
   ],
   "source": [
    "set1 = {4, 12, 34}\n",
    "set1.add(16)\n",
    "print(set1)\n",
    "set1.update([12, 45, 78])\n",
    "print(set1)"
   ]
  },
  {
   "cell_type": "markdown",
   "metadata": {},
   "source": [
    "#### Remove"
   ]
  },
  {
   "cell_type": "code",
   "execution_count": 19,
   "metadata": {},
   "outputs": [
    {
     "name": "stdout",
     "output_type": "stream",
     "text": [
      "{34, 12}\n"
     ]
    }
   ],
   "source": [
    "set1 = {4, 12, 34}\n",
    "set1.remove(4)\n",
    "#set1.remove(30)\n",
    "print(set1)"
   ]
  },
  {
   "cell_type": "code",
   "execution_count": 16,
   "metadata": {},
   "outputs": [
    {
     "name": "stdout",
     "output_type": "stream",
     "text": [
      "{34, 12}\n"
     ]
    }
   ],
   "source": [
    "set1 = {4, 12, 34}\n",
    "set1.discard(4)\n",
    "set1.discard(30)\n",
    "print(set1)"
   ]
  },
  {
   "cell_type": "code",
   "execution_count": 17,
   "metadata": {},
   "outputs": [
    {
     "name": "stdout",
     "output_type": "stream",
     "text": [
      "set()\n"
     ]
    }
   ],
   "source": [
    "set1 = {4, 12, 34}\n",
    "set1.clear()\n",
    "print(set1)"
   ]
  },
  {
   "cell_type": "code",
   "execution_count": 21,
   "metadata": {},
   "outputs": [
    {
     "name": "stdout",
     "output_type": "stream",
     "text": [
      "{4, 12} 34\n"
     ]
    }
   ],
   "source": [
    "set1 = {4, 12, 34}\n",
    "result = set1.pop()\n",
    "print(set1, result)"
   ]
  },
  {
   "cell_type": "markdown",
   "metadata": {},
   "source": [
    "#### search"
   ]
  },
  {
   "cell_type": "code",
   "execution_count": 22,
   "metadata": {},
   "outputs": [
    {
     "name": "stdout",
     "output_type": "stream",
     "text": [
      "yes\n"
     ]
    }
   ],
   "source": [
    "# in, not in \n",
    "set1 = {4, 12, 34}\n",
    "if 4 in set1:\n",
    "    print(\"yes\")"
   ]
  },
  {
   "cell_type": "markdown",
   "metadata": {},
   "source": [
    "#### Example"
   ]
  },
  {
   "cell_type": "code",
   "execution_count": 23,
   "metadata": {},
   "outputs": [],
   "source": [
    "import os"
   ]
  },
  {
   "cell_type": "code",
   "execution_count": 26,
   "metadata": {},
   "outputs": [
    {
     "name": "stdout",
     "output_type": "stream",
     "text": [
      "[('/home/zahra/Desktop/Files', ['new', 'test2'], ['git_commit.pdf', 'config.json', 'Reading1.odt', 'project_m.py', 'blog_system.log', 'mongo_project.py', 'session11_part1_tuple.ipynb', 'session11_part2_set.ipynb', 't2.py', 'session11_part3_copy.ipynb', 'writing.odt']), ('/home/zahra/Desktop/Files/new', [], []), ('/home/zahra/Desktop/Files/test2', [], ['result.log', 'test.py'])]\n",
      "('/home/zahra/Desktop/Files', ['new', 'test2'], ['git_commit.pdf', 'config.json', 'Reading1.odt', 'project_m.py', 'blog_system.log', 'mongo_project.py', 'session11_part1_tuple.ipynb', 'session11_part2_set.ipynb', 't2.py', 'session11_part3_copy.ipynb', 'writing.odt'])\n",
      "('/home/zahra/Desktop/Files/new', [], [])\n",
      "('/home/zahra/Desktop/Files/test2', [], ['result.log', 'test.py'])\n"
     ]
    }
   ],
   "source": [
    "path = \"/home/zahra/Desktop/Files\"\n",
    "result = list(os.walk(path))\n",
    "print(result)\n",
    "for i in result:\n",
    "    print(i)"
   ]
  },
  {
   "cell_type": "code",
   "execution_count": 34,
   "metadata": {},
   "outputs": [
    {
     "name": "stdout",
     "output_type": "stream",
     "text": [
      "{'ipynb', 'py', 'pdf', 'json', 'log', 'odt'}\n"
     ]
    }
   ],
   "source": [
    "exts = set()\n",
    "for path, dirs, files in result:\n",
    "    for f in files:\n",
    "        ext = f.split(\".\")[-1]\n",
    "        exts.add(ext)\n",
    "print(exts)    "
   ]
  }
 ],
 "metadata": {
  "kernelspec": {
   "display_name": "base",
   "language": "python",
   "name": "python3"
  },
  "language_info": {
   "codemirror_mode": {
    "name": "ipython",
    "version": 3
   },
   "file_extension": ".py",
   "mimetype": "text/x-python",
   "name": "python",
   "nbconvert_exporter": "python",
   "pygments_lexer": "ipython3",
   "version": "3.9.13"
  },
  "orig_nbformat": 4
 },
 "nbformat": 4,
 "nbformat_minor": 2
}
