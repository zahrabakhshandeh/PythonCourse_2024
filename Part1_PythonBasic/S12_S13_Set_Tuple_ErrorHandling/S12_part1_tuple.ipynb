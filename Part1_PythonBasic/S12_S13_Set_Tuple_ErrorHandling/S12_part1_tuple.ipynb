{
 "cells": [
  {
   "cell_type": "markdown",
   "metadata": {},
   "source": [
    "#### Tuple"
   ]
  },
  {
   "cell_type": "code",
   "execution_count": null,
   "metadata": {},
   "outputs": [],
   "source": [
    "# [] ===> list ====> index-value\n",
    "# {} ===> dict ====> key:value \n",
    "# () ===> tuple ====> index-value"
   ]
  },
  {
   "cell_type": "code",
   "execution_count": 3,
   "metadata": {},
   "outputs": [
    {
     "name": "stdout",
     "output_type": "stream",
     "text": [
      "<class 'tuple'>\n",
      "(12, 3.4, 'python', True)\n"
     ]
    }
   ],
   "source": [
    "t1 = (12, 3.4, \"python\", True)\n",
    "print(type(t1))\n",
    "print(t1)"
   ]
  },
  {
   "cell_type": "markdown",
   "metadata": {},
   "source": [
    "#### Define"
   ]
  },
  {
   "cell_type": "code",
   "execution_count": 6,
   "metadata": {},
   "outputs": [
    {
     "name": "stdout",
     "output_type": "stream",
     "text": [
      "0\n",
      "0\n",
      "4\n"
     ]
    }
   ],
   "source": [
    "t1 = (12, 3.4, \"python\", True)\n",
    "t2 = ()\n",
    "t3 = tuple()\n",
    "# length ====> len()\n",
    "print(len(t2))\n",
    "print(len(t3))\n",
    "print(len(t1))"
   ]
  },
  {
   "cell_type": "code",
   "execution_count": 9,
   "metadata": {},
   "outputs": [
    {
     "name": "stdout",
     "output_type": "stream",
     "text": [
      "<class 'tuple'>\n",
      "1\n"
     ]
    }
   ],
   "source": [
    "t1 = (20,)\n",
    "print(type(t1))\n",
    "print(len(t1))"
   ]
  },
  {
   "cell_type": "markdown",
   "metadata": {},
   "source": [
    "#### Read"
   ]
  },
  {
   "cell_type": "code",
   "execution_count": 13,
   "metadata": {},
   "outputs": [
    {
     "name": "stdout",
     "output_type": "stream",
     "text": [
      "3.4\n",
      "True\n",
      "(12, 3.4)\n"
     ]
    }
   ],
   "source": [
    "t1 = (12, 3.4, \"python\", True)\n",
    "print(t1[1])\n",
    "print(t1[-1])\n",
    "print(t1[:2]) # tuple"
   ]
  },
  {
   "cell_type": "markdown",
   "metadata": {},
   "source": [
    "#### Add, Edit, Remov"
   ]
  },
  {
   "cell_type": "code",
   "execution_count": 18,
   "metadata": {},
   "outputs": [
    {
     "name": "stdout",
     "output_type": "stream",
     "text": [
      "(12, 3.4, 'python', True) <class 'tuple'>\n",
      "[12, 3.4, 'python', True] <class 'list'>\n",
      "[12, 3.4, 'python', True, 20] <class 'list'>\n",
      "[12, 200, 3.4, 'python', True, 20] <class 'list'>\n",
      "(12, 200, 3.4, 'python', True, 20) <class 'tuple'>\n"
     ]
    }
   ],
   "source": [
    "t1 = (12, 3.4, \"python\", True)\n",
    "print(t1, type(t1))\n",
    "# Modify =====> list()\n",
    "t1 = list(t1)\n",
    "print(t1, type(t1))\n",
    "# add\n",
    "t1.append(20)\n",
    "print(t1, type(t1))\n",
    "t1.insert(1, 200)\n",
    "print(t1, type(t1))\n",
    "# Modify ======> tuple()\n",
    "t1 = tuple(t1)\n",
    "print(t1, type(t1))"
   ]
  },
  {
   "cell_type": "code",
   "execution_count": 19,
   "metadata": {},
   "outputs": [
    {
     "name": "stdout",
     "output_type": "stream",
     "text": [
      "(12, 3.4, 'python', True) <class 'tuple'>\n",
      "[12, 3.4, 'python', True] <class 'list'>\n",
      "(12, 'python', True) <class 'tuple'>\n"
     ]
    }
   ],
   "source": [
    "t1 = (12, 3.4, \"python\", True)\n",
    "print(t1, type(t1))\n",
    "# Modify =====> list()\n",
    "t1 = list(t1)\n",
    "print(t1, type(t1))\n",
    "# remove\n",
    "t1.remove(3.4)\n",
    "# Modify ======> tuple()\n",
    "t1 = tuple(t1)\n",
    "print(t1, type(t1))"
   ]
  },
  {
   "cell_type": "code",
   "execution_count": 20,
   "metadata": {},
   "outputs": [
    {
     "name": "stdout",
     "output_type": "stream",
     "text": [
      "(12, 3.4, 'python', True) <class 'tuple'>\n",
      "[12, 3.4, 'python', True] <class 'list'>\n",
      "[12, 40, 'python', True] <class 'list'>\n",
      "(12, 40, 'python', True) <class 'tuple'>\n"
     ]
    }
   ],
   "source": [
    "t1 = (12, 3.4, \"python\", True)\n",
    "print(t1, type(t1))\n",
    "# Modify =====> list()\n",
    "t1 = list(t1)\n",
    "print(t1, type(t1))\n",
    "# edit\n",
    "t1[1] = 40\n",
    "print(t1, type(t1))\n",
    "# Modify ======> tuple()\n",
    "t1 = tuple(t1)\n",
    "print(t1, type(t1))"
   ]
  },
  {
   "cell_type": "markdown",
   "metadata": {},
   "source": [
    "#### Search"
   ]
  },
  {
   "cell_type": "code",
   "execution_count": 21,
   "metadata": {},
   "outputs": [
    {
     "name": "stdout",
     "output_type": "stream",
     "text": [
      "yes\n"
     ]
    }
   ],
   "source": [
    "t1 = (12, 3.4, \"python\", True)\n",
    "# in, not in \n",
    "if 3.4 in t1:\n",
    "    print(\"yes\")"
   ]
  },
  {
   "cell_type": "markdown",
   "metadata": {},
   "source": [
    "#### Methods"
   ]
  },
  {
   "cell_type": "code",
   "execution_count": 24,
   "metadata": {},
   "outputs": [
    {
     "name": "stdout",
     "output_type": "stream",
     "text": [
      "3\n",
      "1\n"
     ]
    }
   ],
   "source": [
    "t1 = (12, 3.4, \"python\", True, 12, 12)\n",
    "counter = t1.count(12)\n",
    "print(counter)\n",
    "i = t1.index(3.4)\n",
    "print(i)"
   ]
  },
  {
   "cell_type": "markdown",
   "metadata": {},
   "source": [
    "#### Del"
   ]
  },
  {
   "cell_type": "code",
   "execution_count": 25,
   "metadata": {},
   "outputs": [],
   "source": [
    "t1 = (12, 3.4, \"python\", True)\n",
    "del t1"
   ]
  },
  {
   "cell_type": "code",
   "execution_count": 26,
   "metadata": {},
   "outputs": [
    {
     "ename": "NameError",
     "evalue": "name 't1' is not defined",
     "output_type": "error",
     "traceback": [
      "\u001b[0;31m---------------------------------------------------------------------------\u001b[0m",
      "\u001b[0;31mNameError\u001b[0m                                 Traceback (most recent call last)",
      "\u001b[0;32m/tmp/ipykernel_44020/223494191.py\u001b[0m in \u001b[0;36m<module>\u001b[0;34m\u001b[0m\n\u001b[0;32m----> 1\u001b[0;31m \u001b[0mprint\u001b[0m\u001b[0;34m(\u001b[0m\u001b[0mt1\u001b[0m\u001b[0;34m)\u001b[0m\u001b[0;34m\u001b[0m\u001b[0;34m\u001b[0m\u001b[0m\n\u001b[0m",
      "\u001b[0;31mNameError\u001b[0m: name 't1' is not defined"
     ]
    }
   ],
   "source": [
    "print(t1)"
   ]
  },
  {
   "cell_type": "markdown",
   "metadata": {},
   "source": [
    "#### Sort"
   ]
  },
  {
   "cell_type": "code",
   "execution_count": 64,
   "metadata": {},
   "outputs": [
    {
     "name": "stdout",
     "output_type": "stream",
     "text": [
      "(34, 23, 23, 20, 18, 12)\n"
     ]
    }
   ],
   "source": [
    "t1 = (23, 34, 12, 23, 18, 20)\n",
    "t2 = tuple(sorted(t1, reverse=True))\n",
    "print(t2)"
   ]
  },
  {
   "cell_type": "code",
   "execution_count": 33,
   "metadata": {},
   "outputs": [
    {
     "name": "stdout",
     "output_type": "stream",
     "text": [
      "(12, 18, 20, 23, 23, 34)\n"
     ]
    }
   ],
   "source": [
    "t1 = (23, 34, 12, 23, 18, 20)\n",
    "t1 = list(t1)\n",
    "t1.sort()\n",
    "t1 = tuple(t1)\n",
    "print(t1)"
   ]
  },
  {
   "cell_type": "markdown",
   "metadata": {},
   "source": [
    "#### Points"
   ]
  },
  {
   "cell_type": "code",
   "execution_count": 35,
   "metadata": {},
   "outputs": [],
   "source": [
    "def new_function(num1, num2):\n",
    "    result1 = num1 + num2 \n",
    "    result2 = num1 - num2\n",
    "    result3 = num1 * num2\n",
    "    return result1, result2, result3"
   ]
  },
  {
   "cell_type": "code",
   "execution_count": 36,
   "metadata": {},
   "outputs": [
    {
     "name": "stdout",
     "output_type": "stream",
     "text": [
      "(7, -1, 12)\n"
     ]
    }
   ],
   "source": [
    "result = new_function(3, 4)\n",
    "print(result)"
   ]
  },
  {
   "cell_type": "code",
   "execution_count": 38,
   "metadata": {},
   "outputs": [
    {
     "name": "stdout",
     "output_type": "stream",
     "text": [
      "7 -1 12\n"
     ]
    }
   ],
   "source": [
    "var1, var2, var3 = new_function(3, 4)\n",
    "print(var1, var2, var3)"
   ]
  },
  {
   "cell_type": "code",
   "execution_count": 40,
   "metadata": {},
   "outputs": [
    {
     "name": "stdout",
     "output_type": "stream",
     "text": [
      "(12, 34, 56)\n"
     ]
    }
   ],
   "source": [
    "x = 12, 34, 56 \n",
    "print(x)"
   ]
  },
  {
   "cell_type": "code",
   "execution_count": 41,
   "metadata": {},
   "outputs": [
    {
     "name": "stdout",
     "output_type": "stream",
     "text": [
      "34 56\n"
     ]
    }
   ],
   "source": [
    "x, y = 34, 56\n",
    "print(x, y)"
   ]
  },
  {
   "cell_type": "code",
   "execution_count": 45,
   "metadata": {},
   "outputs": [
    {
     "name": "stdout",
     "output_type": "stream",
     "text": [
      "34 56 [30, 56, 100]\n"
     ]
    }
   ],
   "source": [
    "x, y, *z = 34, 56, 30, 56, 100\n",
    "print(x, y, z)"
   ]
  },
  {
   "cell_type": "code",
   "execution_count": 46,
   "metadata": {},
   "outputs": [
    {
     "name": "stdout",
     "output_type": "stream",
     "text": [
      "34 [56, 30, 56] 100\n"
     ]
    }
   ],
   "source": [
    "x, *y, z = 34, 56, 30, 56, 100\n",
    "print(x, y, z)"
   ]
  },
  {
   "cell_type": "code",
   "execution_count": 47,
   "metadata": {},
   "outputs": [
    {
     "name": "stdout",
     "output_type": "stream",
     "text": [
      "[34, 56, 30] 56 100\n"
     ]
    }
   ],
   "source": [
    "*x, y, z = 34, 56, 30, 56, 100\n",
    "print(x, y, z)"
   ]
  },
  {
   "cell_type": "markdown",
   "metadata": {},
   "source": [
    "#### Join"
   ]
  },
  {
   "cell_type": "code",
   "execution_count": 48,
   "metadata": {},
   "outputs": [
    {
     "name": "stdout",
     "output_type": "stream",
     "text": [
      "(12, 34, 'python', 'java')\n"
     ]
    }
   ],
   "source": [
    "t1 = (12, 34)\n",
    "t2 = (\"python\", \"java\")\n",
    "t3 = t1 + t2\n",
    "print(t3)"
   ]
  },
  {
   "cell_type": "code",
   "execution_count": 51,
   "metadata": {},
   "outputs": [
    {
     "name": "stdout",
     "output_type": "stream",
     "text": [
      "(12, 34, 12, 34, 12, 34)\n"
     ]
    }
   ],
   "source": [
    "t1 = (12, 34)\n",
    "t2 = t1 * 3\n",
    "print(t2)"
   ]
  },
  {
   "cell_type": "markdown",
   "metadata": {},
   "source": [
    "#### zip"
   ]
  },
  {
   "cell_type": "code",
   "execution_count": 55,
   "metadata": {},
   "outputs": [
    {
     "name": "stdout",
     "output_type": "stream",
     "text": [
      "[('Ali', 13, 12), ('Sara', 18, 17), ('Diana', 20, 19)]\n",
      "Ali 13 12\n",
      "Sara 18 17\n",
      "Diana 20 19\n"
     ]
    }
   ],
   "source": [
    "names = [\"Ali\", \"Sara\", \"Diana\"]\n",
    "scores = [13, 18, 20]\n",
    "age = [12, 17, 19]\n",
    "info = list(zip(names, scores, age))\n",
    "print(info)\n",
    "for n, s, a  in info:\n",
    "    print(n, s, a)"
   ]
  },
  {
   "cell_type": "code",
   "execution_count": 57,
   "metadata": {},
   "outputs": [
    {
     "name": "stdout",
     "output_type": "stream",
     "text": [
      "0 12\n",
      "1 34\n",
      "2 56\n",
      "3 70\n"
     ]
    }
   ],
   "source": [
    "list1 = [12, 34, 56, 70]\n",
    "for i, v in enumerate(list1):\n",
    "    print(i, v)"
   ]
  },
  {
   "cell_type": "code",
   "execution_count": 60,
   "metadata": {},
   "outputs": [
    {
     "name": "stdout",
     "output_type": "stream",
     "text": [
      "((0, 12), (1, 34), (2, 56), (3, 70))\n"
     ]
    }
   ],
   "source": [
    "list1 = [12, 34, 56, 70]\n",
    "result = tuple(enumerate(list1))\n",
    "print(result)"
   ]
  },
  {
   "cell_type": "code",
   "execution_count": 62,
   "metadata": {},
   "outputs": [
    {
     "name": "stdout",
     "output_type": "stream",
     "text": [
      "((0, 12), (1, 34), (2, 56), (3, 70))\n"
     ]
    }
   ],
   "source": [
    "t1 = (12, 34, 56, 70)\n",
    "result = tuple(enumerate(t1))\n",
    "print(result)"
   ]
  },
  {
   "cell_type": "code",
   "execution_count": 59,
   "metadata": {},
   "outputs": [
    {
     "name": "stdout",
     "output_type": "stream",
     "text": [
      "(('Ali', 13, 12), ('Sara', 18, 17), ('Diana', 20, 19))\n"
     ]
    }
   ],
   "source": [
    "names = (\"Ali\", \"Sara\", \"Diana\")\n",
    "scores = (13, 18, 20)\n",
    "age = (12, 17, 19)\n",
    "info = tuple(zip(names, scores, age))\n",
    "print(info)"
   ]
  },
  {
   "cell_type": "code",
   "execution_count": 67,
   "metadata": {},
   "outputs": [
    {
     "name": "stdout",
     "output_type": "stream",
     "text": [
      "12 [23, 12] 45\n"
     ]
    }
   ],
   "source": [
    "x, *y, z = [12, 23, 12, 45]\n",
    "print(x, y, z)"
   ]
  },
  {
   "cell_type": "code",
   "execution_count": 71,
   "metadata": {},
   "outputs": [
    {
     "name": "stdout",
     "output_type": "stream",
     "text": [
      "({'Name': 'Sara', 'Age': 12}, {'Name': 'Sara', 'Age': 12})\n"
     ]
    }
   ],
   "source": [
    "result = {\"Name\": \"Sara\", \"Age\": 12}, {\"Name\": \"Sara\", \"Age\": 12}\n",
    "print(result)"
   ]
  },
  {
   "cell_type": "code",
   "execution_count": null,
   "metadata": {},
   "outputs": [],
   "source": [
    "list1 = [12, 34, 56]\n",
    "res = list1.pop(12)"
   ]
  },
  {
   "cell_type": "code",
   "execution_count": 75,
   "metadata": {},
   "outputs": [
    {
     "name": "stdout",
     "output_type": "stream",
     "text": [
      "9\n",
      "6\n"
     ]
    }
   ],
   "source": [
    "name = \"Python   \"\n",
    "print(len(name))\n",
    "name = name.strip()\n",
    "print(len(name))"
   ]
  }
 ],
 "metadata": {
  "kernelspec": {
   "display_name": "base",
   "language": "python",
   "name": "python3"
  },
  "language_info": {
   "codemirror_mode": {
    "name": "ipython",
    "version": 3
   },
   "file_extension": ".py",
   "mimetype": "text/x-python",
   "name": "python",
   "nbconvert_exporter": "python",
   "pygments_lexer": "ipython3",
   "version": "3.9.13"
  },
  "orig_nbformat": 4
 },
 "nbformat": 4,
 "nbformat_minor": 2
}
