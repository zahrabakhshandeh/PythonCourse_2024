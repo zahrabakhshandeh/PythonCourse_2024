{
 "cells": [
  {
   "cell_type": "markdown",
   "metadata": {},
   "source": [
    "### Copy"
   ]
  },
  {
   "cell_type": "code",
   "execution_count": 2,
   "metadata": {},
   "outputs": [
    {
     "name": "stdout",
     "output_type": "stream",
     "text": [
      "[12, 23, 45, 23]\n",
      "[12, 23, 45, 23]\n"
     ]
    }
   ],
   "source": [
    "l1 = [12, 23, 45]\n",
    "l2 = l1 \n",
    "l1.append(23)\n",
    "print(l1)\n",
    "print(l2)"
   ]
  },
  {
   "cell_type": "markdown",
   "metadata": {},
   "source": [
    "### List"
   ]
  },
  {
   "cell_type": "code",
   "execution_count": 5,
   "metadata": {},
   "outputs": [
    {
     "name": "stdout",
     "output_type": "stream",
     "text": [
      "True\n",
      "False\n",
      "124414851267264\n",
      "124414851266880\n"
     ]
    }
   ],
   "source": [
    "list1 = [12, 23, 45]\n",
    "new_list1 = [12, 23, 45]\n",
    "print(list1 == new_list1)\n",
    "print(list1 is new_list1)\n",
    "print(id(list1))\n",
    "print(id(new_list1))"
   ]
  },
  {
   "cell_type": "code",
   "execution_count": 9,
   "metadata": {},
   "outputs": [
    {
     "name": "stdout",
     "output_type": "stream",
     "text": [
      "True\n",
      "True\n",
      "124414851266048\n",
      "124414851266048\n",
      "[12, 23, 45, 34]\n",
      "[12, 23, 45, 34]\n"
     ]
    }
   ],
   "source": [
    "list1 = [12, 23, 45]\n",
    "new_list1 = list1 \n",
    "print(list1 == new_list1)\n",
    "print(list1 is new_list1)\n",
    "print(id(list1))\n",
    "print(id(new_list1))\n",
    "list1.append(34)\n",
    "print(list1)\n",
    "print(new_list1)"
   ]
  },
  {
   "cell_type": "markdown",
   "metadata": {},
   "source": [
    "#### shallow copy"
   ]
  },
  {
   "cell_type": "code",
   "execution_count": 15,
   "metadata": {},
   "outputs": [
    {
     "name": "stdout",
     "output_type": "stream",
     "text": [
      "False\n",
      "124414805632128\n",
      "124414805685952\n",
      "[12, 23, 45, 12]\n",
      "[12, 23, 45]\n"
     ]
    }
   ],
   "source": [
    "list1 = [12, 23, 45]\n",
    "#list2 = list1[:]\n",
    "#list2 = list1.copy()\n",
    "list2 = list(list1)\n",
    "print(list1 is list2)\n",
    "print(id(list1))\n",
    "print(id(list2))\n",
    "list1.append(12)\n",
    "print(list1)\n",
    "print(list2)"
   ]
  },
  {
   "cell_type": "code",
   "execution_count": 17,
   "metadata": {},
   "outputs": [
    {
     "name": "stdout",
     "output_type": "stream",
     "text": [
      "False\n",
      "124414805668992\n",
      "124414851267712\n",
      "[12, 45, [12, 45, 56]]\n",
      "[12, 23, 45, [12, 45, 56]]\n"
     ]
    }
   ],
   "source": [
    "list1 = [12, 23, 45, [12, 45, 56]] \n",
    "list2 = list1.copy()\n",
    "print(list1 is list2)\n",
    "print(id(list1))\n",
    "print(id(list2))\n",
    "list1.pop(1)\n",
    "print(list1)\n",
    "print(list2)"
   ]
  },
  {
   "cell_type": "code",
   "execution_count": 21,
   "metadata": {},
   "outputs": [
    {
     "name": "stdout",
     "output_type": "stream",
     "text": [
      "True\n",
      "124414805671616\n",
      "124414805671616\n",
      "[12, 23, 45, [12, 200, 56]]\n",
      "[12, 23, 45, [12, 200, 56]]\n"
     ]
    }
   ],
   "source": [
    "list1 = [12, 23, 45, [12, 45, 56]] \n",
    "list2 = list1.copy()\n",
    "print(list1[3] is list2[3])\n",
    "print(id(list1[3]))\n",
    "print(id(list2[3]))\n",
    "list1[3][1]=200\n",
    "print(list1)\n",
    "print(list2)"
   ]
  },
  {
   "cell_type": "markdown",
   "metadata": {},
   "source": [
    "#### deepcopy"
   ]
  },
  {
   "cell_type": "code",
   "execution_count": 22,
   "metadata": {},
   "outputs": [],
   "source": [
    "import copy"
   ]
  },
  {
   "cell_type": "code",
   "execution_count": 23,
   "metadata": {},
   "outputs": [
    {
     "name": "stdout",
     "output_type": "stream",
     "text": [
      "False\n",
      "124414805631808\n",
      "124414805705792\n",
      "[12, 23, 45, [12, 200, 56]]\n",
      "[12, 23, 45, [12, 45, 56]]\n"
     ]
    }
   ],
   "source": [
    "list1 = [12, 23, 45, [12, 45, 56]] \n",
    "list2 = copy.deepcopy(list1)\n",
    "print(list1[3] is list2[3])\n",
    "print(id(list1[3]))\n",
    "print(id(list2[3]))\n",
    "list1[3][1]=200\n",
    "print(list1)\n",
    "print(list2)"
   ]
  },
  {
   "cell_type": "markdown",
   "metadata": {},
   "source": [
    "#### dictionary"
   ]
  },
  {
   "cell_type": "code",
   "execution_count": 24,
   "metadata": {},
   "outputs": [],
   "source": [
    "dict1 = {\n",
    "    \"name\" : \"Sara\",\n",
    "    \"age\": 16,\n",
    "    \"scores\": {\"python\": 15, \"math\": 15}\n",
    "}"
   ]
  },
  {
   "cell_type": "code",
   "execution_count": 25,
   "metadata": {},
   "outputs": [
    {
     "name": "stdout",
     "output_type": "stream",
     "text": [
      "{'name': 'new', 'age': 16, 'scores': {'python': 15, 'math': 15}}\n",
      "{'name': 'new', 'age': 16, 'scores': {'python': 15, 'math': 15}}\n"
     ]
    }
   ],
   "source": [
    "dict2 = dict1 \n",
    "dict1[\"name\"] = \"new\"\n",
    "print(dict1)\n",
    "print(dict2)"
   ]
  },
  {
   "cell_type": "code",
   "execution_count": 27,
   "metadata": {},
   "outputs": [
    {
     "name": "stdout",
     "output_type": "stream",
     "text": [
      "{'name': 'new', 'age': 16, 'scores': {'python': 15, 'math': 15}}\n",
      "{'name': 'Sara', 'age': 16, 'scores': {'python': 15, 'math': 15}}\n"
     ]
    }
   ],
   "source": [
    "dict1 = {\n",
    "    \"name\" : \"Sara\",\n",
    "    \"age\": 16,\n",
    "    \"scores\": {\"python\": 15, \"math\": 15}\n",
    "}\n",
    "#dict2 = dict(dict1) \n",
    "dict2 = dict1.copy()\n",
    "dict1[\"name\"] = \"new\"\n",
    "print(dict1)\n",
    "print(dict2)"
   ]
  },
  {
   "cell_type": "code",
   "execution_count": 28,
   "metadata": {},
   "outputs": [
    {
     "name": "stdout",
     "output_type": "stream",
     "text": [
      "{'name': 'Sara', 'age': 16, 'scores': {'python': 15, 'math': 19}}\n",
      "{'name': 'Sara', 'age': 16, 'scores': {'python': 15, 'math': 19}}\n"
     ]
    }
   ],
   "source": [
    "dict1 = {\n",
    "    \"name\" : \"Sara\",\n",
    "    \"age\": 16,\n",
    "    \"scores\": {\"python\": 15, \"math\": 15}\n",
    "}\n",
    "#dict2 = dict(dict1) \n",
    "dict2 = dict1.copy()\n",
    "dict1[\"scores\"][\"math\"] = 19\n",
    "print(dict1)\n",
    "print(dict2)"
   ]
  },
  {
   "cell_type": "code",
   "execution_count": 29,
   "metadata": {},
   "outputs": [],
   "source": [
    "import copy"
   ]
  },
  {
   "cell_type": "code",
   "execution_count": 30,
   "metadata": {},
   "outputs": [
    {
     "name": "stdout",
     "output_type": "stream",
     "text": [
      "{'name': 'Sara', 'age': 16, 'scores': {'python': 15, 'math': 19}}\n",
      "{'name': 'Sara', 'age': 16, 'scores': {'python': 15, 'math': 15}}\n"
     ]
    }
   ],
   "source": [
    "dict1 = {\n",
    "    \"name\" : \"Sara\",\n",
    "    \"age\": 16,\n",
    "    \"scores\": {\"python\": 15, \"math\": 15}\n",
    "}\n",
    "dict2 = copy.deepcopy(dict1)\n",
    "dict1[\"scores\"][\"math\"] = 19\n",
    "print(dict1)\n",
    "print(dict2)"
   ]
  }
 ],
 "metadata": {
  "kernelspec": {
   "display_name": "base",
   "language": "python",
   "name": "python3"
  },
  "language_info": {
   "codemirror_mode": {
    "name": "ipython",
    "version": 3
   },
   "file_extension": ".py",
   "mimetype": "text/x-python",
   "name": "python",
   "nbconvert_exporter": "python",
   "pygments_lexer": "ipython3",
   "version": "3.9.13"
  },
  "orig_nbformat": 4
 },
 "nbformat": 4,
 "nbformat_minor": 2
}
