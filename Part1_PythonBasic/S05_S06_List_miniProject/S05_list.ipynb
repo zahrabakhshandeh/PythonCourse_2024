{
 "cells": [
  {
   "cell_type": "markdown",
   "metadata": {},
   "source": [
    "### Session05 (List)"
   ]
  },
  {
   "cell_type": "code",
   "execution_count": 1,
   "metadata": {},
   "outputs": [
    {
     "name": "stdout",
     "output_type": "stream",
     "text": [
      "[12, 17.8, 'python', True, None]\n"
     ]
    }
   ],
   "source": [
    "numbers = [34, 78, 23, 45, 89]\n",
    "list2 = [12, 17.8, 'python', True, None]\n",
    "print(list2)"
   ]
  },
  {
   "cell_type": "code",
   "execution_count": 20,
   "metadata": {},
   "outputs": [
    {
     "name": "stdout",
     "output_type": "stream",
     "text": [
      "<class 'NoneType'>\n"
     ]
    }
   ],
   "source": [
    "var1 = None\n",
    "print(type(var1))"
   ]
  },
  {
   "cell_type": "code",
   "execution_count": 3,
   "metadata": {},
   "outputs": [
    {
     "name": "stdout",
     "output_type": "stream",
     "text": [
      "[]\n",
      "<class 'list'>\n"
     ]
    }
   ],
   "source": [
    "list2 = []\n",
    "list3 = list()\n",
    "print(list3)\n",
    "print(type(list3))"
   ]
  },
  {
   "cell_type": "code",
   "execution_count": 5,
   "metadata": {},
   "outputs": [
    {
     "name": "stdout",
     "output_type": "stream",
     "text": [
      "False\n",
      "False\n"
     ]
    }
   ],
   "source": [
    "## 0, 0.0, '', False, [], None\n",
    "print(bool([]))\n",
    "print(bool(None))"
   ]
  },
  {
   "cell_type": "code",
   "execution_count": 6,
   "metadata": {},
   "outputs": [
    {
     "name": "stdout",
     "output_type": "stream",
     "text": [
      "1 0\n"
     ]
    }
   ],
   "source": [
    "## len()  =====> length\n",
    "list1 = [12]\n",
    "list2 = list()\n",
    "print(len(list1), len(list2))"
   ]
  },
  {
   "cell_type": "markdown",
   "metadata": {},
   "source": [
    "### Read"
   ]
  },
  {
   "cell_type": "code",
   "execution_count": 7,
   "metadata": {},
   "outputs": [
    {
     "name": "stdout",
     "output_type": "stream",
     "text": [
      "[12.6, 18.9, 16.0]\n"
     ]
    }
   ],
   "source": [
    "scores = [12.6, 18.9, 16.]\n",
    "print(scores)"
   ]
  },
  {
   "cell_type": "code",
   "execution_count": 11,
   "metadata": {},
   "outputs": [
    {
     "name": "stdout",
     "output_type": "stream",
     "text": [
      "18.9\n",
      "16.0\n"
     ]
    }
   ],
   "source": [
    "scores = [12.6, 18.9, 16.]\n",
    "#index     0      1    2\n",
    "##         -3    -2   -1\n",
    "print(scores[1])\n",
    "#print(scores[8]) # IndexError\n",
    "print(scores[-1])"
   ]
  },
  {
   "cell_type": "code",
   "execution_count": 15,
   "metadata": {},
   "outputs": [
    {
     "name": "stdout",
     "output_type": "stream",
     "text": [
      "[12.6]\n",
      "[18.9, 18]\n",
      "[12.6, 18.9, 16.0, 12.5, 18, 20, 18]\n"
     ]
    }
   ],
   "source": [
    "scores = [12.6, 18.9, 16., 12.5, 18, 20, 18]\n",
    "list2 = scores[0:1]\n",
    "print(list2)\n",
    "# start 0\n",
    "# stop : edn of the list\n",
    "# step: 1\n",
    "print(scores[1::3]) # 1(18.9), 4(18)\n",
    "print(scores)"
   ]
  },
  {
   "cell_type": "markdown",
   "metadata": {},
   "source": [
    "### Add"
   ]
  },
  {
   "cell_type": "code",
   "execution_count": 16,
   "metadata": {},
   "outputs": [
    {
     "name": "stdout",
     "output_type": "stream",
     "text": [
      "[12.6, 18.9, 16.0, 100]\n"
     ]
    }
   ],
   "source": [
    "scores = [12.6, 18.9, 16.]\n",
    "#          0      1    2\n",
    "scores.append(100)\n",
    "print(scores)"
   ]
  },
  {
   "cell_type": "code",
   "execution_count": 19,
   "metadata": {},
   "outputs": [
    {
     "name": "stdout",
     "output_type": "stream",
     "text": [
      "[12.6, 200, 18.9, 16.0]\n"
     ]
    }
   ],
   "source": [
    "scores = [12.6, 18.9, 16.]\n",
    "## index ???? 1\n",
    "scores.insert(1, 200)\n",
    "print(scores)"
   ]
  },
  {
   "cell_type": "code",
   "execution_count": 21,
   "metadata": {},
   "outputs": [
    {
     "name": "stdout",
     "output_type": "stream",
     "text": [
      "[12.6, [200, 456], 18.9, 16.0]\n"
     ]
    }
   ],
   "source": [
    "scores = [12.6, 18.9, 16.]\n",
    "## index ???? 1\n",
    "scores.insert(1, [200, 456])\n",
    "print(scores)"
   ]
  },
  {
   "cell_type": "markdown",
   "metadata": {},
   "source": [
    "### Edit"
   ]
  },
  {
   "cell_type": "code",
   "execution_count": 23,
   "metadata": {},
   "outputs": [
    {
     "name": "stdout",
     "output_type": "stream",
     "text": [
      "[12.6, 300, 16.0, 45, 100]\n"
     ]
    }
   ],
   "source": [
    "scores = [12.6, 18.9, 16., 45, 100]\n",
    "scores[1] = 300 \n",
    "print(scores)"
   ]
  },
  {
   "cell_type": "code",
   "execution_count": 27,
   "metadata": {},
   "outputs": [
    {
     "name": "stdout",
     "output_type": "stream",
     "text": [
      "[12.6, 300, 45, 100]\n"
     ]
    }
   ],
   "source": [
    "scores = [12.6, 18.9, 16., 45, 100]\n",
    "scores[1:3] = [300, 300] \n",
    "print(scores)"
   ]
  },
  {
   "cell_type": "markdown",
   "metadata": {},
   "source": [
    "### Remove"
   ]
  },
  {
   "cell_type": "code",
   "execution_count": null,
   "metadata": {},
   "outputs": [],
   "source": [
    "scores = [12.6, 18.9, 16., 45, 100]\n",
    "# value    12.6, 18.9, 16., 45, 100\n",
    "# index     0     1    2    3    4\n",
    "# index ----> value"
   ]
  },
  {
   "cell_type": "code",
   "execution_count": 37,
   "metadata": {},
   "outputs": [
    {
     "name": "stdout",
     "output_type": "stream",
     "text": [
      "[12.6, 16.0, 45, 100, 18.9]\n",
      "None\n"
     ]
    }
   ],
   "source": [
    "scores = [12.6, 18.9, 16., 45, 100, 18.9]\n",
    "result = scores.remove(18.9)\n",
    "print(scores)\n",
    "print(result)\n",
    "#scores.remove(500) # ValueError"
   ]
  },
  {
   "cell_type": "code",
   "execution_count": 38,
   "metadata": {},
   "outputs": [
    {
     "name": "stdout",
     "output_type": "stream",
     "text": [
      "[12.6, 18.9, 45, 100, 18.9]\n",
      "[12.6, 18.9, 45, 100] 18.9\n"
     ]
    }
   ],
   "source": [
    "scores = [12.6, 18.9, 16., 45, 100, 18.9]\n",
    "#          0      1    2\n",
    "scores.pop(2)\n",
    "print(scores)\n",
    "#scores.pop(20) #IndexError\n",
    "result = scores.pop()\n",
    "print(scores, result)"
   ]
  },
  {
   "cell_type": "code",
   "execution_count": 39,
   "metadata": {},
   "outputs": [
    {
     "name": "stdout",
     "output_type": "stream",
     "text": [
      "[]\n"
     ]
    }
   ],
   "source": [
    "scores = [12.6, 18.9, 16., 45, 100, 18.9]\n",
    "scores.clear()\n",
    "print(scores)"
   ]
  },
  {
   "cell_type": "code",
   "execution_count": 41,
   "metadata": {},
   "outputs": [
    {
     "name": "stdout",
     "output_type": "stream",
     "text": [
      "[45, 100, 18.9]\n"
     ]
    }
   ],
   "source": [
    "scores = [12.6, 18.9, 16., 45, 100, 18.9]\n",
    "del scores[0:3]\n",
    "print(scores)"
   ]
  },
  {
   "cell_type": "code",
   "execution_count": 42,
   "metadata": {},
   "outputs": [
    {
     "ename": "NameError",
     "evalue": "name 'scores' is not defined",
     "output_type": "error",
     "traceback": [
      "\u001b[0;31m---------------------------------------------------------------------------\u001b[0m",
      "\u001b[0;31mNameError\u001b[0m                                 Traceback (most recent call last)",
      "\u001b[0;32m/tmp/ipykernel_20745/642431267.py\u001b[0m in \u001b[0;36m<module>\u001b[0;34m\u001b[0m\n\u001b[1;32m      1\u001b[0m \u001b[0mscores\u001b[0m \u001b[0;34m=\u001b[0m \u001b[0;34m[\u001b[0m\u001b[0;36m12.6\u001b[0m\u001b[0;34m,\u001b[0m \u001b[0;36m18.9\u001b[0m\u001b[0;34m,\u001b[0m \u001b[0;36m16.\u001b[0m\u001b[0;34m,\u001b[0m \u001b[0;36m45\u001b[0m\u001b[0;34m,\u001b[0m \u001b[0;36m100\u001b[0m\u001b[0;34m,\u001b[0m \u001b[0;36m18.9\u001b[0m\u001b[0;34m]\u001b[0m\u001b[0;34m\u001b[0m\u001b[0;34m\u001b[0m\u001b[0m\n\u001b[1;32m      2\u001b[0m \u001b[0;32mdel\u001b[0m \u001b[0mscores\u001b[0m\u001b[0;34m\u001b[0m\u001b[0;34m\u001b[0m\u001b[0m\n\u001b[0;32m----> 3\u001b[0;31m \u001b[0mprint\u001b[0m\u001b[0;34m(\u001b[0m\u001b[0mscores\u001b[0m\u001b[0;34m)\u001b[0m\u001b[0;34m\u001b[0m\u001b[0;34m\u001b[0m\u001b[0m\n\u001b[0m",
      "\u001b[0;31mNameError\u001b[0m: name 'scores' is not defined"
     ]
    }
   ],
   "source": [
    "scores = [12.6, 18.9, 16., 45, 100, 18.9]\n",
    "del scores\n",
    "print(scores)"
   ]
  },
  {
   "cell_type": "markdown",
   "metadata": {},
   "source": [
    "### Search"
   ]
  },
  {
   "cell_type": "code",
   "execution_count": 46,
   "metadata": {},
   "outputs": [
    {
     "name": "stdout",
     "output_type": "stream",
     "text": [
      "True\n",
      "[12.6, 18.9, 16.0, 45, 100, 18.9, 19]\n"
     ]
    }
   ],
   "source": [
    "scores = [12.6, 18.9, 16., 45, 100, 18.9]\n",
    "print(19 not in scores)\n",
    "if 19 in scores:\n",
    "    scores.remove(19)\n",
    "else:\n",
    "    scores.append(19)\n",
    "print(scores)"
   ]
  },
  {
   "cell_type": "markdown",
   "metadata": {},
   "source": [
    "### Loop in list"
   ]
  },
  {
   "cell_type": "code",
   "execution_count": 47,
   "metadata": {},
   "outputs": [
    {
     "name": "stdout",
     "output_type": "stream",
     "text": [
      "p\n",
      "y\n",
      "t\n",
      "h\n",
      "o\n",
      "n\n"
     ]
    }
   ],
   "source": [
    "for i in \"python\":\n",
    "    print(i)"
   ]
  },
  {
   "cell_type": "code",
   "execution_count": 48,
   "metadata": {},
   "outputs": [
    {
     "name": "stdout",
     "output_type": "stream",
     "text": [
      "12.6\n",
      "18.9\n",
      "16.0\n",
      "45\n"
     ]
    }
   ],
   "source": [
    "scores = [12.6, 18.9, 16., 45]\n",
    "for s in scores:\n",
    "    print(s)"
   ]
  },
  {
   "cell_type": "code",
   "execution_count": 49,
   "metadata": {},
   "outputs": [
    {
     "name": "stdout",
     "output_type": "stream",
     "text": [
      "0\n",
      "1\n",
      "2\n",
      "3\n"
     ]
    }
   ],
   "source": [
    "for i in range(4):\n",
    "    print(i)"
   ]
  },
  {
   "cell_type": "code",
   "execution_count": 79,
   "metadata": {},
   "outputs": [
    {
     "name": "stdout",
     "output_type": "stream",
     "text": [
      "<class 'list'>\n",
      "[0, 1, 2, 3]\n"
     ]
    }
   ],
   "source": [
    "result = list(range(4))\n",
    "print(type(result))\n",
    "print(result)"
   ]
  },
  {
   "cell_type": "code",
   "execution_count": 54,
   "metadata": {},
   "outputs": [
    {
     "name": "stdout",
     "output_type": "stream",
     "text": [
      "12.6\n",
      "18.9\n",
      "16.0\n",
      "45\n"
     ]
    }
   ],
   "source": [
    "## Value\n",
    "scores = [12.6, 18.9, 16., 45]\n",
    "for s in scores:\n",
    "    print(s)"
   ]
  },
  {
   "cell_type": "code",
   "execution_count": 55,
   "metadata": {},
   "outputs": [
    {
     "name": "stdout",
     "output_type": "stream",
     "text": [
      "0\n",
      "1\n",
      "2\n",
      "3\n"
     ]
    }
   ],
   "source": [
    "# Index\n",
    "scores = [12.6, 18.9, 16., 45]\n",
    "for i in range(len(scores)): # 4 ====> range(4)\n",
    "    print(i)"
   ]
  },
  {
   "cell_type": "code",
   "execution_count": 56,
   "metadata": {},
   "outputs": [
    {
     "name": "stdout",
     "output_type": "stream",
     "text": [
      "0 12.6\n",
      "1 18.9\n",
      "2 16.0\n",
      "3 45\n"
     ]
    }
   ],
   "source": [
    "# Index, value\n",
    "scores = [12.6, 18.9, 16., 45]\n",
    "for i in range(len(scores)): # 4 ====> range(4)\n",
    "    print(i, scores[i]) # scores[0], scores[1]"
   ]
  },
  {
   "cell_type": "code",
   "execution_count": 57,
   "metadata": {},
   "outputs": [
    {
     "name": "stdout",
     "output_type": "stream",
     "text": [
      "0 12.6\n",
      "1 18.9\n",
      "2 16.0\n",
      "3 45\n"
     ]
    }
   ],
   "source": [
    "# Index, value\n",
    "scores = [12.6, 18.9, 16., 45]\n",
    "for i, v in enumerate(scores):\n",
    "    print(i, v)"
   ]
  },
  {
   "cell_type": "code",
   "execution_count": 58,
   "metadata": {},
   "outputs": [
    {
     "name": "stdout",
     "output_type": "stream",
     "text": [
      "[(0, 12.6), (1, 18.9), (2, 16.0), (3, 45)]\n"
     ]
    }
   ],
   "source": [
    "result = list(enumerate(scores))\n",
    "print(result)"
   ]
  },
  {
   "cell_type": "markdown",
   "metadata": {},
   "source": [
    "### copy"
   ]
  },
  {
   "cell_type": "code",
   "execution_count": 61,
   "metadata": {},
   "outputs": [
    {
     "name": "stdout",
     "output_type": "stream",
     "text": [
      "num1: 12, y:12\n",
      "num1: 27, y:12\n"
     ]
    }
   ],
   "source": [
    "num1 = 12\n",
    "y = num1\n",
    "print(f\"num1: {num1}, y:{y}\")\n",
    "num1 = 27\n",
    "print(f\"num1: {num1}, y:{y}\")"
   ]
  },
  {
   "cell_type": "code",
   "execution_count": 63,
   "metadata": {},
   "outputs": [
    {
     "name": "stdout",
     "output_type": "stream",
     "text": [
      "before edit: list1 [5, 8, 10], list2: [5, 8, 10]\n",
      "before edit: list1 [5, 8, 10, 450], list2: [5, 8, 10, 450]\n"
     ]
    }
   ],
   "source": [
    "list1 = [5, 8, 10]\n",
    "list2 = list1\n",
    "print(f\"before edit: list1 {list1}, list2: {list2}\")\n",
    "list1.append(450)\n",
    "print(f\"before edit: list1 {list1}, list2: {list2}\")"
   ]
  },
  {
   "cell_type": "code",
   "execution_count": 64,
   "metadata": {},
   "outputs": [
    {
     "name": "stdout",
     "output_type": "stream",
     "text": [
      "before edit: list1 [5, 8, 10], list2: [5, 8, 10]\n",
      "before edit: list1 [5, 8, 10, 450], list2: [5, 8, 10]\n"
     ]
    }
   ],
   "source": [
    "list1 = [5, 8, 10]\n",
    "list2 = list1[:]\n",
    "print(f\"before edit: list1 {list1}, list2: {list2}\")\n",
    "list1.append(450)\n",
    "print(f\"before edit: list1 {list1}, list2: {list2}\")"
   ]
  },
  {
   "cell_type": "code",
   "execution_count": 65,
   "metadata": {},
   "outputs": [
    {
     "name": "stdout",
     "output_type": "stream",
     "text": [
      "before edit: list1 [5, 8, 10], list2: [5, 8, 10]\n",
      "before edit: list1 [5, 8, 10, 450], list2: [5, 8, 10]\n"
     ]
    }
   ],
   "source": [
    "list1 = [5, 8, 10]\n",
    "list2 = list(list1)\n",
    "print(f\"before edit: list1 {list1}, list2: {list2}\")\n",
    "list1.append(450)\n",
    "print(f\"before edit: list1 {list1}, list2: {list2}\")"
   ]
  },
  {
   "cell_type": "code",
   "execution_count": 66,
   "metadata": {},
   "outputs": [
    {
     "name": "stdout",
     "output_type": "stream",
     "text": [
      "before edit: list1 [5, 8, 10], list2: [5, 8, 10]\n",
      "before edit: list1 [5, 8, 10, 450], list2: [5, 8, 10]\n"
     ]
    }
   ],
   "source": [
    "list1 = [5, 8, 10]\n",
    "list2 = list1.copy()\n",
    "print(f\"before edit: list1 {list1}, list2: {list2}\")\n",
    "list1.append(450)\n",
    "print(f\"before edit: list1 {list1}, list2: {list2}\")"
   ]
  },
  {
   "cell_type": "markdown",
   "metadata": {},
   "source": [
    "### points"
   ]
  },
  {
   "cell_type": "code",
   "execution_count": 67,
   "metadata": {},
   "outputs": [
    {
     "name": "stdout",
     "output_type": "stream",
     "text": [
      "2\n"
     ]
    }
   ],
   "source": [
    "list1 = [5, 8, 10, 23]\n",
    "i = list1.index(10)\n",
    "print(i)"
   ]
  },
  {
   "cell_type": "code",
   "execution_count": 68,
   "metadata": {},
   "outputs": [
    {
     "name": "stdout",
     "output_type": "stream",
     "text": [
      "3\n"
     ]
    }
   ],
   "source": [
    "list1 = [5, 8, 10, 23, 34, 10, 10]\n",
    "c_num = list1.count(10)\n",
    "print(c_num)"
   ]
  },
  {
   "cell_type": "code",
   "execution_count": 70,
   "metadata": {},
   "outputs": [
    {
     "name": "stdout",
     "output_type": "stream",
     "text": [
      "[67, 23, 17, 10, 8, 5, 3]\n"
     ]
    }
   ],
   "source": [
    "list1 = [67, 3, 17, 5, 8, 10, 23]\n",
    "list1.sort(reverse=True)\n",
    "print(list1)"
   ]
  },
  {
   "cell_type": "code",
   "execution_count": 71,
   "metadata": {},
   "outputs": [
    {
     "name": "stdout",
     "output_type": "stream",
     "text": [
      "67 3 133 7 19.0\n"
     ]
    }
   ],
   "source": [
    "list1 = [67, 3, 17, 5, 8, 10, 23]\n",
    "max_num = max(list1)\n",
    "min_num = min(list1)\n",
    "sum_list = sum(list1)\n",
    "len_list = len(list1)\n",
    "avg = sum_list / len_list\n",
    "print(max_num, min_num, sum_list, len_list, avg)"
   ]
  },
  {
   "cell_type": "code",
   "execution_count": 75,
   "metadata": {},
   "outputs": [
    {
     "name": "stdout",
     "output_type": "stream",
     "text": [
      "2\n"
     ]
    }
   ],
   "source": [
    "x = 5\n",
    "y = 2\n",
    "print(x // y)"
   ]
  },
  {
   "cell_type": "code",
   "execution_count": 80,
   "metadata": {},
   "outputs": [
    {
     "name": "stdout",
     "output_type": "stream",
     "text": [
      "['p', 'y', 't', 'h', 'o', 'n']\n"
     ]
    }
   ],
   "source": [
    "name = \"python\"\n",
    "list2 = list(name)\n",
    "print(list2)"
   ]
  }
 ],
 "metadata": {
  "kernelspec": {
   "display_name": "base",
   "language": "python",
   "name": "python3"
  },
  "language_info": {
   "codemirror_mode": {
    "name": "ipython",
    "version": 3
   },
   "file_extension": ".py",
   "mimetype": "text/x-python",
   "name": "python",
   "nbconvert_exporter": "python",
   "pygments_lexer": "ipython3",
   "version": "3.9.13"
  }
 },
 "nbformat": 4,
 "nbformat_minor": 2
}
