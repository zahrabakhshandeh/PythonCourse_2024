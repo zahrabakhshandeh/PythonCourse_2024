{
 "cells": [
  {
   "cell_type": "code",
   "execution_count": 1,
   "metadata": {},
   "outputs": [],
   "source": [
    "# Notes =======> list \n",
    "# unique, join, all data str"
   ]
  },
  {
   "cell_type": "code",
   "execution_count": 2,
   "metadata": {},
   "outputs": [],
   "source": [
    "list1 = [\"python\", \"java\", \"c++\", \"java\"]\n",
    "# [\"python\", \"java\", \"c++\"]\n",
    "# 3\n",
    "# python 1, java 2, c++ 1 \n",
    "# [1, 4, \"python\"]\n",
    "new_list = list1.unique()\n"
   ]
  },
  {
   "cell_type": "code",
   "execution_count": 3,
   "metadata": {},
   "outputs": [
    {
     "name": "stdout",
     "output_type": "stream",
     "text": [
      "<class 'list'>\n"
     ]
    }
   ],
   "source": [
    "list1 = [1, 3, 45]\n",
    "print(type(list1))"
   ]
  },
  {
   "cell_type": "code",
   "execution_count": null,
   "metadata": {},
   "outputs": [],
   "source": []
  },
  {
   "cell_type": "code",
   "execution_count": 58,
   "metadata": {},
   "outputs": [],
   "source": [
    "from typing import Iterable, SupportsIndex\n",
    "\n",
    "\n",
    "class MyList(list):\n",
    "    def __init__(self, data=[]):\n",
    "        if self.all_str(data):\n",
    "            super().__init__(data)\n",
    "        else:\n",
    "            raise ValueError(\"Only String!\")\n",
    "    \n",
    "    @staticmethod\n",
    "    def all_str(data):\n",
    "        for item in data:\n",
    "            if not isinstance(item, str):\n",
    "                return False \n",
    "        return True\n",
    "    \n",
    "    def append(self, value):\n",
    "        if isinstance(value, str):\n",
    "            super().append(value)\n",
    "        else:\n",
    "            raise ValueError(\"Only String!\")\n",
    "        \n",
    "    def insert(self, index, value):\n",
    "        if isinstance(value, str):\n",
    "            super().insert(index, value)\n",
    "        else:\n",
    "            raise ValueError(\"Only String!\")\n",
    "        \n",
    "    def extend(self, list_data):\n",
    "        if self.all_str(list_data):\n",
    "            super().extend(list_data)\n",
    "        else:\n",
    "            raise ValueError(\"Only String!\")\n",
    "        \n",
    "    def __setitem__(self, index, value):\n",
    "        if isinstance(value, str):\n",
    "            super().__setitem__(index, value)\n",
    "        else:\n",
    "            raise ValueError(\"Only String!\")\n",
    "\n",
    "    def filter_data(self, value): # python \n",
    "        # [\"python\", \"python3\", \"java\"] ======> [\"python\", \"python3\"]\n",
    "        if not isinstance(value, str):\n",
    "            raise ValueError(\"Only String!\")\n",
    "        filtered_data = []\n",
    "        for item in self: # python, python3, java\n",
    "            if value in item: # python in python\n",
    "                filtered_data.append(item)\n",
    "        return filtered_data\n",
    "\n",
    "    def join_data(self, seprator=\"\"):\n",
    "        result = seprator.join(self)\n",
    "        return result\n",
    "    \n",
    "    def unique(self):\n",
    "        return list(set(self))\n",
    "        \n",
    "    def nuique(self):\n",
    "        n_unique = len(self.unique())\n",
    "        return n_unique\n",
    "    \n",
    "    def count_value(self):\n",
    "        counts = {}\n",
    "        for item in self:\n",
    "            count_item = counts.get(item, 0) + 1 \n",
    "            counts[item] = count_item \n",
    "        return counts"
   ]
  },
  {
   "cell_type": "code",
   "execution_count": 59,
   "metadata": {},
   "outputs": [
    {
     "name": "stdout",
     "output_type": "stream",
     "text": [
      "['java', 'python', 'a', 'New']\n"
     ]
    },
    {
     "data": {
      "text/plain": [
       "{'java': 1, 'python': 2, 'a': 1, 'New': 1}"
      ]
     },
     "execution_count": 59,
     "metadata": {},
     "output_type": "execute_result"
    }
   ],
   "source": [
    "l1 = MyList()\n",
    "len(l1)\n",
    "l1.append(\"python\")\n",
    "len(l1)\n",
    "l1\n",
    "l1.insert(0, \"java\")\n",
    "#l1.insert(0, 20)\n",
    "l2 = [\"a\", \"New\"]\n",
    "l1.extend(l2)\n",
    "print(l1)\n",
    "len(dir(l1))\n",
    "#l1[0] = 400\n",
    "l1.filter_data(\"a\")\n",
    "len(dir(l1))\n",
    "l1.join_data()\n",
    "l1.append(\"python\")\n",
    "l1.unique(), l1\n",
    "l1.nuique()\n",
    "l1.count_value()"
   ]
  },
  {
   "cell_type": "code",
   "execution_count": 12,
   "metadata": {},
   "outputs": [
    {
     "ename": "ValueError",
     "evalue": "Only String!",
     "output_type": "error",
     "traceback": [
      "\u001b[0;31m---------------------------------------------------------------------------\u001b[0m",
      "\u001b[0;31mValueError\u001b[0m                                Traceback (most recent call last)",
      "Cell \u001b[0;32mIn[12], line 1\u001b[0m\n\u001b[0;32m----> 1\u001b[0m l1 \u001b[38;5;241m=\u001b[39m \u001b[43mMyList\u001b[49m\u001b[43m(\u001b[49m\u001b[43m[\u001b[49m\u001b[38;5;241;43m6\u001b[39;49m\u001b[43m,\u001b[49m\u001b[43m \u001b[49m\u001b[38;5;124;43m\"\u001b[39;49m\u001b[38;5;124;43mb\u001b[39;49m\u001b[38;5;124;43m\"\u001b[39;49m\u001b[43m]\u001b[49m\u001b[43m)\u001b[49m\n\u001b[1;32m      2\u001b[0m l1\u001b[38;5;241m.\u001b[39m\u001b[38;5;18m__dict__\u001b[39m\n",
      "Cell \u001b[0;32mIn[8], line 6\u001b[0m, in \u001b[0;36mMyList.__init__\u001b[0;34m(self, data)\u001b[0m\n\u001b[1;32m      4\u001b[0m     \u001b[38;5;28msuper\u001b[39m()\u001b[38;5;241m.\u001b[39m\u001b[38;5;21m__init__\u001b[39m(data)\n\u001b[1;32m      5\u001b[0m \u001b[38;5;28;01melse\u001b[39;00m:\n\u001b[0;32m----> 6\u001b[0m     \u001b[38;5;28;01mraise\u001b[39;00m \u001b[38;5;167;01mValueError\u001b[39;00m(\u001b[38;5;124m\"\u001b[39m\u001b[38;5;124mOnly String!\u001b[39m\u001b[38;5;124m\"\u001b[39m)\n",
      "\u001b[0;31mValueError\u001b[0m: Only String!"
     ]
    }
   ],
   "source": [
    "l1 = MyList([6, \"b\"])"
   ]
  },
  {
   "cell_type": "code",
   "execution_count": 7,
   "metadata": {},
   "outputs": [
    {
     "data": {
      "text/plain": [
       "['__repr__',\n",
       " '__reversed__',\n",
       " '__rmul__',\n",
       " '__setattr__',\n",
       " '__setitem__',\n",
       " '__sizeof__',\n",
       " '__str__',\n",
       " '__subclasshook__',\n",
       " '__weakref__',\n",
       " 'append',\n",
       " 'clear',\n",
       " 'copy',\n",
       " 'count',\n",
       " 'extend',\n",
       " 'index',\n",
       " 'insert',\n",
       " 'pop',\n",
       " 'remove',\n",
       " 'reverse',\n",
       " 'sort']"
      ]
     },
     "execution_count": 7,
     "metadata": {},
     "output_type": "execute_result"
    }
   ],
   "source": [
    "l1 = MyList()\n",
    "len(dir(l1))\n",
    "dir(l1)[30:]"
   ]
  },
  {
   "cell_type": "code",
   "execution_count": 27,
   "metadata": {},
   "outputs": [
    {
     "name": "stdout",
     "output_type": "stream",
     "text": [
      "[12, 13, 18, 34, 56, 78]\n"
     ]
    }
   ],
   "source": [
    "list1 = [12, 13, 18]\n",
    "list2 = [34, 56, 78]\n",
    "list1.extend(list2)\n",
    "print(list1)"
   ]
  },
  {
   "cell_type": "code",
   "execution_count": 45,
   "metadata": {},
   "outputs": [
    {
     "name": "stdout",
     "output_type": "stream",
     "text": [
      "python#java#c++\n"
     ]
    }
   ],
   "source": [
    "list1 = [\"python\", \"java\", \"c++\"]\n",
    "result = \"#\".join(list1) # string\n",
    "print(result)\n",
    "list1.join(\"#\")"
   ]
  },
  {
   "cell_type": "code",
   "execution_count": 62,
   "metadata": {},
   "outputs": [
    {
     "name": "stdout",
     "output_type": "stream",
     "text": [
      "{'A': 2, 'B': 1}\n"
     ]
    }
   ],
   "source": [
    "list1 = [\"A\", \"B\", \"A\"]\n",
    "counts = {}\n",
    "for item in list1: #item=\"A\", \"B\", \"A\"\n",
    "    count_item = counts.get(item, 0) + 1  # 0 + 1, 0 + 1, 1 + 1 = 2\n",
    "    counts[item] = count_item # counts = {\"A\":1}, {\"A\":2, \"B\":1}\n",
    "print(counts)"
   ]
  },
  {
   "cell_type": "code",
   "execution_count": 65,
   "metadata": {},
   "outputs": [
    {
     "name": "stdout",
     "output_type": "stream",
     "text": [
      "list index out of range\n"
     ]
    }
   ],
   "source": [
    "list1 = [12, 23, 15] \n",
    "i = int(input())\n",
    "try:\n",
    "    print(list1[i])\n",
    "except IndexError as e: \n",
    "    print(e)"
   ]
  }
 ],
 "metadata": {
  "kernelspec": {
   "display_name": "Python 3 (ipykernel)",
   "language": "python",
   "name": "python3"
  },
  "language_info": {
   "codemirror_mode": {
    "name": "ipython",
    "version": 3
   },
   "file_extension": ".py",
   "mimetype": "text/x-python",
   "name": "python",
   "nbconvert_exporter": "python",
   "pygments_lexer": "ipython3",
   "version": "3.10.12"
  }
 },
 "nbformat": 4,
 "nbformat_minor": 2
}
