{
 "cells": [
  {
   "cell_type": "markdown",
   "metadata": {},
   "source": [
    "### Inheritance"
   ]
  },
  {
   "cell_type": "code",
   "execution_count": 3,
   "metadata": {},
   "outputs": [],
   "source": [
    "class Student:\n",
    "    def __init__(self, id_, name, age, score):\n",
    "        self.id_ = id_ \n",
    "        self.name = name \n",
    "        self.age = age\n",
    "        self.score = score\n",
    "    \n",
    "    def __str__(self):\n",
    "        return f\"{self.id}, {self.name}, {self.age}, {self.score}\"\n",
    "\n",
    "    def get_name(self):\n",
    "        print(self.name)\n",
    "\n",
    "    def get_score(self):\n",
    "        print(self.score)"
   ]
  },
  {
   "cell_type": "code",
   "execution_count": 5,
   "metadata": {},
   "outputs": [],
   "source": [
    "class Employee:\n",
    "    def __init__(self, id_, name, age, salary):\n",
    "        self.id_ = id_ \n",
    "        self.name = name \n",
    "        self.age = age\n",
    "        self.salary = salary\n",
    "    \n",
    "    def __str__(self):\n",
    "        return f\"{self.id}, {self.name}, {self.age}, {self.salary}\"\n",
    "\n",
    "    def get_name(self):\n",
    "        print(self.name)\n",
    "\n",
    "    def get_salary(self):\n",
    "        print(self.salary)"
   ]
  },
  {
   "cell_type": "code",
   "execution_count": 2,
   "metadata": {},
   "outputs": [],
   "source": [
    "class Teacher:\n",
    "    def __init__(self, id_, name, age, salary, rank):\n",
    "        self.id_ = id_ \n",
    "        self.name = name \n",
    "        self.age = age\n",
    "        self.salary = salary \n",
    "        self.rank = rank\n",
    "    \n",
    "    def __str__(self):\n",
    "        return f\"{self.id}, {self.name}, {self.age}, {self.salary}, {self.rank}\"\n",
    "\n",
    "    def get_name(self):\n",
    "        print(self.name)\n",
    "\n",
    "    def get_salary(self):\n",
    "        print(self.salary)"
   ]
  },
  {
   "cell_type": "code",
   "execution_count": null,
   "metadata": {},
   "outputs": [],
   "source": []
  }
 ],
 "metadata": {
  "kernelspec": {
   "display_name": "base",
   "language": "python",
   "name": "python3"
  },
  "language_info": {
   "codemirror_mode": {
    "name": "ipython",
    "version": 3
   },
   "file_extension": ".py",
   "mimetype": "text/x-python",
   "name": "python",
   "nbconvert_exporter": "python",
   "pygments_lexer": "ipython3",
   "version": "3.9.13"
  }
 },
 "nbformat": 4,
 "nbformat_minor": 2
}
