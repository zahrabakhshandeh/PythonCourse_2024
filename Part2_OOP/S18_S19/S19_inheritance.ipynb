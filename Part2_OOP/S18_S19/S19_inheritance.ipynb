{
 "cells": [
  {
   "cell_type": "markdown",
   "metadata": {},
   "source": [
    "### Inheritance"
   ]
  },
  {
   "cell_type": "code",
   "execution_count": 3,
   "metadata": {},
   "outputs": [],
   "source": [
    "class Student:\n",
    "    def __init__(self, id_, name, age, score):\n",
    "        self.id_ = id_ \n",
    "        self.name = name \n",
    "        self.age = age\n",
    "        self.score = score\n",
    "    \n",
    "    def __str__(self):\n",
    "        return f\"{self.id}, {self.name}, {self.age}, {self.score}\"\n",
    "\n",
    "    def get_name(self):\n",
    "        print(self.name)\n",
    "\n",
    "    def get_score(self):\n",
    "        print(self.score)"
   ]
  },
  {
   "cell_type": "code",
   "execution_count": 5,
   "metadata": {},
   "outputs": [],
   "source": [
    "class Employee:\n",
    "    def __init__(self, id_, name, age, salary):\n",
    "        self.id_ = id_ \n",
    "        self.name = name \n",
    "        self.age = age\n",
    "        self.salary = salary\n",
    "    \n",
    "    def __str__(self):\n",
    "        return f\"{self.id}, {self.name}, {self.age}, {self.salary}\"\n",
    "\n",
    "    def get_name(self):\n",
    "        print(self.name)\n",
    "\n",
    "    def get_salary(self):\n",
    "        print(self.salary)"
   ]
  },
  {
   "cell_type": "code",
   "execution_count": 2,
   "metadata": {},
   "outputs": [],
   "source": [
    "class Teacher:\n",
    "    def __init__(self, id_, name, age, salary, rank):\n",
    "        self.id_ = id_ \n",
    "        self.name = name \n",
    "        self.age = age\n",
    "        self.salary = salary \n",
    "        self.rank = rank\n",
    "    \n",
    "    def __str__(self):\n",
    "        return f\"{self.id}, {self.name}, {self.age}, {self.salary}, {self.rank}\"\n",
    "\n",
    "    def get_name(self):\n",
    "        print(self.name)\n",
    "\n",
    "    def get_salary(self):\n",
    "        print(self.salary)"
   ]
  },
  {
   "cell_type": "markdown",
   "metadata": {},
   "source": [
    "### Inheritance (Intoduction)"
   ]
  },
  {
   "cell_type": "code",
   "execution_count": 8,
   "metadata": {},
   "outputs": [],
   "source": [
    "class Person:\n",
    "    def __init__(self, id_, name, age):\n",
    "        self.id_ = id_ \n",
    "        self.name = name \n",
    "        self.age = age \n",
    "\n",
    "    def __str__(self):\n",
    "        return f\"{self.id_}, {self.name}, {self.age}\"\n",
    "    \n",
    "    def get_name(self):\n",
    "        print(self.name)\n",
    "\n",
    "        \n",
    "class Student(Person):\n",
    "    def __init__(self, id_, name, age, score):\n",
    "        super().__init__(id_, name, age)\n",
    "        self.score = score\n",
    "    \n",
    "    def __str__(self):\n",
    "        info = super().__str__()\n",
    "        return f\"{info}, {self.score}\"\n",
    "\n",
    "    def get_score(self):\n",
    "        print(self.score)\n",
    "\n",
    "\n",
    "class Employee:\n",
    "    def __init__(self, id_, name, age, salary):\n",
    "        self.id_ = id_ \n",
    "        self.name = name \n",
    "        self.age = age\n",
    "        self.salary = salary\n",
    "    \n",
    "    def __str__(self):\n",
    "        return f\"{self.id_}, {self.name}, {self.age}, {self.salary}\"\n",
    "\n",
    "    def get_name(self):\n",
    "        print(self.name)\n",
    "\n",
    "    def get_salary(self):\n",
    "        print(self.salary)"
   ]
  },
  {
   "cell_type": "code",
   "execution_count": 35,
   "metadata": {},
   "outputs": [],
   "source": [
    "class Person:\n",
    "    def __init__(self, id_, name, age):\n",
    "        self.id_ = id_ \n",
    "        self.name = name \n",
    "        self.age = age \n",
    "\n",
    "    def __str__(self):\n",
    "        return f\"{self.id_}, {self.name}, {self.age}\"\n",
    "    \n",
    "    def get_name(self):\n",
    "        print(self.name)\n",
    "\n",
    "class Student2(Person):\n",
    "    def __init__(self, id_, name, age, score):\n",
    "        super().__init__(id_, name, age)\n",
    "        self.score = score\n",
    "\n",
    "    def __str__(self):\n",
    "        info = super().__str__()\n",
    "        return f\"{info},{self.score}\"\n",
    "    \n",
    "class Employee(Person):\n",
    "    def __init__(self, id_, name, age, salary):\n",
    "        super().__init__(id_, name, age)\n",
    "        self.salary = salary\n",
    "    \n",
    "    def __str__(self):\n",
    "        info = super().__str__()\n",
    "        return f\"{info}, {self.salary}\"\n",
    "\n",
    "    def get_salary(self):\n",
    "        print(self.salary)"
   ]
  },
  {
   "cell_type": "code",
   "execution_count": 36,
   "metadata": {},
   "outputs": [
    {
     "name": "stdout",
     "output_type": "stream",
     "text": [
      "1, A, 12,19\n"
     ]
    }
   ],
   "source": [
    "st1 = Student2(\"1\", \"A\", 12, 19)\n",
    "st1.__dict__\n",
    "print(st1)"
   ]
  },
  {
   "cell_type": "code",
   "execution_count": 28,
   "metadata": {},
   "outputs": [
    {
     "name": "stdout",
     "output_type": "stream",
     "text": [
      "1, E1, 38, 8000\n"
     ]
    }
   ],
   "source": [
    "e1 = Employee(\"1\", \"E1\", 38, 8000)\n",
    "print(e1)"
   ]
  },
  {
   "cell_type": "markdown",
   "metadata": {},
   "source": [
    "1. Single Inheritance"
   ]
  },
  {
   "cell_type": "code",
   "execution_count": 1,
   "metadata": {},
   "outputs": [],
   "source": [
    "class Product:\n",
    "    def __init__(self, name, price, category):\n",
    "        self.name = name \n",
    "        self.price = price \n",
    "        self.category = category\n",
    "    \n",
    "    def __str__(self):\n",
    "        return f\"{self.name}, {self.price}, {self.category}\"\n",
    "    \n",
    "    def apply_discount(self, value):\n",
    "        if value < 0 or value > 100:\n",
    "            raise ValueError(\"between 0 and 100\")\n",
    "        discount = self.price * (value / 100)\n",
    "        self.price -= discount \n",
    "        \n",
    "        "
   ]
  },
  {
   "cell_type": "code",
   "execution_count": 8,
   "metadata": {},
   "outputs": [],
   "source": [
    "class Book(Product):\n",
    "    def __init__(self, name, price, category, \n",
    "                 author, pages):\n",
    "        super().__init__(name, price, category)\n",
    "        self.author = author\n",
    "        self.pages = pages"
   ]
  },
  {
   "cell_type": "code",
   "execution_count": 9,
   "metadata": {},
   "outputs": [
    {
     "name": "stdout",
     "output_type": "stream",
     "text": [
      "{'name': 'B', 'price': 2000, 'category': 'C1', 'author': 'w1', 'pages': 2000}\n"
     ]
    }
   ],
   "source": [
    "b1 = Book(\"B\", 2000, \"C1\", \"w1\", 2000)\n",
    "print(b1.__dict__)"
   ]
  },
  {
   "cell_type": "markdown",
   "metadata": {},
   "source": [
    "2. Hierarchical Inheritance"
   ]
  },
  {
   "cell_type": "code",
   "execution_count": 10,
   "metadata": {},
   "outputs": [],
   "source": [
    "class Product:\n",
    "    def __init__(self, name, price, category):\n",
    "        self.name = name \n",
    "        self.price = price \n",
    "        self.category = category\n",
    "    \n",
    "    def __str__(self):\n",
    "        return f\"{self.name}, {self.price}, {self.category}\"\n",
    "    \n",
    "    def apply_discount(self, value):\n",
    "        if value < 0 or value > 100:\n",
    "            raise ValueError(\"between 0 and 100\")\n",
    "        discount = self.price * (value / 100)\n",
    "        self.price -= discount \n",
    "        \n",
    "        "
   ]
  },
  {
   "cell_type": "code",
   "execution_count": 11,
   "metadata": {},
   "outputs": [],
   "source": [
    "class Book(Product):\n",
    "    def __init__(self, name, price, category, \n",
    "                 author, pages):\n",
    "        super().__init__(name, price, category)\n",
    "        self.author = author\n",
    "        self.pages = pages"
   ]
  },
  {
   "cell_type": "code",
   "execution_count": 12,
   "metadata": {},
   "outputs": [],
   "source": [
    "class Laptop(Product):\n",
    "    def __init__(self, name, price, category,ram):\n",
    "        super().__init__(name, price, category)\n",
    "        self.ram = ram \n",
    "    \n",
    "    def __str__(self):\n",
    "        return f\"{super().__str__()}, {self.ram}\""
   ]
  },
  {
   "cell_type": "code",
   "execution_count": 13,
   "metadata": {},
   "outputs": [
    {
     "name": "stdout",
     "output_type": "stream",
     "text": [
      "l1, 2000, c1, 6\n"
     ]
    }
   ],
   "source": [
    "l1 = Laptop(\"l1\", 2000, \"c1\", 6)\n",
    "print(l1)"
   ]
  },
  {
   "cell_type": "markdown",
   "metadata": {},
   "source": [
    "3. Multilevel Inheritance"
   ]
  },
  {
   "cell_type": "code",
   "execution_count": 14,
   "metadata": {},
   "outputs": [],
   "source": [
    "class Product:\n",
    "    def __init__(self, name, price, category):\n",
    "        self.name = name \n",
    "        self.price = price \n",
    "        self.category = category\n",
    "    \n",
    "    def __str__(self):\n",
    "        return f\"{self.name}, {self.price}, {self.category}\"\n",
    "        "
   ]
  },
  {
   "cell_type": "code",
   "execution_count": 16,
   "metadata": {},
   "outputs": [],
   "source": [
    "class ElProduct(Product):\n",
    "    def __init__(self, name, price, category, brand):\n",
    "        super().__init__(name, price, category)\n",
    "        self.brand = brand\n",
    "\n",
    "    def __str__(self):\n",
    "        return f\"{super().__str__()}, {self.brand}\""
   ]
  },
  {
   "cell_type": "code",
   "execution_count": 20,
   "metadata": {},
   "outputs": [],
   "source": [
    "class Laptop(ElProduct):\n",
    "    def __init__(self, name, price, category, brand, ram):\n",
    "        super().__init__(name, price, category, brand)\n",
    "        self.ram = ram \n",
    "\n",
    "    def __str__(self):\n",
    "        return f\"{super().__str__()}, {self.ram}\""
   ]
  },
  {
   "cell_type": "code",
   "execution_count": 21,
   "metadata": {},
   "outputs": [
    {
     "name": "stdout",
     "output_type": "stream",
     "text": [
      "l1, 2000, c1, b1, 6\n",
      "{'name': 'l1', 'price': 2000, 'category': 'c1', 'brand': 'b1', 'ram': 6}\n"
     ]
    }
   ],
   "source": [
    "l1 = Laptop(\"l1\", 2000, \"c1\", \"b1\", 6)\n",
    "print(l1)\n",
    "print(l1.__dict__)"
   ]
  },
  {
   "cell_type": "markdown",
   "metadata": {},
   "source": [
    "4. Multiple Inheritance"
   ]
  },
  {
   "cell_type": "code",
   "execution_count": 52,
   "metadata": {},
   "outputs": [],
   "source": [
    "class Product:\n",
    "    def __init__(self, name, price, category):\n",
    "        self.name = name \n",
    "        self.price = price \n",
    "        self.category = category\n",
    "    \n",
    "    def __str__(self):\n",
    "        return f\"{self.name}, {self.price}, {self.category}\"\n",
    "        \n",
    "    def show_name(self):\n",
    "        print(f\"product name: {self.name}\")\n",
    "\n",
    "    def show_price(self):\n",
    "        print(f\"price: {self.price}\")"
   ]
  },
  {
   "cell_type": "code",
   "execution_count": 53,
   "metadata": {},
   "outputs": [],
   "source": [
    "class ElProduct:\n",
    "    def __init__(self, brand):\n",
    "        self.brand = brand\n",
    "\n",
    "    def __str__(self):\n",
    "        return self.brand\n",
    "    \n",
    "    def show_name(self):\n",
    "        print(f\"elctronice product name: {self.name}\")"
   ]
  },
  {
   "cell_type": "code",
   "execution_count": 54,
   "metadata": {},
   "outputs": [],
   "source": [
    "class Laptop(ElProduct, Product):\n",
    "    def __init__(self, name, price, category,\n",
    "                  ram, brand):\n",
    "        super().__init__(brand)\n",
    "        Product.__init__(self, name, price, category)\n",
    "        self.ram = ram\n",
    "    \n",
    "    def __str__(self):\n",
    "        return f\"{super().__str__()}, {Product.__str__(self)}, {self.ram}\""
   ]
  },
  {
   "cell_type": "code",
   "execution_count": 55,
   "metadata": {},
   "outputs": [
    {
     "name": "stdout",
     "output_type": "stream",
     "text": [
      "{'brand': 'b1', 'name': 'l1', 'price': 3000, 'category': 'c1', 'ram': 6}\n",
      "b1, l1, 3000, c1, 6\n",
      "elctronice product name: l1\n",
      "price: 3000\n"
     ]
    }
   ],
   "source": [
    "l1 = Laptop(\"l1\", 3000, \"c1\", 6, \"b1\")\n",
    "print(l1.__dict__)\n",
    "print(l1)\n",
    "l1.show_name()\n",
    "l1.show_price()"
   ]
  },
  {
   "cell_type": "code",
   "execution_count": null,
   "metadata": {},
   "outputs": [],
   "source": []
  }
 ],
 "metadata": {
  "kernelspec": {
   "display_name": "base",
   "language": "python",
   "name": "python3"
  },
  "language_info": {
   "codemirror_mode": {
    "name": "ipython",
    "version": 3
   },
   "file_extension": ".py",
   "mimetype": "text/x-python",
   "name": "python",
   "nbconvert_exporter": "python",
   "pygments_lexer": "ipython3",
   "version": "3.9.13"
  }
 },
 "nbformat": 4,
 "nbformat_minor": 2
}
