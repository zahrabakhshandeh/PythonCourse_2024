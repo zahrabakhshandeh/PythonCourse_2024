{
 "cells": [
  {
   "cell_type": "markdown",
   "metadata": {},
   "source": [
    "### OOP"
   ]
  },
  {
   "cell_type": "code",
   "execution_count": 4,
   "metadata": {},
   "outputs": [],
   "source": [
    "balance = 0\n",
    "\n",
    "def despoit(amount):\n",
    "    global balance \n",
    "    balance += amount"
   ]
  },
  {
   "cell_type": "code",
   "execution_count": 8,
   "metadata": {},
   "outputs": [],
   "source": [
    "def withdraw(amount):\n",
    "    global balance \n",
    "    if amount <= balance:\n",
    "        balance -= amount \n",
    "    else:\n",
    "        print(\"Error!\")"
   ]
  },
  {
   "cell_type": "code",
   "execution_count": 9,
   "metadata": {},
   "outputs": [
    {
     "name": "stdout",
     "output_type": "stream",
     "text": [
      "200\n",
      "400\n"
     ]
    }
   ],
   "source": [
    "print(balance)\n",
    "despoit(200)\n",
    "print(balance)"
   ]
  },
  {
   "cell_type": "code",
   "execution_count": 12,
   "metadata": {},
   "outputs": [
    {
     "name": "stdout",
     "output_type": "stream",
     "text": [
      "Error!\n",
      "0\n"
     ]
    }
   ],
   "source": [
    "withdraw(200)\n",
    "print(balance)"
   ]
  },
  {
   "cell_type": "code",
   "execution_count": 17,
   "metadata": {},
   "outputs": [
    {
     "name": "stdout",
     "output_type": "stream",
     "text": [
      "x in f1: 11\n",
      "x in main: 11\n"
     ]
    }
   ],
   "source": [
    "def f1():\n",
    "    global x\n",
    "    x += 1 \n",
    "    print(f\"x in f1: {x}\")\n",
    "\n",
    "def f2():\n",
    "    global x \n",
    "    x -= 1\n",
    "    print(f\"x in f2: {x}\")\n",
    "\n",
    "x = 10 \n",
    "f1()\n",
    "print(f\"x in main: {x}\")"
   ]
  },
  {
   "cell_type": "markdown",
   "metadata": {},
   "source": [
    "### Class"
   ]
  },
  {
   "cell_type": "code",
   "execution_count": 49,
   "metadata": {},
   "outputs": [],
   "source": [
    "class Student:\n",
    "    score = 10\n",
    "    def __init__(self, id_, name, python_score):\n",
    "        self.s_id = id_ \n",
    "        self.name = name\n",
    "        self.python_score = python_score\n",
    "\n",
    "    def __str__(self):\n",
    "        return f\"id:{self.s_id}, name:{self.name}\"\n"
   ]
  },
  {
   "cell_type": "markdown",
   "metadata": {},
   "source": [
    "### Object"
   ]
  },
  {
   "cell_type": "code",
   "execution_count": 50,
   "metadata": {},
   "outputs": [
    {
     "name": "stdout",
     "output_type": "stream",
     "text": [
      "Ali\n",
      "10\n",
      "id:s123, name:Ali\n"
     ]
    }
   ],
   "source": [
    "s1 = Student(\"s123\", \"Ali\", 15) # create object: __init__ call\n",
    "print(s1.name)\n",
    "print(s1.score)\n",
    "print(s1) # __str__"
   ]
  },
  {
   "cell_type": "code",
   "execution_count": 51,
   "metadata": {},
   "outputs": [
    {
     "name": "stdout",
     "output_type": "stream",
     "text": [
      "10\n",
      "id:s345, name:Sara\n"
     ]
    }
   ],
   "source": [
    "s2 = Student(\"s345\", \"Sara\", 18)\n",
    "print(s2.score)\n",
    "print(s2)"
   ]
  },
  {
   "cell_type": "code",
   "execution_count": 28,
   "metadata": {},
   "outputs": [
    {
     "name": "stdout",
     "output_type": "stream",
     "text": [
      "15\n",
      "18\n"
     ]
    }
   ],
   "source": [
    "print(s1.python_score)\n",
    "print(s2.python_score)"
   ]
  },
  {
   "cell_type": "code",
   "execution_count": 61,
   "metadata": {},
   "outputs": [],
   "source": [
    "class Book:\n",
    "    def __init__(self, book_name, price, year):\n",
    "        self.name = book_name \n",
    "        self.price = price \n",
    "        self.year = year \n",
    "    \n",
    "    def __str__(self):\n",
    "        return f\"name:{self.name}-price:{self.price}-year:{self.year}\""
   ]
  },
  {
   "cell_type": "code",
   "execution_count": 62,
   "metadata": {},
   "outputs": [
    {
     "name": "stdout",
     "output_type": "stream",
     "text": [
      "python\n",
      "C\n",
      "name:python-price:200-year:2020\n",
      "name:C-price:500-year:2021\n"
     ]
    }
   ],
   "source": [
    "book1 = Book(\"python\", 200, 2020)\n",
    "book2 = Book(\"C\", 500, 2021)\n",
    "print(book1.name)\n",
    "print(book2.name)\n",
    "print(book1)\n",
    "print(book2)"
   ]
  },
  {
   "cell_type": "code",
   "execution_count": 69,
   "metadata": {},
   "outputs": [],
   "source": [
    "class Account:\n",
    "    def __init__(self, owner, balance):\n",
    "        self.owner = owner \n",
    "        self.balance = balance\n",
    "\n",
    "    def despoit(self, amout):\n",
    "        self.balance += amout \n",
    "\n",
    "    def withdraw(self, amount):\n",
    "        if amount <= self.balance:\n",
    "            self.balance -= amount \n",
    "        else:\n",
    "            print(\"Error!\")"
   ]
  },
  {
   "cell_type": "code",
   "execution_count": 70,
   "metadata": {},
   "outputs": [
    {
     "name": "stdout",
     "output_type": "stream",
     "text": [
      "200\n",
      "100\n"
     ]
    }
   ],
   "source": [
    "ac1 = Account(\"Ali\", 200)\n",
    "ac2 = Account(\"Diana\", 100)\n",
    "print(ac1.balance)\n",
    "print(ac2.balance)"
   ]
  },
  {
   "cell_type": "code",
   "execution_count": 72,
   "metadata": {
    "tags": [
     "parameters"
    ]
   },
   "outputs": [
    {
     "name": "stdout",
     "output_type": "stream",
     "text": [
      "290\n",
      "490\n",
      "190\n"
     ]
    }
   ],
   "source": [
    "ac3 = Account(\"sara\", 290)\n",
    "print(ac3.balance)\n",
    "ac3.despoit(200)\n",
    "print(ac3.balance)\n",
    "ac3.withdraw(300)\n",
    "print(ac3.balance)"
   ]
  },
  {
   "cell_type": "code",
   "execution_count": 83,
   "metadata": {},
   "outputs": [],
   "source": [
    "class Student:\n",
    "    def __init__(self, name, stu_num, scores):\n",
    "        self.name = name \n",
    "        self.stu_num = stu_num \n",
    "        self.scores = scores \n",
    "        #self.avg = None\n",
    "    \n",
    "    def calcu_avg(self):\n",
    "        avg = sum(self.scores) / len(self.scores)\n",
    "        self.avg = avg"
   ]
  },
  {
   "cell_type": "code",
   "execution_count": 86,
   "metadata": {},
   "outputs": [
    {
     "name": "stdout",
     "output_type": "stream",
     "text": [
      "{'name': 'A', 'stu_num': 'S123', 'scores': [12, 15, 20]}\n",
      "{'name': 'A', 'stu_num': 'S123', 'scores': [12, 15, 20], 'avg': 15.666666666666666}\n",
      "{'name': 'B', 'stu_num': 'S123', 'scores': [12, 15, 20], 'avg': 15.666666666666666}\n",
      "B\n"
     ]
    }
   ],
   "source": [
    "st1 = Student(\"A\", \"S123\", [12, 15, 20])\n",
    "print(vars(st1))\n",
    "st1.calcu_avg()\n",
    "print(vars(st1))\n",
    "st1.name = \"B\"\n",
    "print(vars(st1))\n",
    "dict1 = vars(st1)\n",
    "print(dict1[\"name\"])"
   ]
  },
  {
   "cell_type": "markdown",
   "metadata": {},
   "source": [
    "### Attributes \n",
    "1. instance attribute\n",
    "2. class attribute"
   ]
  },
  {
   "cell_type": "code",
   "execution_count": 101,
   "metadata": {},
   "outputs": [],
   "source": [
    "class Student:\n",
    "    # class attributes\n",
    "    number_of_students = 0\n",
    "    def __init__(self, name, stu_num, scores):\n",
    "        # self: instance attibute\n",
    "        self.name = name \n",
    "        self.stu_num = stu_num \n",
    "        self.scores = scores \n",
    "        Student.number_of_students += 1\n",
    "        #self.avg = None\n",
    "    \n",
    "    def calcu_avg(self):\n",
    "        avg = sum(self.scores) / len(self.scores)\n",
    "        self.avg = avg"
   ]
  },
  {
   "cell_type": "code",
   "execution_count": 102,
   "metadata": {},
   "outputs": [
    {
     "name": "stdout",
     "output_type": "stream",
     "text": [
      "{'name': 'A', 'stu_num': '12', 'scores': 17}\n",
      "{'name': 'B', 'stu_num': '34', 'scores': 19}\n",
      "{'name': 'C', 'stu_num': '12', 'scores': 17}\n",
      "{'name': 'B', 'stu_num': '34', 'scores': 19}\n",
      "2\n",
      "2\n",
      "2\n"
     ]
    }
   ],
   "source": [
    "st1 = Student(\"A\", \"12\", 17)\n",
    "st2 = Student(\"B\", \"34\", 19)\n",
    "print(vars(st1))\n",
    "print(vars(st2))\n",
    "st1.name = \"C\"   \n",
    "print(vars(st1))\n",
    "print(vars(st2))\n",
    "print(st1.number_of_students)\n",
    "print(st2.number_of_students)\n",
    "print(Student.number_of_students)"
   ]
  },
  {
   "cell_type": "markdown",
   "metadata": {},
   "source": [
    "### Mothods \n",
    "1. instance methods ====> Object, self ====> (self)\n",
    "2. class methods =======> Class, Object, Class, cls ===> (cls)\n",
    "3. static methods =====> Class, Object =======> ()"
   ]
  },
  {
   "cell_type": "code",
   "execution_count": 134,
   "metadata": {},
   "outputs": [],
   "source": [
    "class Student:\n",
    "    # class attributes\n",
    "    number_of_students = 0\n",
    "    def __init__(self, name, stu_num, scores):\n",
    "        # self: instance attibute\n",
    "        self.name = name \n",
    "        #Student.is_valid_studnt_number(stu_num)\n",
    "        self.is_valid_studnt_number(stu_num)\n",
    "        self.stu_num = stu_num \n",
    "        self.scores = scores \n",
    "        Student.number_of_students += 1\n",
    "        self.calcu_avg()\n",
    "\n",
    "    @classmethod\n",
    "    def show_number(cls, new_var):\n",
    "        print(f\"Number of students: {cls.number_of_students}, {new_var}\")\n",
    "    \n",
    "    def calcu_avg(self):\n",
    "        avg = sum(self.scores) / len(self.scores)\n",
    "        self.avg = avg \n",
    "\n",
    "    @staticmethod\n",
    "    def is_valid_studnt_number(stu_num):\n",
    "        if len(stu_num) != 4 or stu_num[0]!=\"S\":\n",
    "            raise ValueError(\"Invalid Student Number\")\n"
   ]
  },
  {
   "cell_type": "code",
   "execution_count": 136,
   "metadata": {},
   "outputs": [
    {
     "name": "stdout",
     "output_type": "stream",
     "text": [
      "{'name': 'A', 'stu_num': 'S123', 'scores': [12, 13, 14, 12], 'avg': 12.75}\n",
      "Number of students: 1, 3\n"
     ]
    }
   ],
   "source": [
    "st1 = Student(\"A\", \"S123\", [12, 13, 14, 12])\n",
    "#st1.calcu_avg()\n",
    "print(vars(st1))\n",
    "st1.show_number(3)"
   ]
  },
  {
   "cell_type": "code",
   "execution_count": 129,
   "metadata": {},
   "outputs": [
    {
     "name": "stdout",
     "output_type": "stream",
     "text": [
      "{'name': 'B', 'stu_num': '123', 'scores': [17, 14, 18, 17], 'avg': 16.5}\n",
      "Number of students: 2, 300\n"
     ]
    }
   ],
   "source": [
    "st2 = Student(\"B\", \"S123\", [17, 14, 18, 17])\n",
    "#st2.calcu_avg()\n",
    "print(vars(st2))\n",
    "st2.show_number(300)"
   ]
  },
  {
   "cell_type": "code",
   "execution_count": 130,
   "metadata": {},
   "outputs": [
    {
     "name": "stdout",
     "output_type": "stream",
     "text": [
      "Number of students: 2, 500\n"
     ]
    }
   ],
   "source": [
    "Student.show_number(500)"
   ]
  },
  {
   "cell_type": "code",
   "execution_count": null,
   "metadata": {},
   "outputs": [],
   "source": []
  }
 ],
 "metadata": {
  "kernelspec": {
   "display_name": "base",
   "language": "python",
   "name": "python3"
  },
  "language_info": {
   "codemirror_mode": {
    "name": "ipython",
    "version": 3
   },
   "file_extension": ".py",
   "mimetype": "text/x-python",
   "name": "python",
   "nbconvert_exporter": "python",
   "pygments_lexer": "ipython3",
   "version": "3.9.13"
  }
 },
 "nbformat": 4,
 "nbformat_minor": 2
}
