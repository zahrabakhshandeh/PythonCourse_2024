{
 "cells": [
  {
   "cell_type": "code",
   "execution_count": 2,
   "metadata": {},
   "outputs": [],
   "source": [
    "class Calculator:\n",
    "    \"\"\"\n",
    "    A simple calcualator\n",
    "    \"\"\"\n",
    "    def add(self, a: int, b: int) -> int:\n",
    "        \"\"\"\n",
    "        Adds two numbers \n",
    "\n",
    "        Args:\n",
    "            a(int): First Number \n",
    "            b(int): Second Number \n",
    "\n",
    "        Returns:\n",
    "            int: Sum of a and b \n",
    "\n",
    "        Example:\n",
    "            >>> Calculator().add(2, 3)\n",
    "            5\n",
    "        \"\"\"\n",
    "        return a + b \n",
    "    \n",
    "    def subtract(self, a: int, b:int) -> int: \n",
    "        \"\"\"\n",
    "        Subtracts two numbers \n",
    "\n",
    "        Args:\n",
    "            a(int): First Number \n",
    "            b(int): Second Number \n",
    "\n",
    "        Returns:\n",
    "            int: Subtracts of a and b \n",
    "\n",
    "        Example:\n",
    "            >>> Calculator().subtract(2, 3)\n",
    "            -1\n",
    "        \"\"\"\n",
    "        return a - b \n",
    "    \n",
    "    def divide(self, a: int, b: int) -> float:\n",
    "        \"\"\"\n",
    "        Divides two numbers \n",
    "\n",
    "        Args:\n",
    "            a(int): First Number \n",
    "            b(int): Second Number \n",
    "\n",
    "        Returns:\n",
    "            float: Subtracts of a and b \n",
    "        \n",
    "        Raises:\n",
    "            ZeroDivisionError: if b is 0\n",
    "\n",
    "        Example:\n",
    "            >>> Calculator().subtract(2, 2)\n",
    "            1.0 \n",
    "            >>> Calculator().subtract(2, 0)\n",
    "            Traceback (most recent call last):\n",
    "                ... \n",
    "            ZeroDivisionError: Cannot divide by zero!\n",
    "        \"\"\"\n",
    "        \n",
    "        if b == 0:\n",
    "            raise ZeroDivisionError(\"Cannot divide by zero!\")\n",
    "        return a / b"
   ]
  },
  {
   "cell_type": "code",
   "execution_count": 6,
   "metadata": {},
   "outputs": [
    {
     "data": {
      "text/plain": [
       "6"
      ]
     },
     "execution_count": 6,
     "metadata": {},
     "output_type": "execute_result"
    }
   ],
   "source": [
    "c1 = Calculator()\n",
    "#help(c1.add)\n",
    "c1.add(2, 4)"
   ]
  }
 ],
 "metadata": {
  "kernelspec": {
   "display_name": "base",
   "language": "python",
   "name": "python3"
  },
  "language_info": {
   "codemirror_mode": {
    "name": "ipython",
    "version": 3
   },
   "file_extension": ".py",
   "mimetype": "text/x-python",
   "name": "python",
   "nbconvert_exporter": "python",
   "pygments_lexer": "ipython3",
   "version": "3.9.13"
  }
 },
 "nbformat": 4,
 "nbformat_minor": 2
}
