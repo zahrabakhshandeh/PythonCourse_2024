{
 "cells": [
  {
   "cell_type": "markdown",
   "metadata": {},
   "source": [
    "### Abstraction"
   ]
  },
  {
   "cell_type": "code",
   "execution_count": 5,
   "metadata": {},
   "outputs": [],
   "source": [
    "from abc import ABC, abstractmethod"
   ]
  },
  {
   "cell_type": "code",
   "execution_count": 26,
   "metadata": {},
   "outputs": [],
   "source": [
    "class Person(ABC):\n",
    "    def __init__(self, id_, name, age):\n",
    "        self.id_ = id_ \n",
    "        self.name = name \n",
    "        self.age = age \n",
    "\n",
    "    def __str__(self):\n",
    "        return f\"{self.id_}, {self.name}, {self.age}\"\n",
    "    \n",
    "    def get_name(self):\n",
    "        print(self.name)\n",
    "\n",
    "    @abstractmethod\n",
    "    def show_info(self):\n",
    "        pass"
   ]
  },
  {
   "cell_type": "code",
   "execution_count": 10,
   "metadata": {},
   "outputs": [],
   "source": [
    "class Student(Person):\n",
    "    def __init__(self, id_, name, age, score):\n",
    "        super().__init__(id_, name, age)\n",
    "        self.score = score\n",
    "\n",
    "    def __str__(self):\n",
    "        info = super().__str__()\n",
    "        return f\"{info},{self.score}\"\n",
    "    \n",
    "    def show_info(self):\n",
    "        print(f\"Student info: {self.name}, {self.score}\")"
   ]
  },
  {
   "cell_type": "code",
   "execution_count": 16,
   "metadata": {},
   "outputs": [],
   "source": [
    "class Employee(Person):\n",
    "    def __init__(self, id_, name, age, salary):\n",
    "        super().__init__(id_, name, age)\n",
    "        self.salary = salary\n",
    "    \n",
    "    def __str__(self):\n",
    "        info = super().__str__()\n",
    "        return f\"{info}, {self.salary}\"\n",
    "\n",
    "    def get_salary(self):\n",
    "        print(self.salary)\n",
    "\n",
    "    def show_info(self):\n",
    "        print(f\"Employ: {self.name}, {self.salary}\")"
   ]
  },
  {
   "cell_type": "code",
   "execution_count": 25,
   "metadata": {},
   "outputs": [
    {
     "name": "stdout",
     "output_type": "stream",
     "text": [
      "Employ: B, 2000\n",
      "<class '__main__.Employee'>\n"
     ]
    }
   ],
   "source": [
    "e1 = Employee(\"123\", \"B\", 19, 2000)\n",
    "e1.show_info()\n",
    "print(type(e1))"
   ]
  },
  {
   "cell_type": "code",
   "execution_count": 13,
   "metadata": {},
   "outputs": [
    {
     "ename": "TypeError",
     "evalue": "Can't instantiate abstract class Person with abstract method show_info",
     "output_type": "error",
     "traceback": [
      "\u001b[0;31m---------------------------------------------------------------------------\u001b[0m",
      "\u001b[0;31mTypeError\u001b[0m                                 Traceback (most recent call last)",
      "\u001b[0;32m/tmp/ipykernel_36374/299016601.py\u001b[0m in \u001b[0;36m<module>\u001b[0;34m\u001b[0m\n\u001b[0;32m----> 1\u001b[0;31m \u001b[0mp1\u001b[0m \u001b[0;34m=\u001b[0m \u001b[0mPerson\u001b[0m\u001b[0;34m(\u001b[0m\u001b[0;34m\"123\"\u001b[0m\u001b[0;34m,\u001b[0m \u001b[0;34m\"A\"\u001b[0m\u001b[0;34m,\u001b[0m \u001b[0;36m19\u001b[0m\u001b[0;34m)\u001b[0m\u001b[0;34m\u001b[0m\u001b[0;34m\u001b[0m\u001b[0m\n\u001b[0m\u001b[1;32m      2\u001b[0m \u001b[0mprint\u001b[0m\u001b[0;34m(\u001b[0m\u001b[0mp1\u001b[0m\u001b[0;34m)\u001b[0m\u001b[0;34m\u001b[0m\u001b[0;34m\u001b[0m\u001b[0m\n",
      "\u001b[0;31mTypeError\u001b[0m: Can't instantiate abstract class Person with abstract method show_info"
     ]
    }
   ],
   "source": [
    "p1 = Person(\"123\", \"A\", 19)\n",
    "print(p1)"
   ]
  },
  {
   "cell_type": "code",
   "execution_count": 12,
   "metadata": {},
   "outputs": [
    {
     "name": "stdout",
     "output_type": "stream",
     "text": [
      "234, AS, 19,15\n",
      "Student info: AS, 15\n"
     ]
    }
   ],
   "source": [
    "st1 = Student(\"234\", \"AS\", 19, 15)\n",
    "print(st1)\n",
    "st1.show_info()"
   ]
  },
  {
   "cell_type": "markdown",
   "metadata": {},
   "source": [
    "### Polynomial"
   ]
  },
  {
   "cell_type": "code",
   "execution_count": 19,
   "metadata": {},
   "outputs": [],
   "source": [
    "class Product:\n",
    "    def __init__(self, name, price, category):\n",
    "        self.name = name \n",
    "        self.price = price \n",
    "        self.category = category\n",
    "    \n",
    "    def __str__(self):\n",
    "        return f\"{self.name}, {self.price}, {self.category}\""
   ]
  },
  {
   "cell_type": "code",
   "execution_count": 20,
   "metadata": {},
   "outputs": [],
   "source": [
    "class Book(Product):\n",
    "    def __init__(self, name, price, category, \n",
    "                 author, pages):\n",
    "        super().__init__(name, price, category)\n",
    "        self.author = author\n",
    "        self.pages = pages\n",
    "\n",
    "    def apply_discount(self):\n",
    "        discount = self.price * 0.15\n",
    "        self.price -= discount "
   ]
  },
  {
   "cell_type": "code",
   "execution_count": 21,
   "metadata": {},
   "outputs": [],
   "source": [
    "class Laptop(Product):\n",
    "    def __init__(self, name, price, category,ram):\n",
    "        super().__init__(name, price, category)\n",
    "        self.ram = ram \n",
    "    \n",
    "    def __str__(self):\n",
    "        return f\"{super().__str__()}, {self.ram}\"\n",
    "    \n",
    "    def apply_discount(self):\n",
    "        discount = self.price * 0.1\n",
    "        self.price -= discount "
   ]
  },
  {
   "cell_type": "code",
   "execution_count": 23,
   "metadata": {},
   "outputs": [
    {
     "name": "stdout",
     "output_type": "stream",
     "text": [
      "B, 200, c1\n",
      "B, 170.0, c1\n"
     ]
    }
   ],
   "source": [
    "b1 = Book(\"B\", 200, \"c1\", \"u1\", 100)\n",
    "print(b1)\n",
    "b1.apply_discount() #15%\n",
    "print(b1)"
   ]
  },
  {
   "cell_type": "code",
   "execution_count": 24,
   "metadata": {},
   "outputs": [
    {
     "name": "stdout",
     "output_type": "stream",
     "text": [
      "l1, 200, c1, 6\n",
      "l1, 180.0, c1, 6\n"
     ]
    }
   ],
   "source": [
    "l1 = Laptop(\"l1\", 200, \"c1\", 6)\n",
    "print(l1)\n",
    "l1.apply_discount() #10%\n",
    "print(l1)"
   ]
  },
  {
   "cell_type": "markdown",
   "metadata": {},
   "source": [
    "### Encapsulation"
   ]
  },
  {
   "cell_type": "code",
   "execution_count": 27,
   "metadata": {},
   "outputs": [],
   "source": [
    "class A:\n",
    "    def __init__(self, name, age):\n",
    "        self.name = name \n",
    "        self.age = age \n",
    "    \n",
    "    def f1(self):\n",
    "        print(10)"
   ]
  },
  {
   "cell_type": "code",
   "execution_count": 35,
   "metadata": {},
   "outputs": [],
   "source": [
    "class B:\n",
    "    def __init__(self, id_, score):\n",
    "        self.id_ = id_\n",
    "        self.score = score\n",
    "    \n",
    "    def f2(self):\n",
    "        A.f1(self)\n",
    "        print(20)"
   ]
  },
  {
   "cell_type": "code",
   "execution_count": 32,
   "metadata": {},
   "outputs": [
    {
     "name": "stdout",
     "output_type": "stream",
     "text": [
      "a\n",
      "{'name': 'a', 'age': 19}\n",
      "{'name': 'new name', 'age': 19}\n",
      "10\n"
     ]
    }
   ],
   "source": [
    "obj_a = A(\"a\", 19)\n",
    "print(obj_a.name)\n",
    "print(obj_a.__dict__)\n",
    "obj_a.name = \"new name\"\n",
    "print(obj_a.__dict__)\n",
    "obj_a.f1()"
   ]
  },
  {
   "cell_type": "code",
   "execution_count": 36,
   "metadata": {},
   "outputs": [
    {
     "name": "stdout",
     "output_type": "stream",
     "text": [
      "{'id_': '123', 'score': 17.4}\n",
      "10\n",
      "20\n"
     ]
    }
   ],
   "source": [
    "obj_b = B(\"123\", 17.4)\n",
    "print(obj_b.__dict__)\n",
    "obj_b.f2()"
   ]
  },
  {
   "cell_type": "code",
   "execution_count": 60,
   "metadata": {},
   "outputs": [],
   "source": [
    "class Product:\n",
    "    def __init__(self, name, price, category):\n",
    "        self.__id_p = \"123\"\n",
    "        self.name = name \n",
    "        self.price = price \n",
    "        self.category = category\n",
    "        self._discount = 0.14\n",
    "\n",
    "    def show_id(self):\n",
    "        print(f\"id: {self.__id_p}\")\n",
    "    \n",
    "    def __str__(self):\n",
    "        return f\"{self.name}, {self.price}, {self.category}\""
   ]
  },
  {
   "cell_type": "code",
   "execution_count": 59,
   "metadata": {},
   "outputs": [
    {
     "name": "stdout",
     "output_type": "stream",
     "text": [
      "{'_Product__id_p': '123', 'name': 'p1', 'price': 2000, 'category': 'c1'}\n",
      "123\n",
      "{'_Product__id_p': '456', 'name': 'p1', 'price': 2000, 'category': 'c1'}\n"
     ]
    }
   ],
   "source": [
    "p1 = Product(\"p1\", 2000, \"c1\")\n",
    "print(p1.__dict__)\n",
    "print(p1._Product__id_p)\n",
    "p1._Product__id_p = \"456\"\n",
    "print(p1.__dict__)"
   ]
  },
  {
   "cell_type": "code",
   "execution_count": 63,
   "metadata": {},
   "outputs": [
    {
     "name": "stdout",
     "output_type": "stream",
     "text": [
      "{'_Product__id_p': '123', 'name': 'p1', 'price': 2000, 'category': 'c1', '_discount': 0.14}\n",
      "0.14\n",
      "0.23\n"
     ]
    }
   ],
   "source": [
    "p1 = Product(\"p1\", 2000, \"c1\")\n",
    "print(p1.__dict__)\n",
    "print(p1._discount)\n",
    "p1._discount = 0.23\n",
    "print(p1._discount)"
   ]
  }
 ],
 "metadata": {
  "kernelspec": {
   "display_name": "base",
   "language": "python",
   "name": "python3"
  },
  "language_info": {
   "codemirror_mode": {
    "name": "ipython",
    "version": 3
   },
   "file_extension": ".py",
   "mimetype": "text/x-python",
   "name": "python",
   "nbconvert_exporter": "python",
   "pygments_lexer": "ipython3",
   "version": "3.9.13"
  }
 },
 "nbformat": 4,
 "nbformat_minor": 2
}
