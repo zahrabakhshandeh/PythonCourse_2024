{
 "cells": [
  {
   "cell_type": "markdown",
   "metadata": {},
   "source": [
    "## Json and api\n",
    "https://developers.google.com/books/docs/v1/using"
   ]
  },
  {
   "cell_type": "code",
   "execution_count": 6,
   "metadata": {},
   "outputs": [],
   "source": [
    "with open(\"t1.txt\", \"w\") as file1:\n",
    "    file1.write(\"{name: python}\")\n"
   ]
  },
  {
   "cell_type": "code",
   "execution_count": 7,
   "metadata": {},
   "outputs": [
    {
     "name": "stdout",
     "output_type": "stream",
     "text": [
      "14\n",
      "<class 'str'>\n"
     ]
    },
    {
     "ename": "TypeError",
     "evalue": "string indices must be integers",
     "output_type": "error",
     "traceback": [
      "\u001b[0;31m---------------------------------------------------------------------------\u001b[0m",
      "\u001b[0;31mTypeError\u001b[0m                                 Traceback (most recent call last)",
      "Cell \u001b[0;32mIn[7], line 5\u001b[0m\n\u001b[1;32m      3\u001b[0m \u001b[38;5;28mprint\u001b[39m(\u001b[38;5;28mlen\u001b[39m(result))\n\u001b[1;32m      4\u001b[0m \u001b[38;5;28mprint\u001b[39m(\u001b[38;5;28mtype\u001b[39m(result))\n\u001b[0;32m----> 5\u001b[0m \u001b[38;5;28mprint\u001b[39m(\u001b[43mresult\u001b[49m\u001b[43m[\u001b[49m\u001b[38;5;124;43m\"\u001b[39;49m\u001b[38;5;124;43mname\u001b[39;49m\u001b[38;5;124;43m\"\u001b[39;49m\u001b[43m]\u001b[49m)\n",
      "\u001b[0;31mTypeError\u001b[0m: string indices must be integers"
     ]
    }
   ],
   "source": [
    "with open(\"t1.txt\", \"r\") as file1:\n",
    "    result = file1.read()\n",
    "print(len(result))\n",
    "print(type(result))\n",
    "print(result[\"name\"])"
   ]
  },
  {
   "cell_type": "markdown",
   "metadata": {},
   "source": [
    "## Json files"
   ]
  },
  {
   "cell_type": "code",
   "execution_count": 8,
   "metadata": {},
   "outputs": [
    {
     "data": {
      "text/plain": [
       "{'name': 'Ali',\n",
       " 'age': 17,\n",
       " 'isStudent': False,\n",
       " 'info': {'phone': '+981223', 'city': 'Shiraz', 'id': 123},\n",
       " 'emails': ['a.b@gmail.com', 'a.c@gmail.com']}"
      ]
     },
     "execution_count": 8,
     "metadata": {},
     "output_type": "execute_result"
    }
   ],
   "source": [
    "{\n",
    "    \"name\": \"Ali\",\n",
    "    \"age\":17,\n",
    "    \"isStudent\": False,\n",
    "    \"info\":{\n",
    "        \"phone\": \"+981223\",\n",
    "        \"city\": None,\n",
    "        \"id\": 123\n",
    "    },\n",
    "    \"emails\":[\"a.b@gmail.com\", \"a.c@gmail.com\"]\n",
    "}"
   ]
  },
  {
   "cell_type": "markdown",
   "metadata": {},
   "source": [
    "1. Boolean Values: true and false.\n",
    "2. Null Values: null.\n",
    "3. Number Representation: in JSON, there's no distinction between different numeric types (like integers and floats).\n",
    "4. Arrays vs Lists: JSON arrays are equivalent to Python lists."
   ]
  },
  {
   "cell_type": "code",
   "execution_count": 9,
   "metadata": {},
   "outputs": [],
   "source": [
    "import json"
   ]
  },
  {
   "cell_type": "markdown",
   "metadata": {},
   "source": [
    "1. json.loads(): Parses a JSON string, returning a Python object.\n",
    "2. json.dumps(): Converts a Python object into a JSON formatted string."
   ]
  },
  {
   "cell_type": "code",
   "execution_count": 10,
   "metadata": {},
   "outputs": [
    {
     "name": "stdout",
     "output_type": "stream",
     "text": [
      "<class 'str'>\n"
     ]
    }
   ],
   "source": [
    "data = '{\"name\":\"Diana\", \"age\": 19, \"isOnline\":true}'\n",
    "print(type(data))"
   ]
  },
  {
   "cell_type": "code",
   "execution_count": 17,
   "metadata": {},
   "outputs": [
    {
     "name": "stdout",
     "output_type": "stream",
     "text": [
      "<class 'dict'>\n",
      "<class 'int'>\n"
     ]
    }
   ],
   "source": [
    "data = '{\"name\":\"Diana\", \"age\": 19, \"isOnline\":true}'\n",
    "data = json.loads(data)\n",
    "print(type(data))\n",
    "print(type(data[\"age\"]))"
   ]
  },
  {
   "cell_type": "code",
   "execution_count": 18,
   "metadata": {},
   "outputs": [
    {
     "name": "stdout",
     "output_type": "stream",
     "text": [
      "<class 'str'>\n",
      "{\"name\": \"Diana\", \"age\": 19, \"isOnline\": true}\n"
     ]
    }
   ],
   "source": [
    "data = {\n",
    "    \"name\":\"Diana\",\n",
    "    \"age\": 19, \n",
    "    \"isOnline\":True\n",
    "}\n",
    "json_data = json.dumps(data)\n",
    "print(type(json_data))\n",
    "print(json_data)"
   ]
  },
  {
   "cell_type": "markdown",
   "metadata": {},
   "source": [
    "1. json.load(): Reads JSON data from a file and converts it into a Python object.\n",
    "2. json.dump(): Writes a Python object to a file in JSON format."
   ]
  },
  {
   "cell_type": "code",
   "execution_count": 19,
   "metadata": {},
   "outputs": [],
   "source": [
    "import json"
   ]
  },
  {
   "cell_type": "code",
   "execution_count": 20,
   "metadata": {},
   "outputs": [],
   "source": [
    "data = {\n",
    "    \"name\": \"Ali\",\n",
    "    \"age\":17,\n",
    "    \"isStudent\": False,\n",
    "    \"info\":{\n",
    "        \"phone\": \"+981223\",\n",
    "        \"city\": None,\n",
    "        \"id\": 123\n",
    "    },\n",
    "    \"emails\":[\"a.b@gmail.com\", \"a.c@gmail.com\"]\n",
    "}"
   ]
  },
  {
   "cell_type": "code",
   "execution_count": 26,
   "metadata": {},
   "outputs": [],
   "source": [
    "with open(\"student_info.json\", \"w\") as file1:\n",
    "    json.dump(data, file1, indent=4, sort_keys=True)"
   ]
  },
  {
   "cell_type": "code",
   "execution_count": 27,
   "metadata": {},
   "outputs": [
    {
     "name": "stdout",
     "output_type": "stream",
     "text": [
      "{'age': 17, 'emails': ['a.b@gmail.com', 'a.c@gmail.com'], 'info': {'city': None, 'id': 123, 'phone': '+981223'}, 'isStudent': False, 'name': 'Ali'}\n"
     ]
    }
   ],
   "source": [
    "with open(\"student_info.json\", \"r\") as file1:\n",
    "    result = json.load(file1)\n",
    "print(result)"
   ]
  },
  {
   "cell_type": "markdown",
   "metadata": {},
   "source": [
    "## API"
   ]
  },
  {
   "cell_type": "code",
   "execution_count": 28,
   "metadata": {},
   "outputs": [],
   "source": [
    "import requests"
   ]
  },
  {
   "cell_type": "code",
   "execution_count": 29,
   "metadata": {},
   "outputs": [],
   "source": [
    "url = \"https://www.googleapis.com/books/v1/volumes?q=linux\""
   ]
  },
  {
   "cell_type": "code",
   "execution_count": 30,
   "metadata": {},
   "outputs": [
    {
     "data": {
      "text/plain": [
       "<Response [403]>"
      ]
     },
     "execution_count": 30,
     "metadata": {},
     "output_type": "execute_result"
    }
   ],
   "source": [
    "response = requests.get(url)\n",
    "response"
   ]
  },
  {
   "cell_type": "code",
   "execution_count": null,
   "metadata": {},
   "outputs": [],
   "source": []
  }
 ],
 "metadata": {
  "kernelspec": {
   "display_name": "base",
   "language": "python",
   "name": "python3"
  },
  "language_info": {
   "codemirror_mode": {
    "name": "ipython",
    "version": 3
   },
   "file_extension": ".py",
   "mimetype": "text/x-python",
   "name": "python",
   "nbconvert_exporter": "python",
   "pygments_lexer": "ipython3",
   "version": "3.9.13"
  },
  "orig_nbformat": 4
 },
 "nbformat": 4,
 "nbformat_minor": 2
}
