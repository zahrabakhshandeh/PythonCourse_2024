{
 "cells": [
  {
   "cell_type": "markdown",
   "id": "4e882f1b",
   "metadata": {},
   "source": [
    "### Install MySql\n",
    "    1. sudo apt update\n",
    "    2. sudo apt upgrade\n",
    "    3. sudo apt install mysql-server\n",
    "    4. mysql --version\n",
    "    \n",
    "    Password\n",
    "    1. sudo mysql -u root\n",
    "    2. USE mysql;\n",
    "    3. ALTER USER 'root'@'localhost' IDENTIFIED WITH mysql_native_password BY 'yourpass';\n"
   ]
  },
  {
   "cell_type": "markdown",
   "id": "212de09a",
   "metadata": {},
   "source": [
    "### connect"
   ]
  },
  {
   "cell_type": "code",
   "execution_count": null,
   "id": "fb60875c",
   "metadata": {},
   "outputs": [],
   "source": [
    "sql = \"sudo mysql -u root -p\""
   ]
  },
  {
   "cell_type": "markdown",
   "id": "fc877ee2",
   "metadata": {},
   "source": [
    "### Create new Dataset"
   ]
  },
  {
   "cell_type": "code",
   "execution_count": null,
   "id": "69872e5f",
   "metadata": {},
   "outputs": [],
   "source": [
    "sql = \"CREATE DATABASE database1\""
   ]
  },
  {
   "cell_type": "markdown",
   "id": "d23c458d",
   "metadata": {},
   "source": [
    "### Switch to Database"
   ]
  },
  {
   "cell_type": "code",
   "execution_count": null,
   "id": "7e245c62",
   "metadata": {},
   "outputs": [],
   "source": [
    "sql = \"USE database1\""
   ]
  },
  {
   "cell_type": "markdown",
   "id": "f5f9209a",
   "metadata": {},
   "source": [
    "### Show all Datasets"
   ]
  },
  {
   "cell_type": "code",
   "execution_count": 6,
   "id": "0aac2488",
   "metadata": {},
   "outputs": [],
   "source": [
    "sql = \"SHOW DATABASES\""
   ]
  },
  {
   "cell_type": "markdown",
   "id": "660bebfa",
   "metadata": {},
   "source": [
    "### Remove a Dataset"
   ]
  },
  {
   "cell_type": "code",
   "execution_count": 9,
   "id": "1f41257c",
   "metadata": {},
   "outputs": [],
   "source": [
    "sql1 = \"DROP DATABASE database1\""
   ]
  },
  {
   "cell_type": "markdown",
   "id": "e86eaeb2",
   "metadata": {},
   "source": [
    "### Creating tables"
   ]
  },
  {
   "cell_type": "code",
   "execution_count": 8,
   "id": "72b8a2d7",
   "metadata": {},
   "outputs": [],
   "source": [
    "sql = \"\"\"\n",
    "        CREATE TABLE Users(\n",
    "        user_id int auto_increment,\n",
    "        first_name varchar(255),\n",
    "        last_name varchar(255) NOT NULL,\n",
    "        age int,\n",
    "        PRIMARY KEY (user_id)\n",
    "        );\n",
    "    \"\"\""
   ]
  },
  {
   "cell_type": "code",
   "execution_count": null,
   "id": "3defc425",
   "metadata": {},
   "outputs": [],
   "source": [
    "sql = \"\"\"\n",
    "        CREATE TABLE Orders(\n",
    "        order_id int auto_increment,\n",
    "        name varchar(255) NOT NULL,\n",
    "        price int NOT NULL,\n",
    "        user_id int NOT NULL,\n",
    "        PRIMARY KEY (order_id),\n",
    "        FOREIGN KEY (user_id) REFERENCES Users (user_id)\n",
    "        );\n",
    "    \"\"\""
   ]
  },
  {
   "cell_type": "markdown",
   "id": "ccfa845c",
   "metadata": {},
   "source": [
    "### Show Tables"
   ]
  },
  {
   "cell_type": "code",
   "execution_count": 12,
   "id": "3a5469fd",
   "metadata": {},
   "outputs": [],
   "source": [
    "sql = \"SHOW TABLES;\""
   ]
  },
  {
   "cell_type": "markdown",
   "id": "2fcd315b",
   "metadata": {},
   "source": [
    "### Show fileds of a table"
   ]
  },
  {
   "cell_type": "code",
   "execution_count": null,
   "id": "7d040a1c",
   "metadata": {},
   "outputs": [],
   "source": [
    "sql = \"show fields from Orders;\""
   ]
  },
  {
   "cell_type": "markdown",
   "id": "cd07d3d7",
   "metadata": {},
   "source": [
    "### DROP TABLE"
   ]
  },
  {
   "cell_type": "code",
   "execution_count": 15,
   "id": "76a2d259",
   "metadata": {},
   "outputs": [],
   "source": [
    "sql = \"DROP TABLE Orders\""
   ]
  },
  {
   "cell_type": "markdown",
   "id": "f61cb456",
   "metadata": {},
   "source": [
    "### Insert data"
   ]
  },
  {
   "cell_type": "code",
   "execution_count": 16,
   "id": "82768b79",
   "metadata": {},
   "outputs": [],
   "source": [
    "sql = \"INSERT INTO Users (first_name, last_name, age) VALUES ('a', 'b', 12)\""
   ]
  },
  {
   "cell_type": "code",
   "execution_count": 19,
   "id": "ab2e60e1",
   "metadata": {},
   "outputs": [],
   "source": [
    "sql = \"\"\"\n",
    "        INSERT INTO Orders (name, price, user_id)\n",
    "        VALUES\n",
    "        ('p1', 100, 1),\n",
    "        ('p2', 200, 1),\n",
    "        ('p3', 300, 2)\n",
    "        \n",
    "    \"\"\""
   ]
  },
  {
   "cell_type": "markdown",
   "id": "39377804",
   "metadata": {},
   "source": [
    "### Select"
   ]
  },
  {
   "cell_type": "code",
   "execution_count": 22,
   "id": "2f77373f",
   "metadata": {},
   "outputs": [],
   "source": [
    "sql = \"SELECT * FROM Orders WHERE name = 'p2'\""
   ]
  },
  {
   "cell_type": "code",
   "execution_count": 24,
   "id": "f2fd319b",
   "metadata": {},
   "outputs": [],
   "source": [
    "sql = \"SELECT * FROM Orders WHERE name LIKE 'p%'\""
   ]
  },
  {
   "cell_type": "markdown",
   "id": "33fd046e",
   "metadata": {},
   "source": [
    "### Remove data"
   ]
  },
  {
   "cell_type": "code",
   "execution_count": 26,
   "id": "95b989a6",
   "metadata": {},
   "outputs": [],
   "source": [
    "# DELETE FROM TABLE_NAME WHERE conditon\n",
    "sql = \"DELETE FROM Users WHERE user_id = 3\""
   ]
  },
  {
   "cell_type": "code",
   "execution_count": 27,
   "id": "a51bdb1f",
   "metadata": {},
   "outputs": [],
   "source": [
    "sql = \"DELETE FROM Orders WHERE name LIKE '%2%'\""
   ]
  },
  {
   "cell_type": "markdown",
   "id": "482d9f36",
   "metadata": {},
   "source": [
    "### Update data"
   ]
  },
  {
   "cell_type": "code",
   "execution_count": 28,
   "id": "776d44b0",
   "metadata": {},
   "outputs": [],
   "source": [
    "sql = \"SELECT * FROM Orders\""
   ]
  },
  {
   "cell_type": "code",
   "execution_count": 30,
   "id": "71662882",
   "metadata": {},
   "outputs": [],
   "source": [
    "sql = \"\"\"UPDATE Orders SET \n",
    "            price = 0.1 * price + price\n",
    "            WHERE price > 300\n",
    "        \"\"\""
   ]
  },
  {
   "cell_type": "markdown",
   "id": "0b6c93f3",
   "metadata": {},
   "source": [
    "### Example"
   ]
  },
  {
   "cell_type": "code",
   "execution_count": null,
   "id": "fd34ed3a",
   "metadata": {},
   "outputs": [],
   "source": [
    "sql = \"\"\"CREATE TABLE UserDetails (\n",
    "    ID INT AUTO_INCREMENT PRIMARY KEY,\n",
    "    UserName VARCHAR(255),\n",
    "    Age INT,\n",
    "    UserScore FLOAT,\n",
    "    IsActive BOOL,\n",
    "    RegistrationDate DATE\n",
    ");\n",
    "\"\"\""
   ]
  },
  {
   "cell_type": "code",
   "execution_count": null,
   "id": "4adf2ca7",
   "metadata": {},
   "outputs": [],
   "source": [
    "sql = \"\"\"\n",
    "    INSERT INTO UserDetails (UserName, Age, UserScore, IsActive, RegistrationDate) VALUES\n",
    "    ('John Doe', 28, 85.5, TRUE, '2023-01-01'),\n",
    "    ('Jane Smith', 32, 92.0, FALSE, '2023-01-02'),\n",
    "    ('Emily Jones', 24, 78.9, TRUE, '2023-01-03');\n",
    "    \"\"\""
   ]
  },
  {
   "cell_type": "markdown",
   "id": "8add6da2",
   "metadata": {},
   "source": [
    "### AND, OR"
   ]
  },
  {
   "cell_type": "code",
   "execution_count": null,
   "id": "78eb3d22",
   "metadata": {},
   "outputs": [],
   "source": [
    "sql = \"\"\"SELECT *\n",
    "        FROM Orders\n",
    "        WHERE name = 'Laptop' AND price > 1000;\n",
    "    \"\"\""
   ]
  },
  {
   "cell_type": "code",
   "execution_count": null,
   "id": "ba2d3c95",
   "metadata": {},
   "outputs": [],
   "source": [
    "sql = \"\"\"SELECT *\n",
    "        FROM Orders\n",
    "        WHERE name = 'Laptop' OR name='Tablet';\n",
    "    \"\"\""
   ]
  },
  {
   "cell_type": "markdown",
   "id": "f09326a4",
   "metadata": {},
   "source": [
    "### Count, max, min, avg, sum"
   ]
  },
  {
   "cell_type": "code",
   "execution_count": null,
   "id": "38e02384",
   "metadata": {},
   "outputs": [],
   "source": [
    "sql = \"\"\"\n",
    "        SELECT COUNT(*) AS total_orders\n",
    "        FROM Orders;\n",
    "      \"\"\""
   ]
  },
  {
   "cell_type": "code",
   "execution_count": null,
   "id": "210bd2e7",
   "metadata": {},
   "outputs": [],
   "source": [
    "sql = \"\"\"\n",
    "       SELECT SUM(price) AS total_spent_on_laptops\n",
    "        FROM Orders\n",
    "        WHERE name = 'Laptop';\n",
    "      \"\"\""
   ]
  },
  {
   "cell_type": "code",
   "execution_count": null,
   "id": "83754420",
   "metadata": {},
   "outputs": [],
   "source": [
    "sql = \"\"\"\n",
    "        SELECT AVG(price) AS average_price_of_laptops\n",
    "        FROM Orders\n",
    "        WHERE name = 'Laptop';\n",
    "      \"\"\""
   ]
  },
  {
   "cell_type": "code",
   "execution_count": null,
   "id": "522d592e",
   "metadata": {},
   "outputs": [],
   "source": [
    "sql = \"\"\"\n",
    "        SELECT MIN(price) AS lowest_price_for_laptop\n",
    "        FROM Orders\n",
    "        WHERE name = 'Laptop';\n",
    "      \"\"\""
   ]
  },
  {
   "cell_type": "markdown",
   "id": "edd5d8c0",
   "metadata": {},
   "source": [
    "### Join"
   ]
  },
  {
   "cell_type": "markdown",
   "id": "bec91d6a",
   "metadata": {},
   "source": [
    "### INNER JOIN"
   ]
  },
  {
   "cell_type": "code",
   "execution_count": 31,
   "id": "5ea55dfc",
   "metadata": {},
   "outputs": [],
   "source": [
    "sql = \"\"\"\n",
    "        SELECT first_name, name FROM Orders INNER JOIN Users\n",
    "        ON Orders.user_id = Users.user_id\n",
    "    \"\"\""
   ]
  },
  {
   "cell_type": "markdown",
   "id": "7528f2f8",
   "metadata": {},
   "source": [
    "### LEFT JOIN"
   ]
  },
  {
   "cell_type": "code",
   "execution_count": 33,
   "id": "fd34c693",
   "metadata": {},
   "outputs": [],
   "source": [
    "sql = \"\"\"\n",
    "        SELECT first_name, name FROM Users LEFT JOIN Orders \n",
    "        ON Orders.user_id = Users.user_id\n",
    "    \"\"\""
   ]
  },
  {
   "cell_type": "markdown",
   "id": "883bfa71",
   "metadata": {},
   "source": [
    "### RIGHT JOIN"
   ]
  },
  {
   "cell_type": "code",
   "execution_count": 35,
   "id": "06968f60",
   "metadata": {},
   "outputs": [],
   "source": [
    "sql = \"\"\"\n",
    "        SELECT first_name, name FROM Orders RIGHT JOIN Users\n",
    "        ON Orders.user_id = Users.user_id\n",
    "    \"\"\""
   ]
  }
 ],
 "metadata": {
  "kernelspec": {
   "display_name": "Python 3 (ipykernel)",
   "language": "python",
   "name": "python3"
  },
  "language_info": {
   "codemirror_mode": {
    "name": "ipython",
    "version": 3
   },
   "file_extension": ".py",
   "mimetype": "text/x-python",
   "name": "python",
   "nbconvert_exporter": "python",
   "pygments_lexer": "ipython3",
   "version": "3.9.13"
  }
 },
 "nbformat": 4,
 "nbformat_minor": 5
}
