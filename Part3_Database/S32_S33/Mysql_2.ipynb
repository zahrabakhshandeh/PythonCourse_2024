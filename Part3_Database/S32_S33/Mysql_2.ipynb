{
 "cells": [
  {
   "cell_type": "markdown",
   "id": "4e882f1b",
   "metadata": {},
   "source": [
    "### Install MySql\n",
    "    1. sudo apt update\n",
    "    2. sudo apt upgrade\n",
    "    3. sudo apt install mysql-server\n",
    "    4. mysql --version\n",
    "    \n",
    "    Password\n",
    "    1. sudo mysql -u root\n",
    "    2. USE mysql;\n",
    "    3. ALTER USER 'root'@'localhost' IDENTIFIED WITH mysql_native_password BY 'yourpass';\n",
    "    \n",
    "### Install Mysql.connector (Python Library)\n",
    "    python -m pip install mysql-connector-python\n"
   ]
  },
  {
   "cell_type": "markdown",
   "id": "e7401946",
   "metadata": {},
   "source": [
    "### Import Library"
   ]
  },
  {
   "cell_type": "code",
   "execution_count": 2,
   "id": "bc3dac74",
   "metadata": {},
   "outputs": [],
   "source": [
    "import mysql.connector"
   ]
  },
  {
   "cell_type": "markdown",
   "id": "212de09a",
   "metadata": {},
   "source": [
    "### creating a connection"
   ]
  },
  {
   "cell_type": "code",
   "execution_count": 2,
   "id": "98eb787d",
   "metadata": {},
   "outputs": [],
   "source": [
    "mydb = mysql.connector.connect(\n",
    "  host=\"localhost\",\n",
    "  user=\"root\",\n",
    "  password=\"pass\"\n",
    ")\n",
    "mycursor = mydb.cursor()"
   ]
  },
  {
   "cell_type": "markdown",
   "id": "fc877ee2",
   "metadata": {},
   "source": [
    "### Create new Dataset"
   ]
  },
  {
   "cell_type": "code",
   "execution_count": 3,
   "id": "69872e5f",
   "metadata": {},
   "outputs": [],
   "source": [
    "sql = \"CREATE DATABASE database_1\"\n",
    "mycursor.execute(sql)"
   ]
  },
  {
   "cell_type": "markdown",
   "id": "f5f9209a",
   "metadata": {},
   "source": [
    "### Show all Datasets"
   ]
  },
  {
   "cell_type": "code",
   "execution_count": 4,
   "id": "0558385b",
   "metadata": {},
   "outputs": [],
   "source": [
    "sql = \"SHOW DATABASES\"\n",
    "mycursor.execute(sql)"
   ]
  },
  {
   "cell_type": "code",
   "execution_count": 5,
   "id": "eccb8d34",
   "metadata": {},
   "outputs": [
    {
     "data": {
      "text/plain": [
       "[('A',),\n",
       " ('Company',),\n",
       " ('DBblog',),\n",
       " ('DBblog2',),\n",
       " ('DBblog3',),\n",
       " ('DBblog_2',),\n",
       " ('GHJKKLK',),\n",
       " ('NEW',),\n",
       " ('NewOnlineShop',),\n",
       " ('None',),\n",
       " ('OnlineShop',),\n",
       " ('OnlineShop1',),\n",
       " ('OnlineShop2',),\n",
       " ('OnlineShop20',),\n",
       " ('OnlineShop3',),\n",
       " ('Online_Shop',),\n",
       " ('PythonDB',),\n",
       " ('PythonDB1',),\n",
       " ('PythonDB2',),\n",
       " ('PythonDB3',),\n",
       " ('Shop',),\n",
       " ('Shop8',),\n",
       " ('ShopDB',),\n",
       " ('Shop_Online',),\n",
       " ('Shop_db',),\n",
       " ('Students_16',),\n",
       " ('UNIVER_1',),\n",
       " ('University',),\n",
       " ('University12',),\n",
       " ('University2',),\n",
       " ('a',),\n",
       " ('b1',),\n",
       " ('bank',),\n",
       " ('bookstore',),\n",
       " ('company',),\n",
       " ('course',),\n",
       " ('d1',),\n",
       " ('database1',),\n",
       " ('database_1',),\n",
       " ('db2',),\n",
       " ('db3',),\n",
       " ('db_2',),\n",
       " ('db_class2',),\n",
       " ('db_online_shop',),\n",
       " ('fa_university1',),\n",
       " ('fani',),\n",
       " ('image_gallery',),\n",
       " ('image_gallery1',),\n",
       " ('img_gallery',),\n",
       " ('information_schema',),\n",
       " ('library_db',),\n",
       " ('mydatabase',),\n",
       " ('mysql',),\n",
       " ('new_shop',),\n",
       " ('online_shop',),\n",
       " ('p_online_shop',),\n",
       " ('performance_schema',),\n",
       " ('phone_book',),\n",
       " ('products_16',),\n",
       " ('python1',),\n",
       " ('python_t',),\n",
       " ('school',),\n",
       " ('school1',),\n",
       " ('school2',),\n",
       " ('shop',),\n",
       " ('shop_2',),\n",
       " ('student',),\n",
       " ('studentData',),\n",
       " ('sys',),\n",
       " ('test',),\n",
       " ('test10',),\n",
       " ('uni_12',),\n",
       " ('university',),\n",
       " ('upmarket',),\n",
       " ('weblogDB',)]"
      ]
     },
     "execution_count": 5,
     "metadata": {},
     "output_type": "execute_result"
    }
   ],
   "source": [
    "mycursor.fetchall()"
   ]
  },
  {
   "cell_type": "markdown",
   "id": "660bebfa",
   "metadata": {},
   "source": [
    "### Remove a Dataset"
   ]
  },
  {
   "cell_type": "code",
   "execution_count": 6,
   "id": "1f41257c",
   "metadata": {},
   "outputs": [],
   "source": [
    "sql = \"DROP DATABASE test\"\n",
    "mycursor.execute(sql)"
   ]
  },
  {
   "cell_type": "markdown",
   "id": "66d62915",
   "metadata": {},
   "source": [
    "### Connecting to \"database_1\""
   ]
  },
  {
   "cell_type": "code",
   "execution_count": 37,
   "id": "6ad516db",
   "metadata": {},
   "outputs": [],
   "source": [
    "mydb = mysql.connector.connect(\n",
    "    host = \"localhost\",\n",
    "    user = \"root\",\n",
    "    password = \"pass\",\n",
    "    database = \"database_1\"\n",
    ")"
   ]
  },
  {
   "cell_type": "code",
   "execution_count": 38,
   "id": "6d51962c",
   "metadata": {},
   "outputs": [],
   "source": [
    "mycursor = mydb.cursor()"
   ]
  },
  {
   "cell_type": "markdown",
   "id": "e86eaeb2",
   "metadata": {},
   "source": [
    "### Creating tables"
   ]
  },
  {
   "cell_type": "code",
   "execution_count": 18,
   "id": "72b8a2d7",
   "metadata": {},
   "outputs": [],
   "source": [
    "sql = \"\"\"\n",
    "        CREATE TABLE Users(\n",
    "        user_id int NOT NULL auto_increment,\n",
    "        first_name varchar(255),\n",
    "        last_name varchar(255) NOT NULL,\n",
    "        age int,\n",
    "        PRIMARY KEY (user_id)\n",
    "        );\n",
    "    \"\"\""
   ]
  },
  {
   "cell_type": "code",
   "execution_count": 20,
   "id": "7291966c",
   "metadata": {},
   "outputs": [
    {
     "name": "stdout",
     "output_type": "stream",
     "text": [
      "Error\n"
     ]
    }
   ],
   "source": [
    "try:\n",
    "    mycursor.execute(sql)\n",
    "except:\n",
    "    print(\"Error\")"
   ]
  },
  {
   "cell_type": "code",
   "execution_count": 11,
   "id": "3defc425",
   "metadata": {},
   "outputs": [],
   "source": [
    "sql = \"\"\"\n",
    "        CREATE TABLE Orders(\n",
    "        order_id int NOT NULL auto_increment,\n",
    "        name varchar(255) NOT NULL,\n",
    "        price int NOT NULL,\n",
    "        user_id int NOT NULL,\n",
    "        PRIMARY KEY (order_id),\n",
    "        FOREIGN KEY (user_id) REFERENCES Users (user_id)\n",
    "        );\n",
    "    \"\"\""
   ]
  },
  {
   "cell_type": "code",
   "execution_count": 21,
   "id": "63495f7a",
   "metadata": {},
   "outputs": [
    {
     "name": "stdout",
     "output_type": "stream",
     "text": [
      "Error\n"
     ]
    }
   ],
   "source": [
    "try:\n",
    "    mycursor.execute(sql)\n",
    "except:\n",
    "    print(\"Error\")"
   ]
  },
  {
   "cell_type": "markdown",
   "id": "ccfa845c",
   "metadata": {},
   "source": [
    "### Show Tables"
   ]
  },
  {
   "cell_type": "code",
   "execution_count": 13,
   "id": "3a5469fd",
   "metadata": {},
   "outputs": [],
   "source": [
    "sql = \"SHOW TABLES\"\n",
    "mycursor.execute(sql)"
   ]
  },
  {
   "cell_type": "code",
   "execution_count": 14,
   "id": "d161f378",
   "metadata": {},
   "outputs": [
    {
     "data": {
      "text/plain": [
       "[('Orders',), ('Users',)]"
      ]
     },
     "execution_count": 14,
     "metadata": {},
     "output_type": "execute_result"
    }
   ],
   "source": [
    "mycursor.fetchall()"
   ]
  },
  {
   "cell_type": "markdown",
   "id": "cd07d3d7",
   "metadata": {},
   "source": [
    "### DROP TABLE"
   ]
  },
  {
   "cell_type": "code",
   "execution_count": null,
   "id": "76a2d259",
   "metadata": {},
   "outputs": [],
   "source": [
    "sql = \"DROP TABLE Users\"\n",
    "#mycursor.execute(sql)"
   ]
  },
  {
   "cell_type": "markdown",
   "id": "f61cb456",
   "metadata": {},
   "source": [
    "### Insert data"
   ]
  },
  {
   "cell_type": "code",
   "execution_count": 54,
   "id": "82768b79",
   "metadata": {},
   "outputs": [],
   "source": [
    "sql = \"\"\"\n",
    "        INSERT INTO Users \n",
    "        (first_name, last_name, age)\n",
    "        VALUES \n",
    "        (%s, %s, %s)\n",
    "      \"\"\""
   ]
  },
  {
   "cell_type": "code",
   "execution_count": 55,
   "id": "bef69607",
   "metadata": {},
   "outputs": [],
   "source": [
    "first_name = \"Diana\"\n",
    "last_name = \"New\"\n",
    "age = 18"
   ]
  },
  {
   "cell_type": "code",
   "execution_count": 56,
   "id": "bbb68762",
   "metadata": {},
   "outputs": [],
   "source": [
    "mycursor.execute(sql, (first_name, last_name, age))"
   ]
  },
  {
   "cell_type": "code",
   "execution_count": 57,
   "id": "a340196f",
   "metadata": {},
   "outputs": [],
   "source": [
    "mydb.commit()"
   ]
  },
  {
   "cell_type": "code",
   "execution_count": 18,
   "id": "ab2e60e1",
   "metadata": {},
   "outputs": [],
   "source": [
    "sql = \"\"\"\n",
    "        INSERT INTO Orders (name, price, user_id)\n",
    "        VALUES\n",
    "        ('p1', 100, 1),\n",
    "        ('p2', 200, 1),\n",
    "        ('p3', 300, 2)\n",
    "        \n",
    "    \"\"\""
   ]
  },
  {
   "cell_type": "code",
   "execution_count": 19,
   "id": "a0a7797e",
   "metadata": {},
   "outputs": [],
   "source": [
    "mycursor.execute(sql)"
   ]
  },
  {
   "cell_type": "code",
   "execution_count": 20,
   "id": "99f27bb9",
   "metadata": {},
   "outputs": [],
   "source": [
    "mydb.commit()"
   ]
  },
  {
   "cell_type": "markdown",
   "id": "39377804",
   "metadata": {},
   "source": [
    "### Select"
   ]
  },
  {
   "cell_type": "code",
   "execution_count": 23,
   "id": "eb9adaf0",
   "metadata": {},
   "outputs": [],
   "source": [
    "sql = \"SELECT * FROM Orders\"\n",
    "mycursor.execute(sql)"
   ]
  },
  {
   "cell_type": "code",
   "execution_count": 24,
   "id": "2f77373f",
   "metadata": {},
   "outputs": [
    {
     "data": {
      "text/plain": [
       "[(1, 'p1', 100, 1), (2, 'p2', 200, 1), (3, 'p3', 300, 2)]"
      ]
     },
     "execution_count": 24,
     "metadata": {},
     "output_type": "execute_result"
    }
   ],
   "source": [
    "mycursor.fetchall()"
   ]
  },
  {
   "cell_type": "markdown",
   "id": "33fd046e",
   "metadata": {},
   "source": [
    "### Remove data"
   ]
  },
  {
   "cell_type": "code",
   "execution_count": 58,
   "id": "95b989a6",
   "metadata": {},
   "outputs": [],
   "source": [
    "sql = \"DELETE FROM Orders WHERE name = %s\"\n",
    "name = input(\"name for remove: \") # p4\n",
    "mycursor.execute(sql, (name,))"
   ]
  },
  {
   "cell_type": "code",
   "execution_count": 59,
   "id": "b0bdd52f",
   "metadata": {},
   "outputs": [],
   "source": [
    "mydb.commit()"
   ]
  },
  {
   "cell_type": "markdown",
   "id": "482d9f36",
   "metadata": {},
   "source": [
    "### Update data"
   ]
  },
  {
   "cell_type": "code",
   "execution_count": 15,
   "id": "776d44b0",
   "metadata": {},
   "outputs": [],
   "source": [
    "sql = \"SELECT * FROM Orders\"\n",
    "mycursor.execute(sql)"
   ]
  },
  {
   "cell_type": "code",
   "execution_count": 16,
   "id": "69a854c6",
   "metadata": {},
   "outputs": [
    {
     "data": {
      "text/plain": [
       "[(1, 'p1', 400, 1), (3, 'p3', 300, 2)]"
      ]
     },
     "execution_count": 16,
     "metadata": {},
     "output_type": "execute_result"
    }
   ],
   "source": [
    "mycursor.fetchall()"
   ]
  },
  {
   "cell_type": "code",
   "execution_count": 13,
   "id": "2c18cd9f",
   "metadata": {},
   "outputs": [],
   "source": [
    "sql = \"\"\"\n",
    "        UPDATE Orders SET price = 400 \n",
    "        WHERE price = 150\n",
    "      \"\"\"\n",
    "mycursor = mydb.cursor()"
   ]
  },
  {
   "cell_type": "code",
   "execution_count": 14,
   "id": "10db4260",
   "metadata": {},
   "outputs": [],
   "source": [
    "mycursor.execute(sql)"
   ]
  },
  {
   "cell_type": "code",
   "execution_count": 17,
   "id": "366afaac",
   "metadata": {},
   "outputs": [],
   "source": [
    "mydb.commit()"
   ]
  },
  {
   "cell_type": "markdown",
   "id": "edd5d8c0",
   "metadata": {},
   "source": [
    "### Join"
   ]
  },
  {
   "cell_type": "markdown",
   "id": "bec91d6a",
   "metadata": {},
   "source": [
    "### INNER JOIN"
   ]
  },
  {
   "cell_type": "code",
   "execution_count": 22,
   "id": "5ea55dfc",
   "metadata": {},
   "outputs": [],
   "source": [
    "sql = \"\"\"\n",
    "      SELECT first_name, name FROM Orders INNER JOIN Users\n",
    "      ON Orders.user_id = Users.user_id\n",
    "      \"\"\""
   ]
  },
  {
   "cell_type": "code",
   "execution_count": 23,
   "id": "d292ba73",
   "metadata": {},
   "outputs": [],
   "source": [
    "mycursor.execute(sql)"
   ]
  },
  {
   "cell_type": "code",
   "execution_count": 24,
   "id": "220d33a6",
   "metadata": {},
   "outputs": [
    {
     "data": {
      "text/plain": [
       "[('A', 'p1'), ('A', 'p3')]"
      ]
     },
     "execution_count": 24,
     "metadata": {},
     "output_type": "execute_result"
    }
   ],
   "source": [
    "mycursor.fetchall()"
   ]
  },
  {
   "cell_type": "markdown",
   "id": "7528f2f8",
   "metadata": {},
   "source": [
    "### LEFT JOIN"
   ]
  },
  {
   "cell_type": "code",
   "execution_count": 48,
   "id": "fd34c693",
   "metadata": {},
   "outputs": [],
   "source": [
    "sql = \"\"\"\n",
    "        SELECT COUNT(*) FROM Users LEFT JOIN Orders \n",
    "        ON \n",
    "            Orders.user_id = Users.user_id \n",
    "        WHERE \n",
    "            Orders.user_id IS NULL\n",
    "      \"\"\""
   ]
  },
  {
   "cell_type": "code",
   "execution_count": 49,
   "id": "15f2d362",
   "metadata": {},
   "outputs": [],
   "source": [
    "mycursor.execute(sql)"
   ]
  },
  {
   "cell_type": "code",
   "execution_count": 50,
   "id": "18769613",
   "metadata": {},
   "outputs": [],
   "source": [
    "result = mycursor.fetchall()"
   ]
  },
  {
   "cell_type": "code",
   "execution_count": 51,
   "id": "8c912d15",
   "metadata": {},
   "outputs": [
    {
     "data": {
      "text/plain": [
       "[(1,)]"
      ]
     },
     "execution_count": 51,
     "metadata": {},
     "output_type": "execute_result"
    }
   ],
   "source": [
    "result"
   ]
  },
  {
   "cell_type": "markdown",
   "id": "883bfa71",
   "metadata": {},
   "source": [
    "### RIGHT JOIN"
   ]
  },
  {
   "cell_type": "code",
   "execution_count": null,
   "id": "06968f60",
   "metadata": {},
   "outputs": [],
   "source": [
    "sql = \"\"\"\n",
    "        SELECT COUNT(*) FROM Orders RIGHT JOIN Users\n",
    "        ON \n",
    "            Orders.user_id = Users.user_id \n",
    "        WHERE \n",
    "            Orders.user_id IS NULL\n",
    "      \"\"\""
   ]
  },
  {
   "cell_type": "code",
   "execution_count": null,
   "id": "754c7f1a",
   "metadata": {},
   "outputs": [],
   "source": []
  },
  {
   "cell_type": "code",
   "execution_count": null,
   "id": "829aa876",
   "metadata": {},
   "outputs": [],
   "source": []
  }
 ],
 "metadata": {
  "kernelspec": {
   "display_name": "Python 3 (ipykernel)",
   "language": "python",
   "name": "python3"
  },
  "language_info": {
   "codemirror_mode": {
    "name": "ipython",
    "version": 3
   },
   "file_extension": ".py",
   "mimetype": "text/x-python",
   "name": "python",
   "nbconvert_exporter": "python",
   "pygments_lexer": "ipython3",
   "version": "3.9.13"
  }
 },
 "nbformat": 4,
 "nbformat_minor": 5
}
