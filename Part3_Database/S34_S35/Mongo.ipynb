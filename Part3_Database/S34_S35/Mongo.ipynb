{
 "cells": [
  {
   "cell_type": "markdown",
   "metadata": {},
   "source": [
    "## MongoDb"
   ]
  },
  {
   "cell_type": "markdown",
   "metadata": {},
   "source": [
    "#### CRUD operations: Create, Read, Update, Delete"
   ]
  },
  {
   "cell_type": "markdown",
   "metadata": {},
   "source": [
    "### Create Database"
   ]
  },
  {
   "cell_type": "code",
   "execution_count": null,
   "metadata": {},
   "outputs": [],
   "source": [
    "var1 = \"use ProductStore\""
   ]
  },
  {
   "cell_type": "markdown",
   "metadata": {},
   "source": [
    "### db"
   ]
  },
  {
   "cell_type": "code",
   "execution_count": null,
   "metadata": {},
   "outputs": [],
   "source": [
    "## show collections\n",
    "var1 = \"show collections\"\n",
    "\n",
    "## show dbs\n",
    "var2 = \"show dbs\"\n",
    "\n",
    "## show current database\n",
    "var3 = \"db\""
   ]
  },
  {
   "cell_type": "markdown",
   "metadata": {},
   "source": [
    "### Create Collections"
   ]
  },
  {
   "cell_type": "code",
   "execution_count": null,
   "metadata": {},
   "outputs": [],
   "source": [
    "var1 = 'db.createCollection(\"Products\")'\n",
    "var2 = 'db.createCollection(\"Customers\")'"
   ]
  },
  {
   "cell_type": "markdown",
   "metadata": {},
   "source": [
    "### Insert"
   ]
  },
  {
   "cell_type": "code",
   "execution_count": null,
   "metadata": {},
   "outputs": [],
   "source": [
    "# Insert One\n",
    "var1 = '''db.Products.insertOne({\n",
    "  name: \"Laptop\",\n",
    "  category: \"Electronics\",\n",
    "  price: 999.99,\n",
    "  details: { brand: \"TechBrand\", model: \"TB-1000\" }\n",
    "})'''"
   ]
  },
  {
   "cell_type": "code",
   "execution_count": null,
   "metadata": {},
   "outputs": [],
   "source": [
    "# Insert Many\n",
    "var2 = '''\n",
    "    db.customers.insertMany([\n",
    "    { name: \"Ali\", email: \"ali@gmail.com\", totalOrders: 3 },\n",
    "    { name: \"sara\", email: \"sara@gmail.com\", totalOrders: 5 },\n",
    "    { name: \"Diana\", email: \"diana@gmail.com\", totalOrders: 2 }\n",
    "])'''"
   ]
  },
  {
   "cell_type": "markdown",
   "metadata": {},
   "source": [
    "### Find"
   ]
  },
  {
   "cell_type": "code",
   "execution_count": null,
   "metadata": {},
   "outputs": [],
   "source": [
    "## find\n",
    "var1 = \"db.Products.find()\"\n",
    "var2 = \"db.Products.find({name:'Laptop'})\"\n",
    "var4 = 'db.Products.find({}, { name: 1, _id: 0 })'"
   ]
  },
  {
   "cell_type": "code",
   "execution_count": null,
   "metadata": {},
   "outputs": [],
   "source": [
    "## findOne\n",
    "var1 = \"db.Products.findOne({name:'Laptop'})\""
   ]
  },
  {
   "cell_type": "markdown",
   "metadata": {},
   "source": [
    "### Comparison\n",
    "    $eq: Equal to\n",
    "    $ne: Not equal to\n",
    "    $gt: Greater than\n",
    "    $gte: Greater than or equal\n",
    "    $lt: Less than\n",
    "    $lte: Less than or equal\n",
    "\n",
    "### Logical\n",
    "    $and: Both queries match\n",
    "    $or: Either query matches\n",
    "    $not: Query does not match"
   ]
  },
  {
   "cell_type": "code",
   "execution_count": 1,
   "metadata": {},
   "outputs": [],
   "source": [
    "var1 = 'db.customers.find({ totalOrders: { $eq: 3 } })'\n",
    "var2 = 'db.Customers.find({ totalOrders: { $gt: 3 } })'\n",
    "var3 = 'db.Customers.find({ totalOrders: { $gte: 3 } })'\n",
    "var4 = 'db.Customers.find({ totalOrders: { $lt: 3 } })'\n",
    "var5 = 'db.Customers.find({ totalOrders: { $lte: 2 } })'\n",
    "var6 = 'db.Customers.find({ $and: [{ name: \"Ali\" }, { totalOrders: 3 }] })'\n",
    "var7 = 'db.Customers.find({ $or: [{ name: \"Ali\" }, { totalOrders: { $gt: 4 } }] })'\n",
    "var9 = 'db.Customers.find({ name: { $not: { $eq: \"Ali\" } } })'"
   ]
  },
  {
   "cell_type": "markdown",
   "metadata": {},
   "source": [
    "### delete"
   ]
  },
  {
   "cell_type": "code",
   "execution_count": null,
   "metadata": {},
   "outputs": [],
   "source": [
    "## delete One\n",
    "var1 = 'db.Products.deleteOne({ \"name\": \"Laptop\" })'\n",
    "\n",
    "## delete Many\n",
    "var2 = 'db.Customers.deleteMany({ \"totalOrders\": { $gt: 2 } })'"
   ]
  },
  {
   "cell_type": "markdown",
   "metadata": {},
   "source": [
    "## update"
   ]
  },
  {
   "cell_type": "code",
   "execution_count": null,
   "metadata": {},
   "outputs": [],
   "source": [
    "## update one\n",
    "var1 = '''db.Products.updateOne(\n",
    "    { \"name\": \"Laptop\" },  \n",
    "    { $set: { \"price\": 1099.99 } }  \n",
    "    )'''\n",
    "\n",
    "## update many\n",
    "var2 = '''db.Customers.updateMany(\n",
    "  { \"name\": \"Ali\" }, \n",
    "  { $set: { \"email\": \"ali_new@gmail.com\" } }  \n",
    ")'''"
   ]
  },
  {
   "cell_type": "markdown",
   "metadata": {},
   "source": [
    "### Drop"
   ]
  },
  {
   "cell_type": "code",
   "execution_count": null,
   "metadata": {},
   "outputs": [],
   "source": [
    "## Drop Database\n",
    "var1 = 'db.dropDatabase()'\n",
    "\n",
    "## Drop Collection\n",
    "var2 = 'db.Customers.drop()'"
   ]
  }
 ],
 "metadata": {
  "kernelspec": {
   "display_name": "base",
   "language": "python",
   "name": "python3"
  },
  "language_info": {
   "codemirror_mode": {
    "name": "ipython",
    "version": 3
   },
   "file_extension": ".py",
   "mimetype": "text/x-python",
   "name": "python",
   "nbconvert_exporter": "python",
   "pygments_lexer": "ipython3",
   "version": "3.9.13"
  },
  "orig_nbformat": 4
 },
 "nbformat": 4,
 "nbformat_minor": 2
}
