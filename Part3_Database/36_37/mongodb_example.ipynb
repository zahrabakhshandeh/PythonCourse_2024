{
 "cells": [
  {
   "cell_type": "markdown",
   "metadata": {},
   "source": [
    "### MongoDB"
   ]
  },
  {
   "cell_type": "code",
   "execution_count": 1,
   "metadata": {},
   "outputs": [],
   "source": [
    "from pymongo import MongoClient"
   ]
  },
  {
   "cell_type": "code",
   "execution_count": 2,
   "metadata": {},
   "outputs": [
    {
     "name": "stdout",
     "output_type": "stream",
     "text": [
      "connected to MongoDB!\n"
     ]
    }
   ],
   "source": [
    "# step1: connect to the MongoDB server\n",
    "client = MongoClient(\"mongodb://localhost:27017/\")\n",
    "print(\"connected to MongoDB!\")"
   ]
  },
  {
   "cell_type": "code",
   "execution_count": 3,
   "metadata": {},
   "outputs": [],
   "source": [
    "# step2: Create or Select a database \n",
    "db = client[\"db_users\"]\n",
    "\n",
    "#step3: Create or select a colloction\n",
    "collection = db[\"users\"]"
   ]
  },
  {
   "cell_type": "code",
   "execution_count": 16,
   "metadata": {},
   "outputs": [],
   "source": [
    "data = {\n",
    "    \"name\": \"User1\",\n",
    "    \"age\": 17\n",
    "}"
   ]
  },
  {
   "cell_type": "code",
   "execution_count": 14,
   "metadata": {},
   "outputs": [
    {
     "name": "stdout",
     "output_type": "stream",
     "text": [
      "675846f5cbbeae256791d66b\n"
     ]
    }
   ],
   "source": [
    "# db.users.insertOne({})\n",
    "result = collection.insert_one(data)\n",
    "print(result.inserted_id)"
   ]
  },
  {
   "cell_type": "code",
   "execution_count": 21,
   "metadata": {},
   "outputs": [
    {
     "data": {
      "text/plain": [
       "[{'name': 'User1', 'age': 17}, {'name': 'User1', 'age': 17}]"
      ]
     },
     "execution_count": 21,
     "metadata": {},
     "output_type": "execute_result"
    }
   ],
   "source": [
    "list2 = [\n",
    "    {\n",
    "    \"name\": \"User1\",\n",
    "    \"age\": 17\n",
    "},\n",
    "{\n",
    "    \"name\": \"User1\",\n",
    "    \"age\": 17\n",
    "}\n",
    "]\n",
    "list2"
   ]
  },
  {
   "cell_type": "code",
   "execution_count": 22,
   "metadata": {},
   "outputs": [
    {
     "name": "stdout",
     "output_type": "stream",
     "text": [
      "InsertManyResult([ObjectId('67584865cbbeae256791d66d'), ObjectId('67584865cbbeae256791d66e')], acknowledged=True)\n"
     ]
    }
   ],
   "source": [
    "result = collection.insert_many(list2)\n",
    "print(result)"
   ]
  },
  {
   "cell_type": "code",
   "execution_count": 23,
   "metadata": {},
   "outputs": [],
   "source": [
    "# db.users.updateOne({\"name\":\"U2\"},{\"$set\":{\"age\":31}})\n",
    "condition = {\"name\":\"U2\"}\n",
    "new_value = {\"$set\":{\"age\":31}}\n",
    "result = collection.update_one(condition, new_value)"
   ]
  }
 ],
 "metadata": {
  "kernelspec": {
   "display_name": "base",
   "language": "python",
   "name": "python3"
  },
  "language_info": {
   "codemirror_mode": {
    "name": "ipython",
    "version": 3
   },
   "file_extension": ".py",
   "mimetype": "text/x-python",
   "name": "python",
   "nbconvert_exporter": "python",
   "pygments_lexer": "ipython3",
   "version": "3.9.13"
  }
 },
 "nbformat": 4,
 "nbformat_minor": 2
}
