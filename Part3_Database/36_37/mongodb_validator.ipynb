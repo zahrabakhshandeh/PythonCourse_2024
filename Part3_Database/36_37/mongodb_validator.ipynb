{
 "cells": [
  {
   "cell_type": "markdown",
   "metadata": {},
   "source": [
    "## validator"
   ]
  },
  {
   "cell_type": "code",
   "execution_count": null,
   "metadata": {},
   "outputs": [],
   "source": [
    "var1 = \"use OnlineBookstore\""
   ]
  },
  {
   "cell_type": "markdown",
   "metadata": {},
   "source": [
    "## collection1"
   ]
  },
  {
   "cell_type": "code",
   "execution_count": null,
   "metadata": {},
   "outputs": [],
   "source": [
    "var2 = \"\"\"\n",
    "    db.createCollection(\"Books\", {\n",
    "    validator: {\n",
    "        $jsonSchema: {\n",
    "        bsonType: \"object\",\n",
    "        required: [\"title\", \"author\", \"price\"],\n",
    "        properties: {\n",
    "            title: {\n",
    "            bsonType: \"string\",\n",
    "            description: \"must be a string and is required\"\n",
    "            },\n",
    "            author: {\n",
    "            bsonType: \"string\",\n",
    "            description: \"must be a string and is required\"\n",
    "            },\n",
    "            price: {\n",
    "            bsonType: \"double\",\n",
    "            description: \"must be a double and is required\"\n",
    "            }\n",
    "        }\n",
    "        }\n",
    "    }\n",
    "});\n",
    "\"\"\""
   ]
  },
  {
   "cell_type": "markdown",
   "metadata": {},
   "source": [
    "## collection2"
   ]
  },
  {
   "cell_type": "code",
   "execution_count": null,
   "metadata": {},
   "outputs": [],
   "source": [
    "var3 = \"\"\"\n",
    "    db.createCollection(\"Reviews1\", {\n",
    "  validator: {\n",
    "    $jsonSchema: {\n",
    "      bsonType: \"object\",\n",
    "      additionalProperties: false,\n",
    "      required: [\"bookId\", \"username\", \"rating\", \"comment\"],\n",
    "      properties: {\n",
    "        _id: {},\n",
    "        bookId: {\n",
    "          bsonType: \"objectId\",\n",
    "          description: \"must be an objectId and is required\"\n",
    "        },\n",
    "        username: {\n",
    "          bsonType: \"string\",\n",
    "          description: \"must be a string and is required\"\n",
    "        },\n",
    "        rating: {\n",
    "          bsonType: \"int\",\n",
    "          description: \"must be an integer and is required\"\n",
    "        },\n",
    "        comment: {\n",
    "          bsonType: \"string\",\n",
    "          description: \"must be a string and is required\"\n",
    "        }\n",
    "      }\n",
    "    }\n",
    "  },\n",
    "  validationLevel: \"strict\"\n",
    "});\n",
    "\"\"\""
   ]
  },
  {
   "cell_type": "code",
   "execution_count": null,
   "metadata": {},
   "outputs": [],
   "source": [
    "var4 = \"let bookId = db.Books.findOne()._id\"\n",
    "\n",
    "var5 = \"\"\"db.Reviews.insertMany([\n",
    "  { bookId: bookId, username: \"User1\", rating: 5, comment: \"Loved this book!\" },\n",
    "  { bookId: bookId, username: \"User2\", rating: 4, comment: \"Great read, highly recommend.\" }\n",
    "]);\"\"\"\n"
   ]
  }
 ],
 "metadata": {
  "kernelspec": {
   "display_name": "base",
   "language": "python",
   "name": "python3"
  },
  "language_info": {
   "codemirror_mode": {
    "name": "ipython",
    "version": 3
   },
   "file_extension": ".py",
   "mimetype": "text/x-python",
   "name": "python",
   "nbconvert_exporter": "python",
   "pygments_lexer": "ipython3",
   "version": "3.9.13"
  },
  "orig_nbformat": 4
 },
 "nbformat": 4,
 "nbformat_minor": 2
}
